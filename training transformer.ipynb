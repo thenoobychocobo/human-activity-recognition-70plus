{
 "cells": [
  {
   "cell_type": "markdown",
   "metadata": {},
   "source": [
    "# Training the model\n",
    "**Table of Contents**\n",
    "1. [Setup](#1-setup)\n",
    "2. [Dataset Preparation](#2-dataset-preparation)\n",
    "3. [Training Loop](#3-training-loop)\n"
   ]
  },
  {
   "cell_type": "markdown",
   "metadata": {},
   "source": [
    "## 1. Setup"
   ]
  },
  {
   "cell_type": "code",
   "execution_count": 1,
   "metadata": {},
   "outputs": [],
   "source": [
    "# Automatic reloading\n",
    "%load_ext autoreload\n",
    "%autoreload 2"
   ]
  },
  {
   "cell_type": "code",
   "execution_count": 2,
   "metadata": {},
   "outputs": [],
   "source": [
    "####################\n",
    "# Required Modules #\n",
    "####################\n",
    "\n",
    "# Generic/Built-in\n",
    "import random\n",
    "\n",
    "# Libs\n",
    "import torch\n",
    "import numpy as np\n",
    "from torch.utils.data import DataLoader\n",
    "\n",
    "# Custom\n",
    "from src.data_preparation import *\n",
    "from src.models import *\n",
    "from src.train_eval import *"
   ]
  },
  {
   "cell_type": "code",
   "execution_count": 3,
   "metadata": {},
   "outputs": [],
   "source": [
    "# Seeding\n",
    "SEED = 42\n",
    "\n",
    "# To be safe, seed all modules for full reproducibility\n",
    "torch.manual_seed(SEED)\n",
    "torch.cuda.manual_seed_all(SEED)  # If using CUDA\n",
    "np.random.seed(SEED)\n",
    "random.seed(SEED)"
   ]
  },
  {
   "cell_type": "markdown",
   "metadata": {},
   "source": [
    "## 2. Dataset Preparation"
   ]
  },
  {
   "cell_type": "code",
   "execution_count": 4,
   "metadata": {},
   "outputs": [
    {
     "name": "stdout",
     "output_type": "stream",
     "text": [
      "✅ HARDataset object, normalization statistics, and split indices loaded from saved_components\n",
      "✅ Created train, validation, and test datasets (normalized to train set)\n"
     ]
    }
   ],
   "source": [
    "train_dataset, val_dataset, test_dataset, norm_stats = prepare_datasets(\n",
    "    sequence_size=1000,\n",
    "    stride=25,\n",
    "    train_ratio=0.8,\n",
    "    val_ratio=0.1,\n",
    "    test_ratio=0.1,\n",
    "    random_state=SEED,\n",
    "    load_if_exists=True\n",
    ")"
   ]
  },
  {
   "cell_type": "markdown",
   "metadata": {},
   "source": [
    "## 3. Training Loop"
   ]
  },
  {
   "cell_type": "code",
   "execution_count": 5,
   "metadata": {},
   "outputs": [],
   "source": [
    "# Hyperparameters\n",
    "batch_size = 64\n",
    "learning_rate = 0.001\n",
    "num_epochs = 5"
   ]
  },
  {
   "cell_type": "code",
   "execution_count": 6,
   "metadata": {},
   "outputs": [],
   "source": [
    "# Dataloaders\n",
    "train_dataloader = DataLoader(train_dataset, batch_size = batch_size, shuffle = True)\n",
    "validation_dataloader = DataLoader(val_dataset, batch_size = batch_size, shuffle = True)\n",
    "test_dataloader = DataLoader(test_dataset, batch_size = batch_size, shuffle = True)"
   ]
  },
  {
   "cell_type": "code",
   "execution_count": 7,
   "metadata": {},
   "outputs": [
    {
     "name": "stdout",
     "output_type": "stream",
     "text": [
      "HarTransformer model loaded on cuda.\n"
     ]
    }
   ],
   "source": [
    "# Load model\n",
    "model = HarTransformer(\n",
    "    input_size=6,\n",
    "    hidden_size=30,\n",
    "    num_layers=2,\n",
    "    num_heads=2,\n",
    "    dropout_prob=0.1,\n",
    "    num_classes=7,\n",
    ")\n",
    "optimizer = torch.optim.Adam(model.parameters(), lr = learning_rate)"
   ]
  },
  {
   "cell_type": "code",
   "execution_count": 8,
   "metadata": {},
   "outputs": [
    {
     "name": "stdout",
     "output_type": "stream",
     "text": [
      "Epoch [1/5] | Time: 204.18s\n",
      "(Training) Loss: 0.0039\n",
      "(Validation) Loss: 0.0027, Accuracy: 0.5615, F1: 0.5502, Precision: 0.6816, Recall: 0.5615\n",
      "==========================================================================================\n",
      "Epoch [2/5] | Time: 189.72s\n",
      "(Training) Loss: 0.0025\n",
      "(Validation) Loss: 0.0022, Accuracy: 0.5938, F1: 0.6109, Precision: 0.6974, Recall: 0.5938\n",
      "==========================================================================================\n",
      "Epoch [3/5] | Time: 190.13s\n",
      "(Training) Loss: 0.0022\n",
      "(Validation) Loss: 0.0020, Accuracy: 0.6017, F1: 0.6071, Precision: 0.6465, Recall: 0.6017\n",
      "==========================================================================================\n",
      "Epoch [4/5] | Time: 190.16s\n",
      "(Training) Loss: 0.0021\n",
      "(Validation) Loss: 0.0021, Accuracy: 0.6733, F1: 0.6437, Precision: 0.6570, Recall: 0.6733\n",
      "==========================================================================================\n",
      "Epoch [5/5] | Time: 191.71s\n",
      "(Training) Loss: 0.0020\n",
      "(Validation) Loss: 0.0019, Accuracy: 0.6741, F1: 0.6805, Precision: 0.6954, Recall: 0.6741\n",
      "✅ Model saved: models\\HarTransformer_2025-03-12_22-11-47\\HarTransformer_epoch5.pth\n",
      "==========================================================================================\n"
     ]
    }
   ],
   "source": [
    "training_loss_history, validation_loss_history, accuracy_history, f1_history, precision_history, recall_history = train_HAR70_model(\n",
    "    model, \n",
    "    optimizer, \n",
    "    train_dataloader, \n",
    "    validation_dataloader, \n",
    "    num_epochs = num_epochs\n",
    ")"
   ]
  },
  {
   "cell_type": "code",
   "execution_count": 11,
   "metadata": {},
   "outputs": [
    {
     "name": "stdout",
     "output_type": "stream",
     "text": [
      "✅ Plots saved to: results\\HarGRU_2025-03-12_00-00-38\n",
      "✅ Metric histories saved to: results\\HarGRU_2025-03-12_00-00-38\\metric_histories.pth\n"
     ]
    }
   ],
   "source": [
    "save_training_plots_and_metric_history(training_loss_history, validation_loss_history, accuracy_history, f1_history, precision_history, recall_history, type(model).__name__)"
   ]
  },
  {
   "cell_type": "code",
   "execution_count": 12,
   "metadata": {},
   "outputs": [
    {
     "name": "stdout",
     "output_type": "stream",
     "text": [
      "(Test) Loss: 0.0021, Accuracy: 0.6007, F1: 0.6197, Precision: 0.7078, Recall: 0.6007\n"
     ]
    }
   ],
   "source": [
    "# Test metrics\n",
    "loss, accuracy, f1, precision, recall, conf_matrix = evaluate_HAR70_model(model, test_dataloader)\n",
    "print(f\"(Test) Loss: {loss:.4f}, Accuracy: {accuracy:.4f}, F1: {f1:.4f}, Precision: {precision:.4f}, Recall: {recall:.4f}\")"
   ]
  }
 ],
 "metadata": {
  "kernelspec": {
   "display_name": "term6",
   "language": "python",
   "name": "python3"
  },
  "language_info": {
   "codemirror_mode": {
    "name": "ipython",
    "version": 3
   },
   "file_extension": ".py",
   "mimetype": "text/x-python",
   "name": "python",
   "nbconvert_exporter": "python",
   "pygments_lexer": "ipython3",
   "version": "3.12.8"
  }
 },
 "nbformat": 4,
 "nbformat_minor": 2
}
