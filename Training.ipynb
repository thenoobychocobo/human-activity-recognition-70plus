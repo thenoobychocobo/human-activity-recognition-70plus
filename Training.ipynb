{
 "cells": [
  {
   "cell_type": "markdown",
   "metadata": {},
   "source": [
    "# Training the model\n",
    "**Table of Contents**\n",
    "1. [Setup](#1-setup)\n",
    "2. [Dataset Preparation](#2-dataset-preparation)\n",
    "3. [Training Loop](#3-training-loop)\n"
   ]
  },
  {
   "cell_type": "markdown",
   "metadata": {},
   "source": [
    "## 1. Setup"
   ]
  },
  {
   "cell_type": "code",
   "execution_count": 2,
   "metadata": {},
   "outputs": [],
   "source": [
    "# Automatic reloading\n",
    "%load_ext autoreload\n",
    "%autoreload 2"
   ]
  },
  {
   "cell_type": "code",
   "execution_count": null,
   "metadata": {},
   "outputs": [],
   "source": [
    "####################\n",
    "# Required Modules #\n",
    "####################\n",
    "\n",
    "# Generic/Built-in\n",
    "import random\n",
    "\n",
    "# Libs\n",
    "import torch\n",
    "import numpy as np\n",
    "from torch.utils.data import DataLoader\n",
    "\n",
    "# Custom\n",
    "from src.data_preparation import *\n",
    "from src.models import *\n",
    "from src.train_eval import *"
   ]
  },
  {
   "cell_type": "code",
   "execution_count": 3,
   "metadata": {},
   "outputs": [],
   "source": [
    "# Seeding\n",
    "SEED = 42\n",
    "\n",
    "# To be safe, seed all modules for full reproducibility\n",
    "torch.manual_seed(SEED)\n",
    "torch.cuda.manual_seed_all(SEED)  # If using CUDA\n",
    "np.random.seed(SEED)\n",
    "random.seed(SEED)"
   ]
  },
  {
   "cell_type": "markdown",
   "metadata": {},
   "source": [
    "## 2. Dataset Preparation"
   ]
  },
  {
   "cell_type": "code",
   "execution_count": 4,
   "metadata": {},
   "outputs": [
    {
     "name": "stdout",
     "output_type": "stream",
     "text": [
      "🔄 Preparing dataset: Sequence Size: 1000, Stride: 25, Gap Threshold: 0.05\n",
      "📂 Dataset already downloaded: data\\har70.zip\n",
      "📂 Dataset already extracted in data\\har70plus\n",
      "✅ Successfully loaded HAR70+ dataset (2259597 timestep samples).\n",
      "✅ Components (HARDataset object, normalization statistics, and split indices) saved to saved_components\n",
      "✅ Created train, validation, and test datasets (normalized to train set)\n"
     ]
    }
   ],
   "source": [
    "train_dataset, val_dataset, test_dataset, norm_stats = prepare_datasets(\n",
    "    sequence_size=1000,\n",
    "    stride=25,\n",
    "    train_ratio=0.8,\n",
    "    val_ratio=0.1,\n",
    "    test_ratio=0.1,\n",
    "    random_state=SEED,\n",
    "    load_if_exists=True\n",
    ")"
   ]
  },
  {
   "cell_type": "markdown",
   "metadata": {},
   "source": [
    "## 3. Training Loop"
   ]
  },
  {
   "cell_type": "code",
   "execution_count": 5,
   "metadata": {},
   "outputs": [],
   "source": [
    "# Hyperparameters\n",
    "batch_size = 64\n",
    "learning_rate = 0.001\n",
    "num_epochs = 5"
   ]
  },
  {
   "cell_type": "code",
   "execution_count": null,
   "metadata": {},
   "outputs": [],
   "source": [
    "# Dataloaders\n",
    "train_dataloader = DataLoader(train_dataset, batch_size = batch_size, shuffle = True)\n",
    "validation_dataloader = DataLoader(val_dataset, batch_size = batch_size, shuffle = True)\n",
    "test_dataloader = DataLoader(test_dataset, batch_size = batch_size, shuffle = True)"
   ]
  },
  {
   "cell_type": "code",
   "execution_count": 7,
   "metadata": {},
   "outputs": [
    {
     "name": "stdout",
     "output_type": "stream",
     "text": [
      "HarGRU model loaded on cuda.\n"
     ]
    }
   ],
   "source": [
    "# Load model\n",
    "model = HarGRU()\n",
    "# model.load_state_dict(torch.load(\"models/HarGRU_2025-03-11_19-11-04/HarGRU_epoch100.pth\"))\n",
    "optimizer = torch.optim.Adam(model.parameters(), lr = learning_rate)"
   ]
  },
  {
   "cell_type": "code",
   "execution_count": 8,
   "metadata": {},
   "outputs": [
    {
     "name": "stdout",
     "output_type": "stream",
     "text": [
      "Epoch [1/5] | Time: 38.11s\n",
      "(Training) Loss: 0.0062\n",
      "(Validation) Loss: 0.0036, Accuracy: 0.5536, F1: 0.5442, Precision: 0.5356, Recall: 0.5536\n",
      "==========================================================================================\n",
      "Epoch [2/5] | Time: 34.02s\n",
      "(Training) Loss: 0.0031\n",
      "(Validation) Loss: 0.0028, Accuracy: 0.5586, F1: 0.5486, Precision: 0.5395, Recall: 0.5586\n",
      "==========================================================================================\n",
      "Epoch [3/5] | Time: 32.01s\n",
      "(Training) Loss: 0.0027\n",
      "(Validation) Loss: 0.0025, Accuracy: 0.5599, F1: 0.5499, Precision: 0.5408, Recall: 0.5599\n",
      "==========================================================================================\n",
      "Epoch [4/5] | Time: 36.69s\n",
      "(Training) Loss: 0.0024\n",
      "(Validation) Loss: 0.0024, Accuracy: 0.5670, F1: 0.5680, Precision: 0.6202, Recall: 0.5670\n",
      "==========================================================================================\n",
      "Epoch [5/5] | Time: 36.69s\n",
      "(Training) Loss: 0.0021\n",
      "(Validation) Loss: 0.0020, Accuracy: 0.5898, F1: 0.6035, Precision: 0.7496, Recall: 0.5898\n",
      "✅ Model saved: models\\HarGRU_2025-03-11_23-56-06\\HarGRU_epoch5.pth\n",
      "==========================================================================================\n"
     ]
    }
   ],
   "source": [
    "training_loss_history, validation_loss_history, accuracy_history, f1_history, precision_history, recall_history = train_HAR70_model(\n",
    "    model, \n",
    "    optimizer, \n",
    "    train_dataloader, \n",
    "    validation_dataloader, \n",
    "    num_epochs = num_epochs\n",
    ")"
   ]
  },
  {
   "cell_type": "code",
   "execution_count": 11,
   "metadata": {},
   "outputs": [
    {
     "name": "stdout",
     "output_type": "stream",
     "text": [
      "✅ Plots saved to: results\\HarGRU_2025-03-12_00-00-38\n",
      "✅ Metric histories saved to: results\\HarGRU_2025-03-12_00-00-38\\metric_histories.pth\n"
     ]
    }
   ],
   "source": [
    "save_training_plots_and_metric_history(training_loss_history, validation_loss_history, accuracy_history, f1_history, precision_history, recall_history, type(model).__name__)"
   ]
  },
  {
   "cell_type": "code",
   "execution_count": 12,
   "metadata": {},
   "outputs": [
    {
     "name": "stdout",
     "output_type": "stream",
     "text": [
      "(Test) Loss: 0.0021, Accuracy: 0.6007, F1: 0.6197, Precision: 0.7078, Recall: 0.6007\n"
     ]
    }
   ],
   "source": [
    "# Test metrics\n",
    "loss, accuracy, f1, precision, recall, conf_matrix = evaluate_HAR70_model(model, test_dataloader)\n",
    "print(f\"(Test) Loss: {loss:.4f}, Accuracy: {accuracy:.4f}, F1: {f1:.4f}, Precision: {precision:.4f}, Recall: {recall:.4f}\")"
   ]
  }
 ],
 "metadata": {
  "kernelspec": {
   "display_name": "term6",
   "language": "python",
   "name": "python3"
  },
  "language_info": {
   "codemirror_mode": {
    "name": "ipython",
    "version": 3
   },
   "file_extension": ".py",
   "mimetype": "text/x-python",
   "name": "python",
   "nbconvert_exporter": "python",
   "pygments_lexer": "ipython3",
   "version": "3.12.8"
  }
 },
 "nbformat": 4,
 "nbformat_minor": 2
}
