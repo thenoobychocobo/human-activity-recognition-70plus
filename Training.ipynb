{
 "cells": [
  {
   "cell_type": "markdown",
   "metadata": {},
   "source": [
    "# Training"
   ]
  },
  {
   "cell_type": "code",
   "execution_count": 1,
   "metadata": {},
   "outputs": [],
   "source": [
    "# Automatic reloading\n",
    "%load_ext autoreload\n",
    "%autoreload 2"
   ]
  },
  {
   "cell_type": "code",
   "execution_count": 2,
   "metadata": {},
   "outputs": [],
   "source": [
    "from src.data_preparation import *\n",
    "from src.models import *\n",
    "from src.train_eval import *\n",
    "\n",
    "from torch.utils.data import DataLoader"
   ]
  },
  {
   "cell_type": "code",
   "execution_count": 3,
   "metadata": {},
   "outputs": [
    {
     "name": "stdout",
     "output_type": "stream",
     "text": [
      "🔄 Preparing dataset: Sequence Size: 1000, Stride: 25, Gap Threshold: 0.05\n",
      "📂 Dataset already downloaded: data\\har70.zip\n",
      "📂 Dataset already extracted in data\\har70plus\n",
      "✅ Successfully loaded HAR70+ dataset (2259597 timestep samples).\n",
      "✅ Components (HARDataset object, normalization statistics, and split indices) saved to saved_components\n",
      "✅ Created train, validation, and test datasets (normalized to train set)\n"
     ]
    }
   ],
   "source": [
    "train_dataset, val_dataset, test_dataset, norm_stats = prepare_datasets(\n",
    "    sequence_size=1000,\n",
    "    stride=25,\n",
    "    train_ratio=0.8,\n",
    "    val_ratio=0.1,\n",
    "    test_ratio=0.1,\n",
    "    random_state=42,\n",
    "    load_if_exists=True\n",
    ")"
   ]
  },
  {
   "cell_type": "code",
   "execution_count": 4,
   "metadata": {},
   "outputs": [],
   "source": [
    "train_dataloader = DataLoader(train_dataset, batch_size = 64, shuffle= True)\n",
    "validation_dataloader = DataLoader(val_dataset, batch_size = 64, shuffle= True)\n",
    "test_dataloader = DataLoader(test_dataset, batch_size = 64, shuffle= True)"
   ]
  },
  {
   "cell_type": "code",
   "execution_count": 5,
   "metadata": {},
   "outputs": [
    {
     "name": "stdout",
     "output_type": "stream",
     "text": [
      "HarGRU model loaded on cuda.\n"
     ]
    }
   ],
   "source": [
    "model = HarGRU()\n",
    "model.load_state_dict(torch.load(\"models/HarGRU_2025-03-11_19-11-04/HarGRU_epoch100.pth\"))\n",
    "optimizer = torch.optim.Adam(model.parameters(), lr = 0.001)"
   ]
  },
  {
   "cell_type": "code",
   "execution_count": 6,
   "metadata": {},
   "outputs": [
    {
     "name": "stdout",
     "output_type": "stream",
     "text": [
      "Epoch [1/5] | Time: 36.30s\n",
      "(Training) Loss: 0.0009\n",
      "(Validation) Loss: 0.0013, Accuracy: 0.8686, F1: 0.8788, Precision: 0.8947, Recall: 0.8686\n",
      "====================================================================================================\n",
      "Epoch [2/5] | Time: 32.09s\n",
      "(Training) Loss: 0.0009\n",
      "(Validation) Loss: 0.0028, Accuracy: 0.8227, F1: 0.8148, Precision: 0.8455, Recall: 0.8227\n",
      "====================================================================================================\n",
      "Epoch [3/5] | Time: 32.49s\n",
      "(Training) Loss: 0.0010\n",
      "(Validation) Loss: 0.0013, Accuracy: 0.8667, F1: 0.8933, Precision: 0.9284, Recall: 0.8667\n",
      "====================================================================================================\n",
      "Epoch [4/5] | Time: 33.12s\n",
      "(Training) Loss: 0.0009\n",
      "(Validation) Loss: 0.0017, Accuracy: 0.8585, F1: 0.8873, Precision: 0.9250, Recall: 0.8585\n",
      "====================================================================================================\n",
      "Epoch [5/5] | Time: 35.73s\n",
      "(Training) Loss: 0.0008\n",
      "(Validation) Loss: 0.0013, Accuracy: 0.8593, F1: 0.8833, Precision: 0.9148, Recall: 0.8593\n",
      "✅ Model saved: models\\HarGRU_2025-03-11_21-38-23\\HarGRU_epoch5.pth\n",
      "====================================================================================================\n"
     ]
    }
   ],
   "source": [
    "training_loss_history, validation_loss_history, accuracy, f1, precision, recall, conf_matrix = train_HAR70_model(\n",
    "    model, \n",
    "    optimizer, \n",
    "    train_dataloader, \n",
    "    validation_dataloader, \n",
    "    num_epochs = 5\n",
    ")"
   ]
  },
  {
   "cell_type": "code",
   "execution_count": 7,
   "metadata": {},
   "outputs": [],
   "source": [
    "save_training_plots(training_loss_history, validation_loss_history, accuracy, f1, precision, recall)"
   ]
  },
  {
   "cell_type": "code",
   "execution_count": 9,
   "metadata": {},
   "outputs": [
    {
     "name": "stdout",
     "output_type": "stream",
     "text": [
      "(Test) Loss: 0.0012, Accuracy: 0.8654, F1: 0.8937, Precision: 0.9292, Recall: 0.8654\n"
     ]
    }
   ],
   "source": [
    "# Test metrics\n",
    "loss, accuracy, f1, precision, recall, conf_matrix = evaluate_HAR70_model(model, test_dataloader)\n",
    "print(f\"(Test) Loss: {loss:.4f}, Accuracy: {accuracy:.4f}, F1: {f1:.4f}, Precision: {precision:.4f}, Recall: {recall:.4f}\")"
   ]
  }
 ],
 "metadata": {
  "kernelspec": {
   "display_name": "term6",
   "language": "python",
   "name": "python3"
  },
  "language_info": {
   "codemirror_mode": {
    "name": "ipython",
    "version": 3
   },
   "file_extension": ".py",
   "mimetype": "text/x-python",
   "name": "python",
   "nbconvert_exporter": "python",
   "pygments_lexer": "ipython3",
   "version": "3.12.8"
  }
 },
 "nbformat": 4,
 "nbformat_minor": 2
}
