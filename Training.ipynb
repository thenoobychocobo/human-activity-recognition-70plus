{
 "cells": [
  {
   "cell_type": "markdown",
   "metadata": {},
   "source": [
    "# Training"
   ]
  },
  {
   "cell_type": "code",
   "execution_count": 1,
   "metadata": {},
   "outputs": [],
   "source": [
    "# Automatic reloading\n",
    "%load_ext autoreload\n",
    "%autoreload 2"
   ]
  },
  {
   "cell_type": "code",
   "execution_count": 2,
   "metadata": {},
   "outputs": [],
   "source": [
    "from src.data_preparation import *\n",
    "from src.models import *\n",
    "from src.train_eval import *\n",
    "\n",
    "from torch.utils.data import DataLoader"
   ]
  },
  {
   "cell_type": "code",
   "execution_count": 3,
   "metadata": {},
   "outputs": [
    {
     "name": "stdout",
     "output_type": "stream",
     "text": [
      "✅ HARDataset object, normalization statistics, and split indices loaded from saved_components\n",
      "✅ Created train, validation, and test datasets (normalized to train set)\n"
     ]
    }
   ],
   "source": [
    "train_dataset, val_dataset, test_dataset, norm_stats = prepare_datasets(\n",
    "    sequence_size=1000,\n",
    "    stride=25,\n",
    "    train_ratio=0.8,\n",
    "    val_ratio=0.1,\n",
    "    test_ratio=0.1,\n",
    "    random_state=42,\n",
    "    load_if_exists=True\n",
    ")"
   ]
  },
  {
   "cell_type": "code",
   "execution_count": 4,
   "metadata": {},
   "outputs": [],
   "source": [
    "train_dataloader = DataLoader(train_dataset, batch_size = 64, shuffle= True)\n",
    "validation_dataloader = DataLoader(val_dataset, batch_size = 64, shuffle= True)\n",
    "test_dataloader = DataLoader(test_dataset, batch_size = 64, shuffle= True)"
   ]
  },
  {
   "cell_type": "code",
   "execution_count": 5,
   "metadata": {},
   "outputs": [
    {
     "name": "stdout",
     "output_type": "stream",
     "text": [
      "HarGRU model loaded on cuda.\n"
     ]
    }
   ],
   "source": [
    "model = HarGRU()\n",
    "# model.load_state_dict(torch.load(\"models/HarGRU_2025-03-11_19-11-04/HarGRU_epoch100.pth\"))\n",
    "optimizer = torch.optim.Adam(model.parameters(), lr = 0.001)"
   ]
  },
  {
   "cell_type": "code",
   "execution_count": 6,
   "metadata": {},
   "outputs": [
    {
     "name": "stdout",
     "output_type": "stream",
     "text": [
      "Epoch [1/5] | Time: 36.99s\n",
      "(Training) Loss: 0.0061\n",
      "(Validation) Loss: 0.0035, Accuracy: 0.5529, F1: 0.5406, Precision: 0.5302, Recall: 0.5529\n",
      "==========================================================================================\n",
      "Epoch [2/5] | Time: 32.56s\n",
      "(Training) Loss: 0.0033\n",
      "(Validation) Loss: 0.0028, Accuracy: 0.5570, F1: 0.5466, Precision: 0.5374, Recall: 0.5570\n",
      "==========================================================================================\n",
      "Epoch [3/5] | Time: 33.83s\n",
      "(Training) Loss: 0.0027\n",
      "(Validation) Loss: 0.0024, Accuracy: 0.5600, F1: 0.5542, Precision: 0.5825, Recall: 0.5600\n",
      "==========================================================================================\n",
      "Epoch [4/5] | Time: 34.84s\n",
      "(Training) Loss: 0.0023\n",
      "(Validation) Loss: 0.0022, Accuracy: 0.5768, F1: 0.5838, Precision: 0.6275, Recall: 0.5768\n",
      "==========================================================================================\n",
      "Epoch [5/5] | Time: 32.52s\n",
      "(Training) Loss: 0.0022\n",
      "(Validation) Loss: 0.0022, Accuracy: 0.5946, F1: 0.6087, Precision: 0.6833, Recall: 0.5946\n",
      "✅ Model saved: models\\HarGRU_2025-03-11_22-21-42\\HarGRU_epoch5.pth\n",
      "==========================================================================================\n"
     ]
    }
   ],
   "source": [
    "training_loss_history, validation_loss_history, accuracy_history, f1_history, precision_history, recall_history = train_HAR70_model(\n",
    "    model, \n",
    "    optimizer, \n",
    "    train_dataloader, \n",
    "    validation_dataloader, \n",
    "    num_epochs = 5\n",
    ")"
   ]
  },
  {
   "cell_type": "code",
   "execution_count": 7,
   "metadata": {},
   "outputs": [
    {
     "name": "stdout",
     "output_type": "stream",
     "text": [
      "✅ Plots saved to: results\\2025-03-11_22-24-33\n",
      "✅ Metric histories saved to: results\\2025-03-11_22-24-33\\metric_histories.pth\n"
     ]
    }
   ],
   "source": [
    "save_training_plots_and_metric_history(training_loss_history, validation_loss_history, accuracy_history, f1_history, precision_history, recall_history)"
   ]
  },
  {
   "cell_type": "code",
   "execution_count": 8,
   "metadata": {},
   "outputs": [
    {
     "name": "stdout",
     "output_type": "stream",
     "text": [
      "(Test) Loss: 0.0023, Accuracy: 0.5889, F1: 0.5979, Precision: 0.6204, Recall: 0.5889\n"
     ]
    }
   ],
   "source": [
    "# Test metrics\n",
    "loss, accuracy, f1, precision, recall, conf_matrix = evaluate_HAR70_model(model, test_dataloader)\n",
    "print(f\"(Test) Loss: {loss:.4f}, Accuracy: {accuracy:.4f}, F1: {f1:.4f}, Precision: {precision:.4f}, Recall: {recall:.4f}\")"
   ]
  }
 ],
 "metadata": {
  "kernelspec": {
   "display_name": "term6",
   "language": "python",
   "name": "python3"
  },
  "language_info": {
   "codemirror_mode": {
    "name": "ipython",
    "version": 3
   },
   "file_extension": ".py",
   "mimetype": "text/x-python",
   "name": "python",
   "nbconvert_exporter": "python",
   "pygments_lexer": "ipython3",
   "version": "3.12.8"
  }
 },
 "nbformat": 4,
 "nbformat_minor": 2
}
