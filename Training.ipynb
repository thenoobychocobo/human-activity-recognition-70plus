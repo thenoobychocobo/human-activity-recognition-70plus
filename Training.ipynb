{
 "cells": [
  {
   "cell_type": "code",
   "execution_count": null,
   "metadata": {},
   "outputs": [],
   "source": [
    "# Generic/Built-in\n",
    "from typing import *\n",
    "\n",
    "# Libs\n",
    "import pandas as pd\n",
    "import numpy as np\n",
    "import torch\n",
    "import torch.nn as nn\n",
    "from torch.utils.data import Dataset, ConcatDataset, Subset, DataLoader\n",
    "import matplotlib.pyplot as plt\n",
    "from sklearn.model_selection import train_test_split\n",
    "\n",
    "# Custom\n",
    "from src.data_preparation import *"
   ]
  },
  {
   "cell_type": "code",
   "execution_count": null,
   "metadata": {},
   "outputs": [],
   "source": [
    "train_dataset, val_dataset, test_dataset, norm_stats = prepare_datasets(\n",
    "    sequence_size=100,\n",
    "    stride=50,\n",
    "    train_ratio=0.8,\n",
    "    val_ratio=0.1,\n",
    "    test_ratio=0.1,\n",
    "    load_if_exists=True\n",
    ")"
   ]
  },
  {
   "cell_type": "code",
   "execution_count": null,
   "metadata": {},
   "outputs": [],
   "source": [
    "len(train_dataset)"
   ]
  },
  {
   "cell_type": "code",
   "execution_count": 33,
   "metadata": {},
   "outputs": [],
   "source": [
    "train_dataloader = DataLoader(train_dataset, batch_size = 64, shuffle= True)\n"
   ]
  },
  {
   "cell_type": "code",
   "execution_count": 34,
   "metadata": {},
   "outputs": [
    {
     "name": "stdout",
     "output_type": "stream",
     "text": [
      "torch.Size([64, 100, 6])\n"
     ]
    }
   ],
   "source": [
    "for X, y in train_dataloader:\n",
    "    print(X.shape)\n",
    "    break"
   ]
  },
  {
   "cell_type": "code",
   "execution_count": 35,
   "metadata": {},
   "outputs": [],
   "source": [
    "class EncoderRNN(nn.Module):\n",
    "    def __init__(self, input_size, hidden_size, \\\n",
    "                 num_layers = 1, dropout = 0.0, num_classes = 7):\n",
    "        super(EncoderRNN, self).__init__()\n",
    "        self.hidden_size = hidden_size\n",
    "        self.num_layers = num_layers\n",
    "        self.rnn = nn.LSTM(input_size, hidden_size, \\\n",
    "                           num_layers = num_layers, \n",
    "                           dropout = dropout if num_layers > 1 else 0.0, \n",
    "                           batch_first = True)\n",
    "        self.fc = nn.Linear(hidden_size, num_classes)\n",
    "\n",
    "    def forward(self, input_seq):\n",
    "        # For this encoder, we ignore the outputs \n",
    "        # We use the final hidden state for the calculation of the logits\n",
    "        # TODO: some function that will extract actual hidden state, output could only be a function fo hidden state\n",
    "        outputs, (hn, _) = self.rnn(input_seq)\n",
    "        logits = self.fc(hn[-1])\n",
    "        return logits"
   ]
  },
  {
   "cell_type": "code",
   "execution_count": 36,
   "metadata": {},
   "outputs": [],
   "source": [
    "def train_encoder(model, dataloader, num_epochs, learning_rate):\n",
    "    model.train()  # Set the model to training mode\n",
    "    criterion = nn.CrossEntropyLoss()\n",
    "    optimizer = torch.optim.Adam(model.parameters(), lr = learning_rate)\n",
    "\n",
    "    for epoch in range(num_epochs):\n",
    "        total_loss = 0\n",
    "        correct = 0\n",
    "        total = 0\n",
    "        for input_seq, target_seq in dataloader:\n",
    "            optimizer.zero_grad()\n",
    "            output_seq = model(input_seq)\n",
    "            loss = criterion(output_seq, target_seq)\n",
    "            total_loss += loss.item()\n",
    "\n",
    "            _, predicted = torch.max(output_seq, dim=1)  # Get class with highest logit\n",
    "            correct += (predicted == target_seq).sum().item()\n",
    "            total += target_seq.size(0)\n",
    "\n",
    "            loss.backward()\n",
    "            optimizer.step()\n",
    "        print(f'Epoch {epoch+1}/{num_epochs}, Loss: {total_loss/len(dataloader)}, Accuracy: {(correct / total)*100}')\n"
   ]
  },
  {
   "cell_type": "markdown",
   "metadata": {},
   "source": []
  },
  {
   "cell_type": "code",
   "execution_count": 37,
   "metadata": {},
   "outputs": [
    {
     "name": "stdout",
     "output_type": "stream",
     "text": [
      "Epoch 1/5, Loss: 0.7039836268872023, Accuracy: 74.53119767831231\n",
      "Epoch 2/5, Loss: 0.38282975779314127, Accuracy: 87.19723183391004\n",
      "Epoch 3/5, Loss: 0.27637421659060885, Accuracy: 91.5978345797522\n",
      "Epoch 4/5, Loss: 0.25691091979720765, Accuracy: 92.04431298135952\n",
      "Epoch 5/5, Loss: 0.24727368843076483, Accuracy: 92.21174238196227\n"
     ]
    }
   ],
   "source": [
    "# Hyperparameters\n",
    "input_size = 6\n",
    "hidden_size = 30\n",
    "learning_rate = 0.001\n",
    "num_epochs = 5\n",
    "num_layers = 1\n",
    "dropout_rate = 0.1\n",
    "\n",
    "encoder = EncoderRNN(input_size, hidden_size, num_layers, dropout_rate)\n",
    "train_encoder(encoder, train_dataloader, num_epochs, learning_rate)"
   ]
  },
  {
   "cell_type": "code",
   "execution_count": 38,
   "metadata": {},
   "outputs": [],
   "source": [
    "test_dataloader = DataLoader(test_dataset, batch_size = 128, shuffle= True)"
   ]
  },
  {
   "cell_type": "code",
   "execution_count": 42,
   "metadata": {},
   "outputs": [],
   "source": [
    "def evaluate(model, dataloader):\n",
    "    model.eval()  # Set the model to training mode\n",
    "    criterion = nn.CrossEntropyLoss()\n",
    "\n",
    "    with torch.no_grad():\n",
    "        total_loss = 0\n",
    "        correct = 0\n",
    "        total = 0\n",
    "        for input_seq, target_seq in dataloader:\n",
    "            output_seq = model(input_seq)\n",
    "            loss = criterion(output_seq, target_seq)\n",
    "            total_loss += loss.item()\n",
    "\n",
    "            _, predicted = torch.max(output_seq, dim=1)  # Get class with highest logit\n",
    "            correct += (predicted == target_seq).sum().item()\n",
    "            total += target_seq.size(0)\n",
    "\n",
    "        print(f\"Test accuracy:{(correct/total) * 100}\")"
   ]
  },
  {
   "cell_type": "code",
   "execution_count": 44,
   "metadata": {},
   "outputs": [
    {
     "name": "stdout",
     "output_type": "stream",
     "text": [
      "Test accuracy:93.10267857142858\n"
     ]
    }
   ],
   "source": [
    "evaluate(encoder, test_dataloader)"
   ]
  },
  {
   "cell_type": "markdown",
   "metadata": {},
   "source": []
  }
 ],
 "metadata": {
  "kernelspec": {
   "display_name": "Python 3",
   "language": "python",
   "name": "python3"
  },
  "language_info": {
   "codemirror_mode": {
    "name": "ipython",
    "version": 3
   },
   "file_extension": ".py",
   "mimetype": "text/x-python",
   "name": "python",
   "nbconvert_exporter": "python",
   "pygments_lexer": "ipython3",
   "version": "3.11.9"
  }
 },
 "nbformat": 4,
 "nbformat_minor": 2
}
