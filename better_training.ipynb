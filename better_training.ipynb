{
 "cells": [
  {
   "cell_type": "code",
   "execution_count": 1,
   "metadata": {},
   "outputs": [],
   "source": [
    "from src.data_preparation import *\n",
    "from src.models import *\n",
    "from src.train_eval import *\n",
    "\n",
    "import torch"
   ]
  },
  {
   "cell_type": "code",
   "execution_count": 2,
   "metadata": {},
   "outputs": [],
   "source": [
    "# Automatic reloading\n",
    "%load_ext autoreload\n",
    "%autoreload 2"
   ]
  },
  {
   "cell_type": "code",
   "execution_count": 3,
   "metadata": {},
   "outputs": [
    {
     "name": "stdout",
     "output_type": "stream",
     "text": [
      "Loading saved components...\n"
     ]
    }
   ],
   "source": [
    "train_dataset, val_dataset, test_dataset, norm_stats = prepare_datasets(\n",
    "    sequence_size=100,\n",
    "    stride=50,\n",
    "    train_ratio=0.8,\n",
    "    val_ratio=0.1,\n",
    "    test_ratio=0.1,\n",
    "    load_if_exists=True\n",
    ")"
   ]
  },
  {
   "cell_type": "code",
   "execution_count": 4,
   "metadata": {},
   "outputs": [],
   "source": [
    "train_dataloader = DataLoader(train_dataset, batch_size = 64, shuffle= True)\n",
    "validation_dataloader = DataLoader(val_dataset, batch_size = 64, shuffle= True)\n",
    "test_dataloader = DataLoader(test_dataset, batch_size = 64, shuffle= True)"
   ]
  },
  {
   "cell_type": "code",
   "execution_count": 7,
   "metadata": {},
   "outputs": [
    {
     "name": "stdout",
     "output_type": "stream",
     "text": [
      "HarLSTM model loaded on cuda.\n"
     ]
    }
   ],
   "source": [
    "model = HarLSTM()\n",
    "optimizer = torch.optim.Adam(model.parameters(), lr = 0.01)"
   ]
  },
  {
   "cell_type": "code",
   "execution_count": 13,
   "metadata": {},
   "outputs": [
    {
     "name": "stdout",
     "output_type": "stream",
     "text": [
      "Epoch [1/5] | Time: 16.42s\n",
      "(Training) Loss: 68.9904\n",
      "(Validation) Loss: 9.7395, Accuracy: 0.6777, F1: 0.7097, Precision: 0.7762, Recall: 0.6777\n",
      "\n",
      "Epoch [2/5] | Time: 15.05s\n",
      "(Training) Loss: 69.8715\n",
      "(Validation) Loss: 9.8946, Accuracy: 0.6954, F1: 0.7354, Precision: 0.8206, Recall: 0.6954\n",
      "\n",
      "Epoch [3/5] | Time: 14.46s\n",
      "(Training) Loss: 65.9259\n",
      "(Validation) Loss: 9.0777, Accuracy: 0.7568, F1: 0.7717, Precision: 0.8226, Recall: 0.7568\n",
      "\n",
      "Epoch [4/5] | Time: 13.91s\n",
      "(Training) Loss: 67.6769\n",
      "(Validation) Loss: 9.0687, Accuracy: 0.7044, F1: 0.7327, Precision: 0.7804, Recall: 0.7044\n",
      "\n",
      "Epoch [5/5] | Time: 13.91s\n",
      "(Training) Loss: 63.4915\n",
      "(Validation) Loss: 8.6697, Accuracy: 0.6985, F1: 0.7254, Precision: 0.7719, Recall: 0.6985\n",
      "\n",
      "✅ Model saved: models\\HarLSTM_2025-03-11_17-28-25\\HarLSTM_epoch5.pth\n"
     ]
    }
   ],
   "source": [
    "training_loss_history, validation_loss_history, accuracy, f1, precision, recall, conf_matrix = train_HAR70_model(\n",
    "    model, \n",
    "    optimizer, \n",
    "    train_dataloader, \n",
    "    validation_dataloader, \n",
    "    num_epochs = 5\n",
    ")"
   ]
  },
  {
   "cell_type": "code",
   "execution_count": 14,
   "metadata": {},
   "outputs": [],
   "source": [
    "save_training_plots(training_loss_history, validation_loss_history, accuracy, f1, precision, recall)"
   ]
  }
 ],
 "metadata": {
  "kernelspec": {
   "display_name": "term6",
   "language": "python",
   "name": "python3"
  },
  "language_info": {
   "codemirror_mode": {
    "name": "ipython",
    "version": 3
   },
   "file_extension": ".py",
   "mimetype": "text/x-python",
   "name": "python",
   "nbconvert_exporter": "python",
   "pygments_lexer": "ipython3",
   "version": "3.12.8"
  }
 },
 "nbformat": 4,
 "nbformat_minor": 2
}
