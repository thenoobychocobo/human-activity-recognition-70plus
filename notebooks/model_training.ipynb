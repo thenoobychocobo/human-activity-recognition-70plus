{
 "cells": [
  {
   "cell_type": "markdown",
   "metadata": {},
   "source": [
    "# Training the model\n",
    "**Table of Contents**\n",
    "1. [Setup](#1-setup)\n",
    "2. [Dataset Preparation](#2-dataset-preparation)\n",
    "3. [Training Loop](#3-training-loop)\n"
   ]
  },
  {
   "cell_type": "markdown",
   "metadata": {},
   "source": [
    "## 1. Setup"
   ]
  },
  {
   "cell_type": "code",
   "execution_count": 1,
   "metadata": {},
   "outputs": [],
   "source": [
    "# Automatic reloading\n",
    "%load_ext autoreload\n",
    "%autoreload 2"
   ]
  },
  {
   "cell_type": "code",
   "execution_count": 2,
   "metadata": {},
   "outputs": [],
   "source": [
    "####################\n",
    "# Required Modules #\n",
    "####################\n",
    "\n",
    "# Generic/Built-in\n",
    "import random\n",
    "import sys \n",
    "import os\n",
    "\n",
    "# Libs\n",
    "import torch\n",
    "import numpy as np\n",
    "from torch.utils.data import DataLoader"
   ]
  },
  {
   "cell_type": "code",
   "execution_count": 3,
   "metadata": {},
   "outputs": [
    {
     "name": "stderr",
     "output_type": "stream",
     "text": [
      "c:\\Users\\Ryan Lee\\.conda\\envs\\term6\\Lib\\site-packages\\tqdm\\auto.py:21: TqdmWarning: IProgress not found. Please update jupyter and ipywidgets. See https://ipywidgets.readthedocs.io/en/stable/user_install.html\n",
      "  from .autonotebook import tqdm as notebook_tqdm\n"
     ]
    }
   ],
   "source": [
    "# Get the project directory \n",
    "current_dir = os.path.abspath('') # Current '\\notebooks' directory\n",
    "project_dir = os.path.abspath(os.path.join(current_dir, '..')) # Move up one level to project root directory\n",
    "\n",
    "# Add the project directory to sys.path\n",
    "sys.path.append(project_dir)\n",
    "\n",
    "# Move up to project directory\n",
    "os.chdir(project_dir)\n",
    "os.getcwd()\n",
    "\n",
    "# Import custom modules\n",
    "from src.data_preparation import *\n",
    "from src.models import *\n",
    "from src.train_eval import *"
   ]
  },
  {
   "cell_type": "code",
   "execution_count": 4,
   "metadata": {},
   "outputs": [],
   "source": [
    "# Seeding\n",
    "SEED = 42\n",
    "\n",
    "# To be safe, seed all modules for full reproducibility\n",
    "torch.manual_seed(SEED)\n",
    "torch.cuda.manual_seed_all(SEED)  # If using CUDA\n",
    "np.random.seed(SEED)\n",
    "random.seed(SEED)"
   ]
  },
  {
   "cell_type": "markdown",
   "metadata": {},
   "source": [
    "## 2. Dataset Preparation"
   ]
  },
  {
   "cell_type": "code",
   "execution_count": 6,
   "metadata": {},
   "outputs": [
    {
     "name": "stdout",
     "output_type": "stream",
     "text": [
      "✅ HARDataset object and split indices loaded from saved_components\n",
      "✅ Created train, validation, and test datasets.\n"
     ]
    }
   ],
   "source": [
    "train_dataset, val_dataset, test_dataset = prepare_datasets(\n",
    "    sequence_size=250,\n",
    "    stride=25,\n",
    "    train_ratio=0.8,\n",
    "    val_ratio=0.1,\n",
    "    test_ratio=0.1,\n",
    "    random_state=SEED,\n",
    "    load_if_exists=True\n",
    ")"
   ]
  },
  {
   "cell_type": "code",
   "execution_count": 10,
   "metadata": {},
   "outputs": [
    {
     "name": "stdout",
     "output_type": "stream",
     "text": [
      "Train Set: 70363 samples\n",
      "Validation Set: 8796 samples\n",
      "Test Set: 8796 samples\n",
      "Total: 149522 samples\n"
     ]
    }
   ],
   "source": [
    "print(f\"Train Set: {len(train_dataset)} samples\")\n",
    "print(f\"Validation Set: {len(val_dataset)} samples\")\n",
    "print(f\"Test Set: {len(test_dataset)} samples\")\n",
    "print(f\"Total: {len(train_dataset) + len(val_dataset) + len(train_dataset)} samples\")\n"
   ]
  },
  {
   "cell_type": "markdown",
   "metadata": {},
   "source": [
    "## 3. Training Loop"
   ]
  },
  {
   "cell_type": "code",
   "execution_count": 11,
   "metadata": {},
   "outputs": [],
   "source": [
    "# Hyperparameters\n",
    "batch_size = 128\n",
    "learning_rate = 0.001\n",
    "num_epochs = 5"
   ]
  },
  {
   "cell_type": "code",
   "execution_count": 12,
   "metadata": {},
   "outputs": [],
   "source": [
    "# Dataloaders\n",
    "train_dataloader = DataLoader(train_dataset, batch_size = batch_size, shuffle = True)\n",
    "validation_dataloader = DataLoader(val_dataset, batch_size = batch_size, shuffle = True)\n",
    "test_dataloader = DataLoader(test_dataset, batch_size = batch_size, shuffle = True)"
   ]
  },
  {
   "cell_type": "code",
   "execution_count": 13,
   "metadata": {},
   "outputs": [
    {
     "name": "stdout",
     "output_type": "stream",
     "text": [
      "HarGRU model loaded on cuda.\n"
     ]
    }
   ],
   "source": [
    "# Load model\n",
    "model = HarGRU()\n",
    "# model.load_state_dict(torch.load(\"models/HarGRU_2025-03-11_19-11-04/HarGRU_epoch100.pth\"))\n",
    "optimizer = torch.optim.Adam(model.parameters(), lr = learning_rate)"
   ]
  },
  {
   "cell_type": "code",
   "execution_count": 18,
   "metadata": {},
   "outputs": [
    {
     "name": "stdout",
     "output_type": "stream",
     "text": [
      "Beginning training session...\n",
      "(1) Creating subdirectory (models\\HarGRU_2025-04-02_15-56-02) for saving model params...\n",
      "(2) Computing normalization statistics from the training dataset...\n",
      "(3) Beginning training loop (5 epochs)...\n",
      "Epoch [1/5] | Time: 24.12s\n",
      "(Training) Loss: 0.0024\n",
      "(Validation) Loss: 0.0020, Accuracy: 0.5494, F1: 0.5380, Precision: 0.5283, Recall: 0.5494\n",
      "✅ Model saved: models\\HarGRU_2025-04-02_15-56-02\\HarGRU_best_F1.pth\n",
      "==========================================================================================\n",
      "Epoch [2/5] | Time: 21.66s\n",
      "(Training) Loss: 0.0018\n",
      "(Validation) Loss: 0.0017, Accuracy: 0.5526, F1: 0.5441, Precision: 0.5361, Recall: 0.5526\n",
      "✅ Model saved: models\\HarGRU_2025-04-02_15-56-02\\HarGRU_best_F1.pth\n",
      "==========================================================================================\n",
      "Epoch [3/5] | Time: 22.11s\n",
      "(Training) Loss: 0.0016\n",
      "(Validation) Loss: 0.0015, Accuracy: 0.5559, F1: 0.5465, Precision: 0.5378, Recall: 0.5559\n",
      "✅ Model saved: models\\HarGRU_2025-04-02_15-56-02\\HarGRU_best_F1.pth\n",
      "==========================================================================================\n",
      "Epoch [4/5] | Time: 22.12s\n",
      "(Training) Loss: 0.0015\n",
      "(Validation) Loss: 0.0014, Accuracy: 0.5537, F1: 0.5481, Precision: 0.5428, Recall: 0.5537\n",
      "✅ Model saved: models\\HarGRU_2025-04-02_15-56-02\\HarGRU_best_F1.pth\n",
      "==========================================================================================\n",
      "Epoch [5/5] | Time: 21.84s\n",
      "(Training) Loss: 0.0014\n",
      "(Validation) Loss: 0.0013, Accuracy: 0.5611, F1: 0.5540, Precision: 0.6841, Recall: 0.5611\n",
      "✅ Model saved: models\\HarGRU_2025-04-02_15-56-02\\HarGRU_best_F1.pth\n",
      "✅ Model saved: models\\HarGRU_2025-04-02_15-56-02\\HarGRU_epoch5.pth\n",
      "==========================================================================================\n",
      "(4) Training session finished.\n"
     ]
    }
   ],
   "source": [
    "training_loss_history, validation_loss_history, accuracy_history, f1_history, precision_history, recall_history, normalizer = train_HAR70_model(\n",
    "    model, \n",
    "    optimizer, \n",
    "    train_dataloader, \n",
    "    validation_dataloader, \n",
    "    num_epochs = num_epochs\n",
    ")"
   ]
  },
  {
   "cell_type": "code",
   "execution_count": 19,
   "metadata": {},
   "outputs": [
    {
     "name": "stdout",
     "output_type": "stream",
     "text": [
      "✅ Plots saved to: results\\HarGRU_2025-04-02_15-59-28\n",
      "✅ Metric histories saved to: results\\HarGRU_2025-04-02_15-59-28\\metric_histories.pth\n"
     ]
    }
   ],
   "source": [
    "save_training_plots_and_metric_history(training_loss_history, validation_loss_history, accuracy_history, f1_history, precision_history, recall_history, type(model).__name__)"
   ]
  },
  {
   "cell_type": "code",
   "execution_count": 21,
   "metadata": {},
   "outputs": [
    {
     "name": "stdout",
     "output_type": "stream",
     "text": [
      "(Test) Loss: 0.0013, Accuracy: 0.5583, F1: 0.5492, Precision: 0.5411, Recall: 0.5583\n"
     ]
    }
   ],
   "source": [
    "# Test metrics\n",
    "loss, accuracy, f1, precision, recall, conf_matrix = evaluate_HAR70_model(model, test_dataloader, normalizer)\n",
    "print(f\"(Test) Loss: {loss:.4f}, Accuracy: {accuracy:.4f}, F1: {f1:.4f}, Precision: {precision:.4f}, Recall: {recall:.4f}\")"
   ]
  }
 ],
 "metadata": {
  "kernelspec": {
   "display_name": "term6",
   "language": "python",
   "name": "python3"
  },
  "language_info": {
   "codemirror_mode": {
    "name": "ipython",
    "version": 3
   },
   "file_extension": ".py",
   "mimetype": "text/x-python",
   "name": "python",
   "nbconvert_exporter": "python",
   "pygments_lexer": "ipython3",
   "version": "3.12.8"
  }
 },
 "nbformat": 4,
 "nbformat_minor": 2
}
