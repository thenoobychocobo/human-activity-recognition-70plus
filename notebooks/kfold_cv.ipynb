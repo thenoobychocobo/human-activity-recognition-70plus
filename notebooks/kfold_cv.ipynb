{
 "cells": [
  {
   "cell_type": "markdown",
   "metadata": {},
   "source": [
    "# Stratified K-Fold Cross Validation for Model Training\n",
    "**Table of Contents**\n",
    "1. [Setup](#1-setup)\n",
    "2. [Dataset Preparation](#2-dataset-preparation)\n",
    "3. [K-Fold CV](#3-k-fold-cv)\n"
   ]
  },
  {
   "cell_type": "markdown",
   "metadata": {},
   "source": [
    "## 1. Setup"
   ]
  },
  {
   "cell_type": "code",
   "execution_count": 1,
   "metadata": {},
   "outputs": [],
   "source": [
    "# Automatic reloading\n",
    "%load_ext autoreload\n",
    "%autoreload 2"
   ]
  },
  {
   "cell_type": "code",
   "execution_count": null,
   "metadata": {},
   "outputs": [],
   "source": [
    "####################\n",
    "# Required Modules #\n",
    "####################\n",
    "\n",
    "# Generic/Built-in\n",
    "import random\n",
    "import sys \n",
    "import os\n",
    "\n",
    "# Libs\n",
    "import torch\n",
    "import numpy as np"
   ]
  },
  {
   "cell_type": "code",
   "execution_count": null,
   "metadata": {},
   "outputs": [
    {
     "name": "stderr",
     "output_type": "stream",
     "text": [
      "c:\\Users\\Ryan Lee\\.conda\\envs\\term6\\Lib\\site-packages\\tqdm\\auto.py:21: TqdmWarning: IProgress not found. Please update jupyter and ipywidgets. See https://ipywidgets.readthedocs.io/en/stable/user_install.html\n",
      "  from .autonotebook import tqdm as notebook_tqdm\n"
     ]
    }
   ],
   "source": [
    "# Add the project root directory to the system path to enable imports from the '/src' folder.\n",
    "\n",
    "# Get the project directory \n",
    "current_dir = os.path.abspath('') # Current '\\notebooks' directory\n",
    "project_dir = os.path.abspath(os.path.join(current_dir, '..')) # Move up one level to project root directory\n",
    "\n",
    "# Add the project directory to sys.path\n",
    "sys.path.append(project_dir)\n",
    "\n",
    "# Move up to project directory\n",
    "os.chdir(project_dir)\n",
    "os.getcwd()\n",
    "\n",
    "# Import custom modules\n",
    "from src.data_preparation import *\n",
    "from src.models import *\n",
    "from src.train_eval import *"
   ]
  },
  {
   "cell_type": "code",
   "execution_count": 4,
   "metadata": {},
   "outputs": [],
   "source": [
    "# Seeding\n",
    "SEED = 42\n",
    "\n",
    "# To be safe, seed all modules for full reproducibility\n",
    "torch.manual_seed(SEED)\n",
    "torch.cuda.manual_seed_all(SEED)  # If using CUDA\n",
    "np.random.seed(SEED)\n",
    "random.seed(SEED)"
   ]
  },
  {
   "cell_type": "markdown",
   "metadata": {},
   "source": [
    "## 2. Dataset Preparation"
   ]
  },
  {
   "cell_type": "code",
   "execution_count": 14,
   "metadata": {},
   "outputs": [
    {
     "name": "stdout",
     "output_type": "stream",
     "text": [
      "📂 Dataset already downloaded: data\\har70.zip\n",
      "📂 Dataset already extracted in data\\har70plus\n",
      "✅ Successfully loaded HAR70+ dataset (2259597 timestep samples).\n"
     ]
    }
   ],
   "source": [
    "data_dir = \"data\"\n",
    "sequence_size = 250\n",
    "stride = 25\n",
    "gap_threshold = 0.05\n",
    "\n",
    "# 0. Download the data\n",
    "download_har70plus_dataset(base_dir=data_dir)\n",
    "\n",
    "# 1. Load the downloaded data\n",
    "df = load_har70_csv_files(base_dir=data_dir)\n",
    "\n",
    "# 2. Create the HARDataset object\n",
    "dataset = HARDataset(df, sequence_size, stride, gap_threshold)"
   ]
  },
  {
   "cell_type": "markdown",
   "metadata": {},
   "source": [
    "## 3. K-Fold CV"
   ]
  },
  {
   "cell_type": "code",
   "execution_count": 16,
   "metadata": {},
   "outputs": [],
   "source": [
    "# Hyperparameters\n",
    "num_folds = 5\n",
    "batch_size = 128\n",
    "learning_rate = 0.001\n",
    "num_epochs = 10"
   ]
  },
  {
   "cell_type": "code",
   "execution_count": 17,
   "metadata": {},
   "outputs": [
    {
     "name": "stdout",
     "output_type": "stream",
     "text": [
      "Fold [1/5]\n",
      "HarTransformer model loaded on cuda.\n",
      "Accuracy: 0.6402, F1: 0.6749, Precision: 0.7840, Recall: 0.6402\n",
      "Fold [2/5]\n",
      "HarTransformer model loaded on cuda.\n",
      "Accuracy: 0.6062, F1: 0.6342, Precision: 0.7530, Recall: 0.6062\n",
      "Fold [3/5]\n",
      "HarTransformer model loaded on cuda.\n",
      "Accuracy: 0.6648, F1: 0.6932, Precision: 0.7527, Recall: 0.6648\n",
      "Fold [4/5]\n",
      "HarTransformer model loaded on cuda.\n",
      "Accuracy: 0.6289, F1: 0.6415, Precision: 0.7470, Recall: 0.6289\n",
      "Fold [5/5]\n",
      "HarTransformer model loaded on cuda.\n",
      "Accuracy: 0.6411, F1: 0.6678, Precision: 0.7123, Recall: 0.6411\n",
      "Final results (mean over 5 folds)\n",
      "Accuracy: 0.6363, F1: 0.6623, Precision: 0.7498, Recall: 0.6363\n"
     ]
    }
   ],
   "source": [
    "mean_accuracy, mean_f1, mean_precision, mean_recall = kfold_stratified_cv_for_har(\n",
    "    dataset=dataset, \n",
    "    model_class=HarTransformer,\n",
    "    optimizer_class=torch.optim.Adam,\n",
    "    k=num_folds,\n",
    "    batch_size=batch_size,\n",
    "    num_epochs=num_epochs,\n",
    "    model_kwargs=None,\n",
    "    optimizer_kwargs={\"lr\": learning_rate},\n",
    "    random_state=SEED,\n",
    ")"
   ]
  }
 ],
 "metadata": {
  "kernelspec": {
   "display_name": "term6",
   "language": "python",
   "name": "python3"
  },
  "language_info": {
   "codemirror_mode": {
    "name": "ipython",
    "version": 3
   },
   "file_extension": ".py",
   "mimetype": "text/x-python",
   "name": "python",
   "nbconvert_exporter": "python",
   "pygments_lexer": "ipython3",
   "version": "3.12.8"
  }
 },
 "nbformat": 4,
 "nbformat_minor": 2
}
