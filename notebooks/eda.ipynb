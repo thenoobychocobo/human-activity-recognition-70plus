{
 "cells": [
  {
   "cell_type": "markdown",
   "metadata": {},
   "source": [
    "# Exploratory Data Analysis (EDA) of Human Activity Recognition (HAR) datasets\n",
    "In this notebook, we will investigate and combine two HAR datasets: the HARTH and HAR70+ datasets.\n",
    "\n",
    "**Table of Contents**\n",
    "\n",
    "0. [Dataset Information](#0-dataset-information)\n",
    "    1. [HARTH Dataset](#01-harth-dataset)\n",
    "    2. [HAR70+ Dataset](#02-har70-dataset)\n",
    "1. [Setup](#1-setup)\n",
    "2. [Examine Dataset](#2-examine-dataset)\n",
    "    1. [Examine Timestamps](#21-examine-timestamps)\n",
    "    2. [Handling Discrepancy](#22-handling-discrepancy)\n",
    "    3. [Examine Labels (Classes)](#23-examine-labels-classes)\n",
    "    4. [Descriptive Statistics](#24-descriptive-statistics)\n",
    "    5. [Missing Values](#25-missing-values)"
   ]
  },
  {
   "cell_type": "markdown",
   "metadata": {},
   "source": [
    "## 0. Dataset Information"
   ]
  },
  {
   "cell_type": "markdown",
   "metadata": {},
   "source": [
    "### 0.1. HARTH Dataset"
   ]
  },
  {
   "cell_type": "markdown",
   "metadata": {},
   "source": [
    "The Human Activity Recognition Trondheim (HARTH) dataset can be found [here](https://archive.ics.uci.edu/dataset/779/harth). The HARTH dataset contains sensor data from 22 participants wearing two 3-axial accelerometers (attached to the right thigh and lower back) for around 2 hours in a free-living setting.\n",
    "\n",
    "*The following information is taken **verbatim** from the HARTH dataset [webpage](https://archive.ics.uci.edu/dataset/779/harth).*\n",
    "\n",
    "**For what purpose was the dataset created?**\n",
    "\n",
    "The dataset was created to train machine learning classifiers for human activity recognition based on professional annotations of activities in a free-living setting.\n",
    "\n",
    "**Who funded the creation of the dataset?**\n",
    "\n",
    "NTNU Helse\n",
    "\n",
    "**Additional Information**\n",
    "\n",
    "The HARTH dataset contains recordings of 22 participants wearing two 3-axial Axivity AX3 accelerometers for around 2 hours in a free-living setting. One sensor was attached to the right front thigh and the other to the lower back. The provided sampling rate is 50Hz. Video recordings of a chest-mounted camera were used to annotate the performed activities frame-by-frame.\n",
    "\n",
    "Each subject's recordings are provided in a separate .csv file. One such .csv file contains the following columns:\n",
    "1. `timestamp`: date and time of recorded sample\n",
    "2. `back_x`: acceleration of back sensor in $x$-direction (down) in the unit $g$\n",
    "3. `back_y`: acceleration of back sensor in $y$-direction (left) in the unit $g$\n",
    "4. `back_z`: acceleration of back sensor in $z$-direction (forward) in the unit $g$\n",
    "5. `thigh_x`: acceleration of thigh sensor in $x$-direction (down) in the unit $g$\n",
    "6. `thigh_y`: acceleration of thigh sensor in $y$-direction (right) in the unit $g$\n",
    "7. `thigh_z`: acceleration of thigh sensor in $z$-direction (backward) in the unit $g$\n",
    "8. `label`: annotated activity code\n",
    "\n",
    "The dataset contains the following **annotated activities** with the corresponding coding scheme:\n",
    "- (1) Walking\n",
    "- (2) Running\t\n",
    "- (3) Shuffling\n",
    "- (4) Stairs (ascending)\t\n",
    "- (5) Stairs (descending)\t\n",
    "- (6) Standing\t\n",
    "- (7) Sitting\t\n",
    "- (8) Lying\n",
    "- (13) Cycling (sit)\n",
    "- (14) Cycling (stand) \n",
    "- (130) Cycling (sit, inactive)\n",
    "- (140): Cycling (stand, inactive)\n",
    "\n",
    "**[Corresponding Paper](https://www.semanticscholar.org/paper/HARTH%3A-A-Human-Activity-Recognition-Dataset-for-Logacjov-Bach/dad0184602231aa82d4ed8c438cf0c18efba3e0e)**\n",
    "\n",
    "[1] A. Logacjov, K. Bach, A. Kongsvold, H. B. Bårdstu, and P. J. Mork, “HARTH: A Human Activity Recognition Dataset for Machine Learning,” Sensors, vol. 21, no. 23, Art. no. 23, Jan. 2021, doi: 10.3390/s21237853.\n",
    "\n",
    "[2] K. Bach et al., “A Machine Learning Classifier for Detection of Physical Activity Types and Postures During Free-Living,” Journal for the Measurement of Physical Behaviour, vol. 1, no. aop, pp. 1–8, Dec. 2021, doi: 10.1123/jmpb.2021-0015."
   ]
  },
  {
   "cell_type": "markdown",
   "metadata": {},
   "source": [
    "### 0.2. HAR70+ Dataset"
   ]
  },
  {
   "cell_type": "markdown",
   "metadata": {},
   "source": [
    "The Human Activity Recognition 70+ (HAR70+) dataset can be found [here](https://archive.ics.uci.edu/dataset/780/har70). The HAR70+ dataset contains sensor data from 18 fit-to-frail older adult subjects (70-95 years old) wearing two 3-axial accelerometers (attached to the right thigh and lower back) for around 40 minutes during a semi-structured free-living protocol.\n",
    "\n",
    "*The following information is taken **verbatim** from the HAR70+ dataset [webpage](https://archive.ics.uci.edu/dataset/780/har70).*\n",
    "\n",
    "**For what purpose was the dataset created?**\n",
    "\n",
    "The purpose was to train machine learning models for human activity recognition on professionally-annotated accelerometer data of fit-to-frail older adults.\n",
    "\n",
    "**Additional Information**\n",
    "\n",
    "The HAR70+ dataset contains recordings of 18 older adult participants wearing two 3-axial Axivity AX3 accelerometers for around 40 minutes in a semi-structured free-living setting. The participants' age was between 70 and 95 years. Five of the 18 subjects used walking aids during data recording. One sensor was attached to the right front thigh and the other to the lower back. The provided sampling rate is 50Hz. Video recordings of a chest-mounted camera were used to annotate the performed activities frame-by-frame.\n",
    "\n",
    "Each subject's recordings are provided in a separate .csv file. One such .csv file contains the following columns:\n",
    "1. `timestamp`: date and time of recorded sample\n",
    "2. `back_x`: acceleration of back sensor in $x$-direction (down) in the unit $g$\n",
    "3. `back_y`: acceleration of back sensor in $y$-direction (left) in the unit $g$\n",
    "4. `back_z`: acceleration of back sensor in $z$-direction (forward) in the unit $g$\n",
    "5. `thigh_x`: acceleration of thigh sensor in $x$-direction (down) in the unit $g$\n",
    "6. `thigh_y`: acceleration of thigh sensor in $y$-direction (right) in the unit $g$\n",
    "7. `thigh_z`: acceleration of thigh sensor in $z$-direction (backward) in the unit $g$\n",
    "8. `label`: annotated activity code\n",
    "\n",
    "The dataset contains the following **annotated activities** with the corresponding coding scheme:\n",
    "- (1) Walking\t\n",
    "- (3) Shuffling\n",
    "- (4) Stairs (ascending)\t\n",
    "- (5) Stairs (descending)\t\n",
    "- (6) Standing\t\n",
    "- (7) Sitting\t\n",
    "- (8) Lying\n",
    "\n",
    "*The HAR70+ dataset follows the annotation scheme of the HARTH dataset. For instance, the value `2` does not appear in any of the class labels in this dataset as none of the participants were recorded running.*\n",
    "\n",
    "**[Corresponding Paper](https://www.mdpi.com/1424-8220/23/5/2368)**\n",
    "\n",
    "[1] Ustad, A., Logacjov, A., Trollebø, S.Ø., Thingstad, P., Vereijken, B., Bach, K., Maroni, N.S., 2023. Validation of an Activity Type Recognition Model Classifying Daily Physical Behavior in Older Adults: The HAR70+ Model. Sensors 23, 2368. https://doi.org/10.3390/s23052368"
   ]
  },
  {
   "cell_type": "markdown",
   "metadata": {},
   "source": [
    "## 1. Setup"
   ]
  },
  {
   "cell_type": "code",
   "execution_count": 1,
   "metadata": {},
   "outputs": [],
   "source": [
    "# Automatic reloading\n",
    "%load_ext autoreload\n",
    "%autoreload 2"
   ]
  },
  {
   "cell_type": "code",
   "execution_count": 2,
   "metadata": {},
   "outputs": [],
   "source": [
    "####################\n",
    "# Required Modules #\n",
    "####################\n",
    "\n",
    "# Generic/Built-in\n",
    "import sys \n",
    "import os\n",
    "\n",
    "# Libs\n",
    "import pandas as pd\n",
    "import matplotlib.pyplot as plt"
   ]
  },
  {
   "cell_type": "markdown",
   "metadata": {},
   "source": [
    "The cell below sets up the environment by adding the project’s root directory to the system path and changing the current working directory, enabling imports from the `/src` folder. **This cell should only be ran once per session.**"
   ]
  },
  {
   "cell_type": "code",
   "execution_count": 3,
   "metadata": {},
   "outputs": [],
   "source": [
    "# Add the project root directory to the system path to enable imports from the '/src' folder.\n",
    "\n",
    "# Get the project directory \n",
    "current_dir = os.path.abspath('') # Current '\\notebooks' directory\n",
    "project_dir = os.path.abspath(os.path.join(current_dir, '..')) # Move up one level to project root directory\n",
    "\n",
    "# Add the project directory to sys.path\n",
    "sys.path.append(project_dir)\n",
    "\n",
    "# Move up to project directory\n",
    "os.chdir(project_dir)\n",
    "\n",
    "# Import custom modules\n",
    "from src.data_preparation import *"
   ]
  },
  {
   "cell_type": "code",
   "execution_count": 4,
   "metadata": {},
   "outputs": [
    {
     "name": "stdout",
     "output_type": "stream",
     "text": [
      "📂 HARTH dataset already downloaded: data\\harth.zip\n",
      "📂 HARTH dataset already extracted in data\\harth\n",
      "📂 HAR70+ dataset already downloaded: data\\har70.zip\n",
      "📂 HAR70+ dataset already extracted in data\\har70plus\n"
     ]
    }
   ],
   "source": [
    "# Download HAR70+ dataset and save to 'data' directory\n",
    "download_har_datasets()"
   ]
  },
  {
   "cell_type": "markdown",
   "metadata": {},
   "source": [
    "## 2. Examine Datasets\n",
    "The HARTH and HAR70+ datasets contain 22 and 18 `csv` files respectively. Each file corresponds to the recorded data for one subject, for a total of 40 subjects. \n",
    "\n",
    "Let us examine the data of two subjects, one from each dataset."
   ]
  },
  {
   "cell_type": "code",
   "execution_count": 5,
   "metadata": {},
   "outputs": [
    {
     "data": {
      "text/html": [
       "<div>\n",
       "<style scoped>\n",
       "    .dataframe tbody tr th:only-of-type {\n",
       "        vertical-align: middle;\n",
       "    }\n",
       "\n",
       "    .dataframe tbody tr th {\n",
       "        vertical-align: top;\n",
       "    }\n",
       "\n",
       "    .dataframe thead th {\n",
       "        text-align: right;\n",
       "    }\n",
       "</style>\n",
       "<table border=\"1\" class=\"dataframe\">\n",
       "  <thead>\n",
       "    <tr style=\"text-align: right;\">\n",
       "      <th></th>\n",
       "      <th>timestamp</th>\n",
       "      <th>back_x</th>\n",
       "      <th>back_y</th>\n",
       "      <th>back_z</th>\n",
       "      <th>thigh_x</th>\n",
       "      <th>thigh_y</th>\n",
       "      <th>thigh_z</th>\n",
       "      <th>label</th>\n",
       "    </tr>\n",
       "  </thead>\n",
       "  <tbody>\n",
       "    <tr>\n",
       "      <th>0</th>\n",
       "      <td>2000-01-01 00:00:00.000</td>\n",
       "      <td>-1.503049</td>\n",
       "      <td>-1.051608</td>\n",
       "      <td>0.237058</td>\n",
       "      <td>0.974235</td>\n",
       "      <td>-0.847410</td>\n",
       "      <td>-0.504778</td>\n",
       "      <td>6</td>\n",
       "    </tr>\n",
       "    <tr>\n",
       "      <th>1</th>\n",
       "      <td>2000-01-01 00:00:00.020</td>\n",
       "      <td>-0.864992</td>\n",
       "      <td>-0.914792</td>\n",
       "      <td>-0.386545</td>\n",
       "      <td>0.697154</td>\n",
       "      <td>-2.227859</td>\n",
       "      <td>1.101613</td>\n",
       "      <td>6</td>\n",
       "    </tr>\n",
       "    <tr>\n",
       "      <th>2</th>\n",
       "      <td>2000-01-01 00:00:00.040</td>\n",
       "      <td>-1.583990</td>\n",
       "      <td>0.037271</td>\n",
       "      <td>-0.710803</td>\n",
       "      <td>0.304346</td>\n",
       "      <td>-1.973903</td>\n",
       "      <td>-1.322303</td>\n",
       "      <td>6</td>\n",
       "    </tr>\n",
       "    <tr>\n",
       "      <th>3</th>\n",
       "      <td>2000-01-01 00:00:00.060</td>\n",
       "      <td>-0.648235</td>\n",
       "      <td>-0.042650</td>\n",
       "      <td>-0.380469</td>\n",
       "      <td>-0.547640</td>\n",
       "      <td>-0.858467</td>\n",
       "      <td>-3.763091</td>\n",
       "      <td>6</td>\n",
       "    </tr>\n",
       "    <tr>\n",
       "      <th>4</th>\n",
       "      <td>2000-01-01 00:00:00.080</td>\n",
       "      <td>-1.384078</td>\n",
       "      <td>-0.131357</td>\n",
       "      <td>-0.313325</td>\n",
       "      <td>-1.343622</td>\n",
       "      <td>1.377993</td>\n",
       "      <td>-0.188187</td>\n",
       "      <td>6</td>\n",
       "    </tr>\n",
       "  </tbody>\n",
       "</table>\n",
       "</div>"
      ],
      "text/plain": [
       "                 timestamp    back_x    back_y    back_z   thigh_x   thigh_y  \\\n",
       "0  2000-01-01 00:00:00.000 -1.503049 -1.051608  0.237058  0.974235 -0.847410   \n",
       "1  2000-01-01 00:00:00.020 -0.864992 -0.914792 -0.386545  0.697154 -2.227859   \n",
       "2  2000-01-01 00:00:00.040 -1.583990  0.037271 -0.710803  0.304346 -1.973903   \n",
       "3  2000-01-01 00:00:00.060 -0.648235 -0.042650 -0.380469 -0.547640 -0.858467   \n",
       "4  2000-01-01 00:00:00.080 -1.384078 -0.131357 -0.313325 -1.343622  1.377993   \n",
       "\n",
       "    thigh_z  label  \n",
       "0 -0.504778      6  \n",
       "1  1.101613      6  \n",
       "2 -1.322303      6  \n",
       "3 -3.763091      6  \n",
       "4 -0.188187      6  "
      ]
     },
     "execution_count": 5,
     "metadata": {},
     "output_type": "execute_result"
    }
   ],
   "source": [
    "# Load S013.csv (HARTH)\n",
    "df_s013 = pd.read_csv(\"data/harth/S013.csv\")\n",
    "df_s013.head()"
   ]
  },
  {
   "cell_type": "code",
   "execution_count": 6,
   "metadata": {},
   "outputs": [
    {
     "data": {
      "text/html": [
       "<div>\n",
       "<style scoped>\n",
       "    .dataframe tbody tr th:only-of-type {\n",
       "        vertical-align: middle;\n",
       "    }\n",
       "\n",
       "    .dataframe tbody tr th {\n",
       "        vertical-align: top;\n",
       "    }\n",
       "\n",
       "    .dataframe thead th {\n",
       "        text-align: right;\n",
       "    }\n",
       "</style>\n",
       "<table border=\"1\" class=\"dataframe\">\n",
       "  <thead>\n",
       "    <tr style=\"text-align: right;\">\n",
       "      <th></th>\n",
       "      <th>timestamp</th>\n",
       "      <th>back_x</th>\n",
       "      <th>back_y</th>\n",
       "      <th>back_z</th>\n",
       "      <th>thigh_x</th>\n",
       "      <th>thigh_y</th>\n",
       "      <th>thigh_z</th>\n",
       "      <th>label</th>\n",
       "    </tr>\n",
       "  </thead>\n",
       "  <tbody>\n",
       "    <tr>\n",
       "      <th>0</th>\n",
       "      <td>2021-03-24 14:42:03.839</td>\n",
       "      <td>-0.999023</td>\n",
       "      <td>-0.063477</td>\n",
       "      <td>0.140625</td>\n",
       "      <td>-0.980469</td>\n",
       "      <td>-0.112061</td>\n",
       "      <td>-0.048096</td>\n",
       "      <td>6</td>\n",
       "    </tr>\n",
       "    <tr>\n",
       "      <th>1</th>\n",
       "      <td>2021-03-24 14:42:03.859</td>\n",
       "      <td>-0.980225</td>\n",
       "      <td>-0.079346</td>\n",
       "      <td>0.140625</td>\n",
       "      <td>-0.961182</td>\n",
       "      <td>-0.121582</td>\n",
       "      <td>-0.051758</td>\n",
       "      <td>6</td>\n",
       "    </tr>\n",
       "    <tr>\n",
       "      <th>2</th>\n",
       "      <td>2021-03-24 14:42:03.880</td>\n",
       "      <td>-0.950195</td>\n",
       "      <td>-0.076416</td>\n",
       "      <td>0.140625</td>\n",
       "      <td>-0.949463</td>\n",
       "      <td>-0.080566</td>\n",
       "      <td>-0.067139</td>\n",
       "      <td>6</td>\n",
       "    </tr>\n",
       "    <tr>\n",
       "      <th>3</th>\n",
       "      <td>2021-03-24 14:42:03.900</td>\n",
       "      <td>-0.954834</td>\n",
       "      <td>-0.059082</td>\n",
       "      <td>0.140381</td>\n",
       "      <td>-0.957520</td>\n",
       "      <td>-0.046143</td>\n",
       "      <td>-0.050781</td>\n",
       "      <td>6</td>\n",
       "    </tr>\n",
       "    <tr>\n",
       "      <th>4</th>\n",
       "      <td>2021-03-24 14:42:03.920</td>\n",
       "      <td>-0.972412</td>\n",
       "      <td>-0.042969</td>\n",
       "      <td>0.142822</td>\n",
       "      <td>-0.977051</td>\n",
       "      <td>-0.023682</td>\n",
       "      <td>-0.026611</td>\n",
       "      <td>6</td>\n",
       "    </tr>\n",
       "  </tbody>\n",
       "</table>\n",
       "</div>"
      ],
      "text/plain": [
       "                 timestamp    back_x    back_y    back_z   thigh_x   thigh_y  \\\n",
       "0  2021-03-24 14:42:03.839 -0.999023 -0.063477  0.140625 -0.980469 -0.112061   \n",
       "1  2021-03-24 14:42:03.859 -0.980225 -0.079346  0.140625 -0.961182 -0.121582   \n",
       "2  2021-03-24 14:42:03.880 -0.950195 -0.076416  0.140625 -0.949463 -0.080566   \n",
       "3  2021-03-24 14:42:03.900 -0.954834 -0.059082  0.140381 -0.957520 -0.046143   \n",
       "4  2021-03-24 14:42:03.920 -0.972412 -0.042969  0.142822 -0.977051 -0.023682   \n",
       "\n",
       "    thigh_z  label  \n",
       "0 -0.048096      6  \n",
       "1 -0.051758      6  \n",
       "2 -0.067139      6  \n",
       "3 -0.050781      6  \n",
       "4 -0.026611      6  "
      ]
     },
     "execution_count": 6,
     "metadata": {},
     "output_type": "execute_result"
    }
   ],
   "source": [
    "# Load 501.csv (HAR70+)\n",
    "df_501 = pd.read_csv(\"data/har70plus/501.csv\")\n",
    "df_501.head()"
   ]
  },
  {
   "cell_type": "markdown",
   "metadata": {},
   "source": [
    "### 2.1. Examine Timestamps"
   ]
  },
  {
   "cell_type": "markdown",
   "metadata": {},
   "source": [
    "Each sample (row) contains the sensor data for one time step."
   ]
  },
  {
   "cell_type": "code",
   "execution_count": 7,
   "metadata": {},
   "outputs": [
    {
     "data": {
      "text/plain": [
       "0    2000-01-01 00:00:00.000\n",
       "1    2000-01-01 00:00:00.020\n",
       "2    2000-01-01 00:00:00.040\n",
       "3    2000-01-01 00:00:00.060\n",
       "4    2000-01-01 00:00:00.080\n",
       "Name: timestamp, dtype: object"
      ]
     },
     "execution_count": 7,
     "metadata": {},
     "output_type": "execute_result"
    }
   ],
   "source": [
    "# Check timestamp format\n",
    "df_s013['timestamp'].head()"
   ]
  },
  {
   "cell_type": "code",
   "execution_count": 8,
   "metadata": {},
   "outputs": [
    {
     "data": {
      "text/plain": [
       "count    369076.000000\n",
       "mean          0.020965\n",
       "std           0.135342\n",
       "min           0.020000\n",
       "25%           0.020000\n",
       "50%           0.020000\n",
       "75%           0.020000\n",
       "max          59.620000\n",
       "Name: timestamp_diff, dtype: float64"
      ]
     },
     "execution_count": 8,
     "metadata": {},
     "output_type": "execute_result"
    }
   ],
   "source": [
    "# Convert timestamp to datetime and calculate time differences (between consecutive time steps)\n",
    "df_s013['timestamp'] = pd.to_datetime(df_s013['timestamp'])\n",
    "df_s013['timestamp_diff'] = df_s013['timestamp'].diff().dt.total_seconds()\n",
    "\n",
    "# Summary statistics of timestamp gaps\n",
    "df_s013['timestamp_diff'].describe()"
   ]
  },
  {
   "cell_type": "code",
   "execution_count": 9,
   "metadata": {},
   "outputs": [
    {
     "data": {
      "text/plain": [
       "0    2021-03-24 14:42:03.839\n",
       "1    2021-03-24 14:42:03.859\n",
       "2    2021-03-24 14:42:03.880\n",
       "3    2021-03-24 14:42:03.900\n",
       "4    2021-03-24 14:42:03.920\n",
       "Name: timestamp, dtype: object"
      ]
     },
     "execution_count": 9,
     "metadata": {},
     "output_type": "execute_result"
    }
   ],
   "source": [
    "# Check timestamp format\n",
    "df_501['timestamp'].head()"
   ]
  },
  {
   "cell_type": "code",
   "execution_count": 10,
   "metadata": {},
   "outputs": [
    {
     "data": {
      "text/plain": [
       "count    103859.000000\n",
       "mean          0.020241\n",
       "std           0.027083\n",
       "min           0.019000\n",
       "25%           0.020000\n",
       "50%           0.020000\n",
       "75%           0.020000\n",
       "max           4.861000\n",
       "Name: timestamp_diff, dtype: float64"
      ]
     },
     "execution_count": 10,
     "metadata": {},
     "output_type": "execute_result"
    }
   ],
   "source": [
    "# Convert timestamp to datetime and calculate time differences (between consecutive time steps)\n",
    "df_501['timestamp'] = pd.to_datetime(df_501['timestamp'])\n",
    "df_501['timestamp_diff'] = df_501['timestamp'].diff().dt.total_seconds()\n",
    "\n",
    "# Summary statistics of timestamp gaps\n",
    "df_501['timestamp_diff'].describe()"
   ]
  },
  {
   "cell_type": "markdown",
   "metadata": {},
   "source": [
    "As we can see, the average time interval between consecutive time steps is 0.02 seconds (20 milliseconds), which aligns with the reported **50Hz sampling rate** for both datasets (1/50 = 0.02 seconds).\n",
    "\n",
    "However, there are occasional larger time gaps (up to 59.62 and 4.861 seconds for `S013.csv` and `501.csv` respectively). This is likely due to pauses in recording or missing data.\n",
    "\n",
    "When constructing sequences of time steps for our time series dataset using a sliding window approach (slide window across time steps), we must account for discontinuities in the time series. Specifically, the sliding window cannot move across 'breakpoints' - points where the time gap between consecutive steps significantly exceeds the expected 0.02 seconds. These gaps indicate interruptions in data collection, and allowing the window to extend past them would create sequences that falsely assume temporal continuity.\n",
    "\n",
    "We can identify these breakpoints like so:"
   ]
  },
  {
   "cell_type": "code",
   "execution_count": 11,
   "metadata": {},
   "outputs": [
    {
     "name": "stdout",
     "output_type": "stream",
     "text": [
      "Identified 54 breakpoints at indices: [772, 856, 1170, 1500, 2104, 6090, 52548, 56888, 57650, 59156, 59500, 87040, 90538, 92026, 109222, 109560, 109566, 109578, 120702, 143224, 160842, 175758, 175906, 176446, 176576, 176692, 177122, 177726, 178292, 180548, 182032, 183400, 183496, 253498, 253706, 253766, 254154, 254342, 254398, 254430, 255006, 256312, 261370, 261780, 272874, 305448, 307134, 319696, 326862, 362192, 362660, 363792, 365274, 365686]\n"
     ]
    }
   ],
   "source": [
    "# Identify breakpoints (where gaps are larger than expected 0.02s)\n",
    "gap_threshold = 0.05  # Slightly higher than 0.02 to account for minor variations\n",
    "breakpoints = df_s013[df_s013['timestamp_diff'] > gap_threshold].index\n",
    "\n",
    "# Print breakpoints\n",
    "print(f\"Identified {len(breakpoints)} breakpoints at indices:\", breakpoints.tolist())"
   ]
  },
  {
   "cell_type": "markdown",
   "metadata": {},
   "source": [
    "Let's examine the breakpoint at index 772:"
   ]
  },
  {
   "cell_type": "code",
   "execution_count": 12,
   "metadata": {},
   "outputs": [
    {
     "data": {
      "text/plain": [
       "770   2000-01-01 00:00:15.400\n",
       "771   2000-01-01 00:00:15.420\n",
       "772   2000-01-01 00:00:28.080\n",
       "773   2000-01-01 00:00:28.100\n",
       "774   2000-01-01 00:00:28.120\n",
       "Name: timestamp, dtype: datetime64[ns]"
      ]
     },
     "execution_count": 12,
     "metadata": {},
     "output_type": "execute_result"
    }
   ],
   "source": [
    "df_s013[\"timestamp\"].iloc[770: 775]"
   ]
  },
  {
   "cell_type": "markdown",
   "metadata": {},
   "source": [
    "As we can see, there is a large gap between time step 771 and 772. When constructing our sequences later, we will ensure that no sequence contains BOTH time step 771 and 772."
   ]
  },
  {
   "cell_type": "markdown",
   "metadata": {},
   "source": [
    "### 2.2. Handling Discrepancy"
   ]
  },
  {
   "cell_type": "markdown",
   "metadata": {},
   "source": [
    "After reviewing all files, we identified one discrepancy: unlike every other subject, `S006.csv` contains data recorded at a 100Hz sampling rate, meaning there is only a 0.01 second gap between consecutive time steps."
   ]
  },
  {
   "cell_type": "code",
   "execution_count": 13,
   "metadata": {},
   "outputs": [
    {
     "data": {
      "text/plain": [
       "0    2019-01-12 00:00:00.000\n",
       "1    2019-01-12 00:00:00.010\n",
       "2    2019-01-12 00:00:00.020\n",
       "3    2019-01-12 00:00:00.030\n",
       "4    2019-01-12 00:00:00.040\n",
       "Name: timestamp, dtype: object"
      ]
     },
     "execution_count": 13,
     "metadata": {},
     "output_type": "execute_result"
    }
   ],
   "source": [
    "df_s006 = pd.read_csv(\"data/harth/S006.csv\")\n",
    "df_s006['timestamp'].head()"
   ]
  },
  {
   "cell_type": "code",
   "execution_count": 14,
   "metadata": {},
   "outputs": [
    {
     "data": {
      "text/plain": [
       "count    408708.000000\n",
       "mean          0.010210\n",
       "std           0.034594\n",
       "min           0.010000\n",
       "25%           0.010000\n",
       "50%           0.010000\n",
       "75%           0.010000\n",
       "max          17.690000\n",
       "Name: timestamp_diff, dtype: float64"
      ]
     },
     "execution_count": 14,
     "metadata": {},
     "output_type": "execute_result"
    }
   ],
   "source": [
    "# Convert timestamp to datetime and calculate time differences (between consecutive time steps)\n",
    "df_s006['timestamp'] = pd.to_datetime(df_s006['timestamp'])\n",
    "df_s006['timestamp_diff'] = df_s006['timestamp'].diff().dt.total_seconds()\n",
    "\n",
    "# Summary statistics of timestamp gaps\n",
    "df_s006['timestamp_diff'].describe()"
   ]
  },
  {
   "cell_type": "markdown",
   "metadata": {},
   "source": [
    "The HARTH paper notes that some subjects were originally recorded at 100Hz and subsequently downsampled to 50Hz. However, it appears that for `S006.csv`, the dataset creators mistakenly left the data **undownsampled**. This inconsistency is also present in version 1.0 of the HARTH GitHub repository.\n",
    "\n",
    "Although newer versions seem to have addressed this issue, the authors recommend using version 1.0 for reproducibility. Furthermore, the copy we obtained from the UCI repository contains the same discrepancy. Therefore, we will manually downsample `S006.csv` to ensure consistency across the dataset, using our `downsample_s006_data` function."
   ]
  },
  {
   "cell_type": "code",
   "execution_count": 15,
   "metadata": {},
   "outputs": [
    {
     "data": {
      "text/html": [
       "<div>\n",
       "<style scoped>\n",
       "    .dataframe tbody tr th:only-of-type {\n",
       "        vertical-align: middle;\n",
       "    }\n",
       "\n",
       "    .dataframe tbody tr th {\n",
       "        vertical-align: top;\n",
       "    }\n",
       "\n",
       "    .dataframe thead th {\n",
       "        text-align: right;\n",
       "    }\n",
       "</style>\n",
       "<table border=\"1\" class=\"dataframe\">\n",
       "  <thead>\n",
       "    <tr style=\"text-align: right;\">\n",
       "      <th></th>\n",
       "      <th>timestamp</th>\n",
       "      <th>back_x</th>\n",
       "      <th>back_y</th>\n",
       "      <th>back_z</th>\n",
       "      <th>thigh_x</th>\n",
       "      <th>thigh_y</th>\n",
       "      <th>thigh_z</th>\n",
       "      <th>label</th>\n",
       "    </tr>\n",
       "  </thead>\n",
       "  <tbody>\n",
       "    <tr>\n",
       "      <th>0</th>\n",
       "      <td>2019-01-12 00:00:00.000</td>\n",
       "      <td>-0.760242</td>\n",
       "      <td>0.299570</td>\n",
       "      <td>0.468570</td>\n",
       "      <td>-5.092732</td>\n",
       "      <td>-0.298644</td>\n",
       "      <td>0.709439</td>\n",
       "      <td>6</td>\n",
       "    </tr>\n",
       "    <tr>\n",
       "      <th>1</th>\n",
       "      <td>2019-01-12 00:00:00.020</td>\n",
       "      <td>-1.170922</td>\n",
       "      <td>0.186353</td>\n",
       "      <td>-0.167010</td>\n",
       "      <td>-0.035442</td>\n",
       "      <td>-0.078423</td>\n",
       "      <td>-0.515212</td>\n",
       "      <td>6</td>\n",
       "    </tr>\n",
       "    <tr>\n",
       "      <th>2</th>\n",
       "      <td>2019-01-12 00:00:00.040</td>\n",
       "      <td>-0.355071</td>\n",
       "      <td>-0.051831</td>\n",
       "      <td>-0.113419</td>\n",
       "      <td>-0.547471</td>\n",
       "      <td>0.140903</td>\n",
       "      <td>-0.653782</td>\n",
       "      <td>6</td>\n",
       "    </tr>\n",
       "    <tr>\n",
       "      <th>3</th>\n",
       "      <td>2019-01-12 00:00:00.060</td>\n",
       "      <td>-1.187088</td>\n",
       "      <td>-0.005508</td>\n",
       "      <td>0.056683</td>\n",
       "      <td>-0.520771</td>\n",
       "      <td>0.154755</td>\n",
       "      <td>-0.232140</td>\n",
       "      <td>6</td>\n",
       "    </tr>\n",
       "    <tr>\n",
       "      <th>4</th>\n",
       "      <td>2019-01-12 00:00:00.080</td>\n",
       "      <td>-0.841369</td>\n",
       "      <td>0.129879</td>\n",
       "      <td>0.122489</td>\n",
       "      <td>-0.954652</td>\n",
       "      <td>-0.293586</td>\n",
       "      <td>-0.184660</td>\n",
       "      <td>6</td>\n",
       "    </tr>\n",
       "  </tbody>\n",
       "</table>\n",
       "</div>"
      ],
      "text/plain": [
       "                 timestamp    back_x    back_y    back_z   thigh_x   thigh_y  \\\n",
       "0  2019-01-12 00:00:00.000 -0.760242  0.299570  0.468570 -5.092732 -0.298644   \n",
       "1  2019-01-12 00:00:00.020 -1.170922  0.186353 -0.167010 -0.035442 -0.078423   \n",
       "2  2019-01-12 00:00:00.040 -0.355071 -0.051831 -0.113419 -0.547471  0.140903   \n",
       "3  2019-01-12 00:00:00.060 -1.187088 -0.005508  0.056683 -0.520771  0.154755   \n",
       "4  2019-01-12 00:00:00.080 -0.841369  0.129879  0.122489 -0.954652 -0.293586   \n",
       "\n",
       "    thigh_z  label  \n",
       "0  0.709439      6  \n",
       "1 -0.515212      6  \n",
       "2 -0.653782      6  \n",
       "3 -0.232140      6  \n",
       "4 -0.184660      6  "
      ]
     },
     "execution_count": 15,
     "metadata": {},
     "output_type": "execute_result"
    }
   ],
   "source": [
    "df_s006 = pd.read_csv(\"data/harth/S006.csv\")\n",
    "df_s006_downsampled = downsample_s006_data(df_s006)\n",
    "df_s006_downsampled.head()"
   ]
  },
  {
   "cell_type": "markdown",
   "metadata": {},
   "source": [
    "### 2.3. Examine Labels (Classes)"
   ]
  },
  {
   "cell_type": "code",
   "execution_count": 16,
   "metadata": {},
   "outputs": [
    {
     "data": {
      "text/plain": [
       "label\n",
       "1       34548\n",
       "2        3494\n",
       "3       37316\n",
       "4        3440\n",
       "5        2846\n",
       "6       53591\n",
       "7      223424\n",
       "8        7554\n",
       "13       2764\n",
       "130       100\n",
       "Name: count, dtype: int64"
      ]
     },
     "execution_count": 16,
     "metadata": {},
     "output_type": "execute_result"
    }
   ],
   "source": [
    "# See sample labels\n",
    "df_s013[\"label\"].value_counts().sort_index()"
   ]
  },
  {
   "cell_type": "code",
   "execution_count": 17,
   "metadata": {},
   "outputs": [
    {
     "data": {
      "text/plain": [
       "label\n",
       "1    62872\n",
       "3     1876\n",
       "4       92\n",
       "5      504\n",
       "6    14376\n",
       "7    14562\n",
       "8     9578\n",
       "Name: count, dtype: int64"
      ]
     },
     "execution_count": 17,
     "metadata": {},
     "output_type": "execute_result"
    }
   ],
   "source": [
    "# See sample labels\n",
    "df_501[\"label\"].value_counts().sort_index()"
   ]
  },
  {
   "cell_type": "markdown",
   "metadata": {},
   "source": [
    "Two observations:\n",
    "- There is a significant **class imbalance**.\n",
    "- The coding scheme being used is **inappropriate** for PyTorch usage, which requires labels to be integers in the range `[0, num_classes - 1]`.\n",
    "\n",
    "**Note:** The HARTH dataset UCI repository page refers to the last two labels (index 130 and 140) as \"Cycling (sit, inactive)\" and \"Cycling (stand, inactive)\", which is somewhat confusing, as \"inactive cycling\" is contradictory. In the HARTH paper however, the last two labels are instead referred to as \"Transport (sitting)\" and \"Transport (standing)\", defining them as the activity of sitting or standing in a bus, car, or train (refer to Appendix A). We will adopt this more intuitive label naming convention. \n",
    "\n",
    "**Original** activity coding scheme:\n",
    "- (1) Walking\n",
    "- (2) Running\t\n",
    "- (3) Shuffling\n",
    "- (4) Stairs (ascending)\t\n",
    "- (5) Stairs (descending)\t\n",
    "- (6) Standing\t\n",
    "- (7) Sitting\t\n",
    "- (8) Lying\n",
    "- (13) Cycling (sit)\n",
    "- (14) Cycling (stand) \n",
    "- (130) *Transport (sit)*\n",
    "- (140): *Transport (stand)*"
   ]
  },
  {
   "cell_type": "markdown",
   "metadata": {},
   "source": [
    "We will use the `load_har_subject_data` function to load the `csv` files of all 40 subjects into dataframe objects (`pd.DataFrame`). Additionally, this function will:\n",
    "- Manually downsample `S006.csv` for us (as we did above)\n",
    "- Remap the class labels to a PyTorch appropriate scheme, using the map: `{1: 0, 2: 1, 3: 2, 4: 3, 5: 4, 6: 5, 7: 6, 8: 7, 13: 8, 14: 9, 130: 10, 140: 11}`\n",
    "\n",
    "This will result in a **new** activity coding scheme:\n",
    "- (0) Walking\n",
    "- (1) Running\t\n",
    "- (2) Shuffling\n",
    "- (3) Stairs (ascending)\t\n",
    "- (4) Stairs (descending)\t\n",
    "- (5) Standing\t\n",
    "- (6) Sitting\t\n",
    "- (7) Lying\n",
    "- (8) Cycling (sit)\n",
    "- (9) Cycling (stand) \n",
    "- (10) Transport (sit)\n",
    "- (11): Transport (stand)\n"
   ]
  },
  {
   "cell_type": "code",
   "execution_count": 18,
   "metadata": {},
   "outputs": [
    {
     "name": "stdout",
     "output_type": "stream",
     "text": [
      "✅ Successfully loaded recorded data of subjects from HARTH and HAR70+ datasets.\n"
     ]
    }
   ],
   "source": [
    "subject_dfs = load_har_subject_data()"
   ]
  },
  {
   "cell_type": "markdown",
   "metadata": {},
   "source": [
    "To examine the data across all 40 subjects, we will combine the datasets together.\n",
    "\n",
    "*Note: `S023.csv` has an unnamed column (just an indexing) while `S021.csv` has an extra `index` (not sure what this is for). These are not needed and will be discarded.*"
   ]
  },
  {
   "cell_type": "code",
   "execution_count": 19,
   "metadata": {},
   "outputs": [
    {
     "data": {
      "text/html": [
       "<div>\n",
       "<style scoped>\n",
       "    .dataframe tbody tr th:only-of-type {\n",
       "        vertical-align: middle;\n",
       "    }\n",
       "\n",
       "    .dataframe tbody tr th {\n",
       "        vertical-align: top;\n",
       "    }\n",
       "\n",
       "    .dataframe thead th {\n",
       "        text-align: right;\n",
       "    }\n",
       "</style>\n",
       "<table border=\"1\" class=\"dataframe\">\n",
       "  <thead>\n",
       "    <tr style=\"text-align: right;\">\n",
       "      <th></th>\n",
       "      <th>timestamp</th>\n",
       "      <th>back_x</th>\n",
       "      <th>back_y</th>\n",
       "      <th>back_z</th>\n",
       "      <th>thigh_x</th>\n",
       "      <th>thigh_y</th>\n",
       "      <th>thigh_z</th>\n",
       "      <th>label</th>\n",
       "    </tr>\n",
       "  </thead>\n",
       "  <tbody>\n",
       "    <tr>\n",
       "      <th>0</th>\n",
       "      <td>2019-01-12 00:00:00.000</td>\n",
       "      <td>-0.760242</td>\n",
       "      <td>0.299570</td>\n",
       "      <td>0.468570</td>\n",
       "      <td>-5.092732</td>\n",
       "      <td>-0.298644</td>\n",
       "      <td>0.709439</td>\n",
       "      <td>5</td>\n",
       "    </tr>\n",
       "    <tr>\n",
       "      <th>1</th>\n",
       "      <td>2019-01-12 00:00:00.020</td>\n",
       "      <td>-1.170922</td>\n",
       "      <td>0.186353</td>\n",
       "      <td>-0.167010</td>\n",
       "      <td>-0.035442</td>\n",
       "      <td>-0.078423</td>\n",
       "      <td>-0.515212</td>\n",
       "      <td>5</td>\n",
       "    </tr>\n",
       "    <tr>\n",
       "      <th>2</th>\n",
       "      <td>2019-01-12 00:00:00.040</td>\n",
       "      <td>-0.355071</td>\n",
       "      <td>-0.051831</td>\n",
       "      <td>-0.113419</td>\n",
       "      <td>-0.547471</td>\n",
       "      <td>0.140903</td>\n",
       "      <td>-0.653782</td>\n",
       "      <td>5</td>\n",
       "    </tr>\n",
       "    <tr>\n",
       "      <th>3</th>\n",
       "      <td>2019-01-12 00:00:00.060</td>\n",
       "      <td>-1.187088</td>\n",
       "      <td>-0.005508</td>\n",
       "      <td>0.056683</td>\n",
       "      <td>-0.520771</td>\n",
       "      <td>0.154755</td>\n",
       "      <td>-0.232140</td>\n",
       "      <td>5</td>\n",
       "    </tr>\n",
       "    <tr>\n",
       "      <th>4</th>\n",
       "      <td>2019-01-12 00:00:00.080</td>\n",
       "      <td>-0.841369</td>\n",
       "      <td>0.129879</td>\n",
       "      <td>0.122489</td>\n",
       "      <td>-0.954652</td>\n",
       "      <td>-0.293586</td>\n",
       "      <td>-0.184660</td>\n",
       "      <td>5</td>\n",
       "    </tr>\n",
       "  </tbody>\n",
       "</table>\n",
       "</div>"
      ],
      "text/plain": [
       "                 timestamp    back_x    back_y    back_z   thigh_x   thigh_y  \\\n",
       "0  2019-01-12 00:00:00.000 -0.760242  0.299570  0.468570 -5.092732 -0.298644   \n",
       "1  2019-01-12 00:00:00.020 -1.170922  0.186353 -0.167010 -0.035442 -0.078423   \n",
       "2  2019-01-12 00:00:00.040 -0.355071 -0.051831 -0.113419 -0.547471  0.140903   \n",
       "3  2019-01-12 00:00:00.060 -1.187088 -0.005508  0.056683 -0.520771  0.154755   \n",
       "4  2019-01-12 00:00:00.080 -0.841369  0.129879  0.122489 -0.954652 -0.293586   \n",
       "\n",
       "    thigh_z  label  \n",
       "0  0.709439      5  \n",
       "1 -0.515212      5  \n",
       "2 -0.653782      5  \n",
       "3 -0.232140      5  \n",
       "4 -0.184660      5  "
      ]
     },
     "execution_count": 19,
     "metadata": {},
     "output_type": "execute_result"
    }
   ],
   "source": [
    "df = pd.concat(list(subject_dfs.values()), ignore_index=True, join=\"inner\")\n",
    "df.head()"
   ]
  },
  {
   "cell_type": "code",
   "execution_count": 20,
   "metadata": {},
   "outputs": [
    {
     "data": {
      "image/png": "[encoded data removed]",
      "text/plain": [
       "<Figure size 600x300 with 1 Axes>"
      ]
     },
     "metadata": {},
     "output_type": "display_data"
    },
    {
     "data": {
      "text/plain": [
       "label\n",
       "0     2264023\n",
       "1      291356\n",
       "2      314553\n",
       "3       80092\n",
       "4       71456\n",
       "5     1130195\n",
       "6     3259642\n",
       "7      625562\n",
       "8      381444\n",
       "9       54249\n",
       "10      36139\n",
       "11       7865\n",
       "Name: count, dtype: int64"
      ]
     },
     "execution_count": 20,
     "metadata": {},
     "output_type": "execute_result"
    }
   ],
   "source": [
    "label_counts = df[\"label\"].value_counts().sort_index()\n",
    "\n",
    "plt.figure(figsize=(6, 3))\n",
    "label_counts.plot(kind='bar', color='skyblue', edgecolor='black')\n",
    "plt.xlabel(\"Activity Label\")\n",
    "plt.ylabel(\"Count\")\n",
    "plt.title(\"Class Distribution across 40 subjects\")\n",
    "plt.xticks(rotation=0)\n",
    "plt.show()\n",
    "label_counts"
   ]
  },
  {
   "cell_type": "markdown",
   "metadata": {},
   "source": [
    "Across all 40 subjects, we can see there is a major class imbalance across all time steps. Actions like sitting (6), walking (0), and standing (5) are overrepresented and the many actions are underrepresented."
   ]
  },
  {
   "cell_type": "markdown",
   "metadata": {},
   "source": [
    "### 2.4. Descriptive Statistics"
   ]
  },
  {
   "cell_type": "code",
   "execution_count": 21,
   "metadata": {},
   "outputs": [
    {
     "data": {
      "text/html": [
       "<div>\n",
       "<style scoped>\n",
       "    .dataframe tbody tr th:only-of-type {\n",
       "        vertical-align: middle;\n",
       "    }\n",
       "\n",
       "    .dataframe tbody tr th {\n",
       "        vertical-align: top;\n",
       "    }\n",
       "\n",
       "    .dataframe thead th {\n",
       "        text-align: right;\n",
       "    }\n",
       "</style>\n",
       "<table border=\"1\" class=\"dataframe\">\n",
       "  <thead>\n",
       "    <tr style=\"text-align: right;\">\n",
       "      <th></th>\n",
       "      <th>back_x</th>\n",
       "      <th>back_y</th>\n",
       "      <th>back_z</th>\n",
       "      <th>thigh_x</th>\n",
       "      <th>thigh_y</th>\n",
       "      <th>thigh_z</th>\n",
       "      <th>label</th>\n",
       "    </tr>\n",
       "  </thead>\n",
       "  <tbody>\n",
       "    <tr>\n",
       "      <th>count</th>\n",
       "      <td>8.516576e+06</td>\n",
       "      <td>8.516576e+06</td>\n",
       "      <td>8.516576e+06</td>\n",
       "      <td>8.516576e+06</td>\n",
       "      <td>8.516576e+06</td>\n",
       "      <td>8.516576e+06</td>\n",
       "      <td>8.516576e+06</td>\n",
       "    </tr>\n",
       "    <tr>\n",
       "      <th>mean</th>\n",
       "      <td>-8.829589e-01</td>\n",
       "      <td>-1.884468e-02</td>\n",
       "      <td>-1.156947e-01</td>\n",
       "      <td>-6.227566e-01</td>\n",
       "      <td>1.313510e-02</td>\n",
       "      <td>1.677083e-01</td>\n",
       "      <td>4.112218e+00</td>\n",
       "    </tr>\n",
       "    <tr>\n",
       "      <th>std</th>\n",
       "      <td>3.547998e-01</td>\n",
       "      <td>2.140823e-01</td>\n",
       "      <td>3.906977e-01</td>\n",
       "      <td>6.100587e-01</td>\n",
       "      <td>3.645787e-01</td>\n",
       "      <td>7.631934e-01</td>\n",
       "      <td>2.846832e+00</td>\n",
       "    </tr>\n",
       "    <tr>\n",
       "      <th>min</th>\n",
       "      <td>-8.000000e+00</td>\n",
       "      <td>-4.307617e+00</td>\n",
       "      <td>-6.574463e+00</td>\n",
       "      <td>-8.000000e+00</td>\n",
       "      <td>-7.997314e+00</td>\n",
       "      <td>-8.000000e+00</td>\n",
       "      <td>0.000000e+00</td>\n",
       "    </tr>\n",
       "    <tr>\n",
       "      <th>25%</th>\n",
       "      <td>-1.000488e+00</td>\n",
       "      <td>-9.301747e-02</td>\n",
       "      <td>-3.381514e-01</td>\n",
       "      <td>-9.807130e-01</td>\n",
       "      <td>-1.101070e-01</td>\n",
       "      <td>-2.761230e-01</td>\n",
       "      <td>0.000000e+00</td>\n",
       "    </tr>\n",
       "    <tr>\n",
       "      <th>50%</th>\n",
       "      <td>-9.685060e-01</td>\n",
       "      <td>-9.239504e-04</td>\n",
       "      <td>-1.264650e-01</td>\n",
       "      <td>-5.187213e-01</td>\n",
       "      <td>1.855500e-02</td>\n",
       "      <td>8.327713e-02</td>\n",
       "      <td>6.000000e+00</td>\n",
       "    </tr>\n",
       "    <tr>\n",
       "      <th>75%</th>\n",
       "      <td>-8.232420e-01</td>\n",
       "      <td>6.474272e-02</td>\n",
       "      <td>7.259147e-02</td>\n",
       "      <td>-1.562500e-01</td>\n",
       "      <td>1.439597e-01</td>\n",
       "      <td>9.206627e-01</td>\n",
       "      <td>6.000000e+00</td>\n",
       "    </tr>\n",
       "    <tr>\n",
       "      <th>max</th>\n",
       "      <td>2.291708e+00</td>\n",
       "      <td>6.491943e+00</td>\n",
       "      <td>4.909483e+00</td>\n",
       "      <td>7.999756e+00</td>\n",
       "      <td>7.999756e+00</td>\n",
       "      <td>8.406235e+00</td>\n",
       "      <td>1.100000e+01</td>\n",
       "    </tr>\n",
       "  </tbody>\n",
       "</table>\n",
       "</div>"
      ],
      "text/plain": [
       "             back_x        back_y        back_z       thigh_x       thigh_y  \\\n",
       "count  8.516576e+06  8.516576e+06  8.516576e+06  8.516576e+06  8.516576e+06   \n",
       "mean  -8.829589e-01 -1.884468e-02 -1.156947e-01 -6.227566e-01  1.313510e-02   \n",
       "std    3.547998e-01  2.140823e-01  3.906977e-01  6.100587e-01  3.645787e-01   \n",
       "min   -8.000000e+00 -4.307617e+00 -6.574463e+00 -8.000000e+00 -7.997314e+00   \n",
       "25%   -1.000488e+00 -9.301747e-02 -3.381514e-01 -9.807130e-01 -1.101070e-01   \n",
       "50%   -9.685060e-01 -9.239504e-04 -1.264650e-01 -5.187213e-01  1.855500e-02   \n",
       "75%   -8.232420e-01  6.474272e-02  7.259147e-02 -1.562500e-01  1.439597e-01   \n",
       "max    2.291708e+00  6.491943e+00  4.909483e+00  7.999756e+00  7.999756e+00   \n",
       "\n",
       "            thigh_z         label  \n",
       "count  8.516576e+06  8.516576e+06  \n",
       "mean   1.677083e-01  4.112218e+00  \n",
       "std    7.631934e-01  2.846832e+00  \n",
       "min   -8.000000e+00  0.000000e+00  \n",
       "25%   -2.761230e-01  0.000000e+00  \n",
       "50%    8.327713e-02  6.000000e+00  \n",
       "75%    9.206627e-01  6.000000e+00  \n",
       "max    8.406235e+00  1.100000e+01  "
      ]
     },
     "execution_count": 21,
     "metadata": {},
     "output_type": "execute_result"
    }
   ],
   "source": [
    "df.describe()"
   ]
  },
  {
   "cell_type": "markdown",
   "metadata": {},
   "source": [
    "### 2.5. Missing Values"
   ]
  },
  {
   "cell_type": "code",
   "execution_count": 22,
   "metadata": {},
   "outputs": [
    {
     "data": {
      "text/plain": [
       "timestamp    0\n",
       "back_x       0\n",
       "back_y       0\n",
       "back_z       0\n",
       "thigh_x      0\n",
       "thigh_y      0\n",
       "thigh_z      0\n",
       "label        0\n",
       "dtype: int64"
      ]
     },
     "execution_count": 22,
     "metadata": {},
     "output_type": "execute_result"
    }
   ],
   "source": [
    "# Check for missing values\n",
    "df.isnull().sum()"
   ]
  },
  {
   "cell_type": "markdown",
   "metadata": {},
   "source": [
    "There are no missing values in the dataset."
   ]
  },
  {
   "cell_type": "code",
   "execution_count": 23,
   "metadata": {},
   "outputs": [],
   "source": [
    "# Testing \n",
    "df_train, df_val, df_test = split_har_subject_data(subject_dfs)"
   ]
  },
  {
   "cell_type": "code",
   "execution_count": 24,
   "metadata": {},
   "outputs": [],
   "source": [
    "train_dataset = HARDataset(df_train)"
   ]
  },
  {
   "cell_type": "code",
   "execution_count": 25,
   "metadata": {},
   "outputs": [
    {
     "data": {
      "text/plain": [
       "(tensor([[-0.9739,  0.0620, -0.3596, -0.9547, -0.0350, -0.3025],\n",
       "         [-0.9664,  0.0629, -0.3591, -0.9558, -0.0329, -0.3025],\n",
       "         [-0.9705,  0.0621, -0.3597, -0.9643, -0.0349, -0.3025],\n",
       "         ...,\n",
       "         [-0.9763,  0.1079, -0.3723, -0.9019, -0.0291, -0.4458],\n",
       "         [-0.9849,  0.1116, -0.3794, -0.9152, -0.0343, -0.4230],\n",
       "         [-0.9907,  0.1009, -0.3587, -0.9339, -0.0352, -0.3943]]),\n",
       " tensor(5))"
      ]
     },
     "execution_count": 25,
     "metadata": {},
     "output_type": "execute_result"
    }
   ],
   "source": [
    "train_dataset[3]"
   ]
  }
 ],
 "metadata": {
  "kernelspec": {
   "display_name": "term6",
   "language": "python",
   "name": "python3"
  },
  "language_info": {
   "codemirror_mode": {
    "name": "ipython",
    "version": 3
   },
   "file_extension": ".py",
   "mimetype": "text/x-python",
   "name": "python",
   "nbconvert_exporter": "python",
   "pygments_lexer": "ipython3",
   "version": "3.12.8"
  }
 },
 "nbformat": 4,
 "nbformat_minor": 2
}
