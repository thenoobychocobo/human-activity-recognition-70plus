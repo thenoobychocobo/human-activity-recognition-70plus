{
 "cells": [
  {
   "cell_type": "markdown",
   "metadata": {},
   "source": [
    "# Exploratory Data Analysis of HAR70+ Dataset\n",
    "Dataset can be found [here](https://archive.ics.uci.edu/dataset/780/har70). (corresponding [paper](https://www.mdpi.com/1424-8220/23/5/2368))\n",
    "\n",
    "**Table of Contents**\n",
    "1. [Imports](#0-imports)"
   ]
  },
  {
   "cell_type": "markdown",
   "metadata": {},
   "source": [
    "## Dataset Information \n",
    "(taken from link)\n",
    "For what purpose was the dataset created?\n",
    "\n",
    "The purpose was to train machine learning models for human activity recognition on professionally-annotated accelerometer data of fit-to-frail older adults.\n",
    "\n",
    "Additional Information\n",
    "\n",
    "The HAR70+ dataset contains recordings of 18 older adult participants wearing two 3-axial Axivity AX3 accelerometers for around 40 minutes in a semi-structured free-living setting. The participants' age was between 70 and 95 years. Five of the 18 subjects used walking aids during data recording. One sensor was attached to the right front thigh and the other to the lower back. The provided sampling rate is 50Hz. Video recordings of a chest-mounted camera were used to annotate the performed activities frame-by-frame.\n",
    "\n",
    "Each subject's recordings are provided in a separate .csv file. One such .csv file contains the following columns:\n",
    "1. timestamp: date and time of recorded sample\n",
    "2. back_x: acceleration of back sensor in x-direction (down) in the unit g\n",
    "3. back_y: acceleration of back sensor in y-direction (left) in the unit g\n",
    "4. back_z: acceleration of back sensor in z-direction (forward) in the unit g\n",
    "5. thigh_x: acceleration of thigh sensor in x-direction (down) in the unit g\n",
    "6. thigh_y: acceleration of thigh sensor in y-direction (right) in the unit g\n",
    "7. thigh_z: acceleration of thigh sensor in z-direction (backward) in the unit g\n",
    "8. label: annotated activity code\n",
    "\n",
    "The dataset contains the following annotated activities with the corresponding coding scheme:\n",
    "1: walking\t\n",
    "3: shuffling\n",
    "4: stairs (ascending)\t\n",
    "5: stairs (descending)\t\n",
    "6: standing\t\n",
    "7: sitting\t\n",
    "8: lying"
   ]
  },
  {
   "cell_type": "markdown",
   "metadata": {},
   "source": [
    "## 1. Imports"
   ]
  },
  {
   "cell_type": "code",
   "execution_count": 1,
   "metadata": {},
   "outputs": [],
   "source": [
    "# Automatic reloading\n",
    "%load_ext autoreload\n",
    "%autoreload 2"
   ]
  },
  {
   "cell_type": "code",
   "execution_count": null,
   "metadata": {},
   "outputs": [],
   "source": [
    "# Generic/Built-in\n",
    "from typing import *\n",
    "\n",
    "# Libs\n",
    "import pandas as pd\n",
    "import numpy as np\n",
    "import torch\n",
    "from torch.utils.data import Dataset, ConcatDataset, Subset, DataLoader\n",
    "import matplotlib.pyplot as plt\n",
    "from sklearn.model_selection import train_test_split\n",
    "\n",
    "# Custom\n",
    "from data_preparation import *"
   ]
  },
  {
   "cell_type": "code",
   "execution_count": 6,
   "metadata": {},
   "outputs": [
    {
     "name": "stdout",
     "output_type": "stream",
     "text": [
      "Loading saved components...\n"
     ]
    }
   ],
   "source": [
    "train_dataset_norm, val_dataset_norm, test_dataset_norm, norm_stats = prepare_datasets()"
   ]
  },
  {
   "cell_type": "code",
   "execution_count": 7,
   "metadata": {},
   "outputs": [
    {
     "data": {
      "text/plain": [
       "(tensor([[-0.4634, -0.3081,  0.6457, -0.5353,  0.1555,  0.7497],\n",
       "         [-0.4515, -0.4889,  0.6079, -0.5238,  0.1520,  0.7516],\n",
       "         [-0.4397, -0.4404,  0.6028, -0.4991,  0.1894,  0.7321],\n",
       "         [-0.3669, -0.3145,  0.5797, -0.5106,  0.2598,  0.6945],\n",
       "         [-0.3396, -0.2322,  0.6074, -0.5238,  0.2866,  0.6803],\n",
       "         [-0.3833, -0.2467,  0.5695, -0.5220,  0.2331,  0.7088],\n",
       "         [-0.3233, -0.2403,  0.5763, -0.5220,  0.2224,  0.7231],\n",
       "         [-0.3278, -0.2338,  0.5786, -0.5220,  0.1903,  0.6855],\n",
       "         [-0.3497, -0.2726,  0.5650, -0.5220,  0.0691,  0.7331],\n",
       "         [-0.4042, -0.3694,  0.5340, -0.5220,  0.0281,  0.7531],\n",
       "         [-0.3751, -0.3097,  0.5396, -0.5220,  0.1404,  0.7298],\n",
       "         [-0.2960, -0.2161,  0.5368, -0.5251,  0.1689,  0.6684],\n",
       "         [-0.2860, -0.2806,  0.5470, -0.4947,  0.1172,  0.6289],\n",
       "         [-0.3406, -0.3517,  0.6141, -0.5181,  0.0575,  0.6284],\n",
       "         [-0.3378, -0.4114,  0.6446, -0.5198, -0.0013,  0.5960],\n",
       "         [-0.3060, -0.3759,  0.6119, -0.5481, -0.0664,  0.6236],\n",
       "         [-0.2578, -0.2112,  0.5921, -0.5516, -0.0129,  0.6260],\n",
       "         [-0.3069, -0.2403,  0.5927, -0.5229, -0.0111,  0.6255],\n",
       "         [-0.3105, -0.2532,  0.6000, -0.5216,  0.0450,  0.6255],\n",
       "         [-0.2650, -0.1870,  0.5763, -0.5216,  0.1056,  0.6255],\n",
       "         [-0.2650, -0.1208,  0.5622, -0.4938,  0.2794,  0.5946],\n",
       "         [-0.2960, -0.1338,  0.5159, -0.5247,  0.2687,  0.5965],\n",
       "         [-0.3788, -0.1483,  0.4990, -0.5498,  0.1538,  0.6317],\n",
       "         [-0.3551, -0.0740,  0.5080, -0.5198,  0.1600,  0.6941],\n",
       "         [-0.3688, -0.0014,  0.4657, -0.5220,  0.1662,  0.7202],\n",
       "         [-0.3515, -0.0611,  0.5351, -0.5220,  0.2313,  0.7126],\n",
       "         [-0.3806, -0.2758,  0.5633, -0.5225,  0.2794,  0.6879],\n",
       "         [-0.2933, -0.3630,  0.5368, -0.5167,  0.2848,  0.7217],\n",
       "         [-0.3979, -0.3307,  0.5396, -0.4898,  0.3409,  0.7112],\n",
       "         [-0.3915, -0.4178,  0.5504, -0.4925,  0.3213,  0.6826],\n",
       "         [-0.2569, -0.4598,  0.4838, -0.5004,  0.2554,  0.6855],\n",
       "         [-0.4124, -0.4679,  0.4883, -0.5260,  0.1894,  0.6917],\n",
       "         [-0.3651, -0.4049,  0.5052, -0.5220,  0.1805,  0.7388],\n",
       "         [-0.3697, -0.1822,  0.5030, -0.5220,  0.3089,  0.7883],\n",
       "         [-0.4015, -0.1095,  0.4979, -0.5220,  0.3436,  0.7678],\n",
       "         [-0.3369, -0.2306,  0.5267, -0.5238,  0.3204,  0.7431],\n",
       "         [-0.3769, -0.1451,  0.5746, -0.5092,  0.2295,  0.7521],\n",
       "         [-0.3997, -0.2177,  0.5430, -0.5004,  0.1324,  0.7298],\n",
       "         [-0.3415, -0.2419,  0.5695, -0.5260,  0.0495,  0.6503],\n",
       "         [-0.3369, -0.2290,  0.5769, -0.5220, -0.0316,  0.6236],\n",
       "         [-0.2741, -0.3323,  0.5763, -0.5185,  0.0210,  0.6874],\n",
       "         [-0.3242, -0.3371,  0.5729, -0.5384,  0.0272,  0.7321],\n",
       "         [-0.3324, -0.4421,  0.6124, -0.5401, -0.0174,  0.6950],\n",
       "         [-0.3315, -0.4534,  0.5769, -0.5185, -0.0174,  0.6141],\n",
       "         [-0.3287, -0.4469,  0.6085, -0.5220,  0.0192,  0.5922],\n",
       "         [-0.3879, -0.5534,  0.6491, -0.5220,  0.0530,  0.6793],\n",
       "         [-0.3924, -0.5583,  0.6147, -0.5256,  0.0468,  0.7269],\n",
       "         [-0.3333, -0.5583,  0.5769, -0.5053,  0.0299,  0.7259],\n",
       "         [-0.2723, -0.5583,  0.5763, -0.4867,  0.1243,  0.6888],\n",
       "         [-0.3333, -0.5583,  0.5763, -0.5114,  0.1422,  0.6036],\n",
       "         [-0.3287, -0.5583,  0.5763, -0.5282,  0.0450,  0.6255],\n",
       "         [-0.2687, -0.5518,  0.5786, -0.4986,  0.1021,  0.6812],\n",
       "         [-0.2769, -0.4534,  0.6153, -0.5114,  0.2474,  0.6841],\n",
       "         [-0.3360, -0.5663,  0.6164, -0.5234,  0.2892,  0.7041],\n",
       "         [-0.3324, -0.5599,  0.6486, -0.5220,  0.2411,  0.7412],\n",
       "         [-0.3242, -0.5454,  0.6090, -0.5220,  0.1876,  0.7569],\n",
       "         [-0.2650, -0.4388,  0.6136, -0.5220,  0.0771,  0.7045],\n",
       "         [-0.2832, -0.4695,  0.6068, -0.5220, -0.0102,  0.6684],\n",
       "         [-0.3269, -0.5744,  0.5718, -0.5220,  0.0272,  0.6056],\n",
       "         [-0.2787, -0.5373,  0.5752, -0.5220,  0.0958,  0.5941],\n",
       "         [-0.3242, -0.4388,  0.5842, -0.5220,  0.0985,  0.5889],\n",
       "         [-0.2778, -0.4485,  0.6181, -0.5220,  0.1538,  0.6460],\n",
       "         [-0.3424, -0.4792,  0.6147, -0.5220,  0.1654,  0.6841],\n",
       "         [-0.3160, -0.5793,  0.6028, -0.5220,  0.1083,  0.6869],\n",
       "         [-0.2641, -0.5276,  0.5707, -0.5220,  0.1030,  0.6898],\n",
       "         [-0.2723, -0.4372,  0.5741, -0.5207,  0.1038,  0.6289],\n",
       "         [-0.2723, -0.4453,  0.5882, -0.5498,  0.1047,  0.5965],\n",
       "         [-0.2723, -0.4873,  0.6181, -0.5216,  0.0468,  0.5646],\n",
       "         [-0.2769, -0.5744,  0.6068, -0.5220,  0.1065,  0.5656],\n",
       "         [-0.2505, -0.5583,  0.6401, -0.5220,  0.1627,  0.5965],\n",
       "         [-0.1986, -0.5583,  0.6931, -0.5220,  0.1645,  0.5913],\n",
       "         [-0.2368, -0.5583,  0.7010, -0.5220,  0.2117,  0.5294],\n",
       "         [-0.2805, -0.5470,  0.7276, -0.5216,  0.0940,  0.5408],\n",
       "         [-0.2723, -0.6051,  0.7264, -0.5260,  0.1047,  0.6013],\n",
       "         [-0.2723, -0.6793,  0.7056, -0.5490,  0.0851,  0.5951],\n",
       "         [-0.2723, -0.6648,  0.6813, -0.5185, -0.0138,  0.5970],\n",
       "         [-0.2723, -0.6648,  0.6903, -0.5220,  0.0548,  0.5846],\n",
       "         [-0.2723, -0.6777,  0.6627, -0.5220,  0.0343,  0.5199],\n",
       "         [-0.2805, -0.6083,  0.6644, -0.5220, -0.0201,  0.5009],\n",
       "         [-0.2323, -0.5470,  0.6852, -0.5220,  0.0067,  0.4975],\n",
       "         [-0.2405, -0.5437,  0.7067, -0.5203,  0.0423,  0.4590],\n",
       "         [-0.2869, -0.6196,  0.7315, -0.5335, -0.0316,  0.4476],\n",
       "         [-0.2287, -0.6745,  0.6954, -0.5344, -0.0931,  0.4737],\n",
       "         [-0.2441, -0.6648,  0.7050, -0.4925, -0.1324,  0.4937],\n",
       "         [-0.2778, -0.6648,  0.7259, -0.5362, -0.1288,  0.5432],\n",
       "         [-0.2723, -0.6648,  0.7281, -0.5569, -0.1021,  0.5370],\n",
       "         [-0.2723, -0.6793,  0.6982, -0.5388, -0.0584,  0.5223],\n",
       "         [-0.2814, -0.5922,  0.6835, -0.5207, -0.0726,  0.5090],\n",
       "         [-0.2305, -0.5680,  0.6807, -0.5061, -0.0299,  0.4737],\n",
       "         [-0.2096, -0.4824,  0.7123, -0.4995, -0.0611,  0.3476],\n",
       "         [-0.2214, -0.4469,  0.7242, -0.5423, -0.1386,  0.3386],\n",
       "         [-0.1513, -0.4663,  0.7225, -0.5393,  0.0325,  0.4852],\n",
       "         [-0.2432, -0.3839,  0.7174, -0.5150,  0.2848,  0.5451],\n",
       "         [-0.2687, -0.2451,  0.7563, -0.5370,  0.3356,  0.5551],\n",
       "         [-0.3205, -0.3355,  0.7309, -0.5529,  0.2277,  0.5465],\n",
       "         [-0.3333, -0.2742,  0.7214, -0.5543,  0.0486,  0.5446],\n",
       "         [-0.3315, -0.1725,  0.7264, -0.5331, -0.0673,  0.5908],\n",
       "         [-0.3378,  0.0390,  0.6948, -0.5194,  0.1431,  0.5832],\n",
       "         [-0.2796,  0.1745,  0.6536, -0.5220,  0.4078,  0.5427],\n",
       "         [-0.2714,  0.1858,  0.6491, -0.5220,  0.4666,  0.5323]]),\n",
       " tensor(4))"
      ]
     },
     "execution_count": 7,
     "metadata": {},
     "output_type": "execute_result"
    }
   ],
   "source": [
    "train_dataset_norm[0]"
   ]
  },
  {
   "cell_type": "code",
   "execution_count": null,
   "metadata": {},
   "outputs": [
    {
     "name": "stdout",
     "output_type": "stream",
     "text": [
      "Download complete: data/har70.zip\n",
      "Files extracted to: data directory\n"
     ]
    }
   ],
   "source": [
    "download_har70plus_dataset()"
   ]
  },
  {
   "cell_type": "markdown",
   "metadata": {},
   "source": [
    "## 2. Examine Dataset\n",
    "The dataset consists of 18 separate `csv` files (`501.csv` to `518.csv`), one for each subject."
   ]
  },
  {
   "cell_type": "code",
   "execution_count": 4,
   "metadata": {},
   "outputs": [
    {
     "data": {
      "text/html": [
       "<div>\n",
       "<style scoped>\n",
       "    .dataframe tbody tr th:only-of-type {\n",
       "        vertical-align: middle;\n",
       "    }\n",
       "\n",
       "    .dataframe tbody tr th {\n",
       "        vertical-align: top;\n",
       "    }\n",
       "\n",
       "    .dataframe thead th {\n",
       "        text-align: right;\n",
       "    }\n",
       "</style>\n",
       "<table border=\"1\" class=\"dataframe\">\n",
       "  <thead>\n",
       "    <tr style=\"text-align: right;\">\n",
       "      <th></th>\n",
       "      <th>timestamp</th>\n",
       "      <th>back_x</th>\n",
       "      <th>back_y</th>\n",
       "      <th>back_z</th>\n",
       "      <th>thigh_x</th>\n",
       "      <th>thigh_y</th>\n",
       "      <th>thigh_z</th>\n",
       "      <th>label</th>\n",
       "    </tr>\n",
       "  </thead>\n",
       "  <tbody>\n",
       "    <tr>\n",
       "      <th>0</th>\n",
       "      <td>2021-03-24 14:42:03.839</td>\n",
       "      <td>-0.999023</td>\n",
       "      <td>-0.063477</td>\n",
       "      <td>0.140625</td>\n",
       "      <td>-0.980469</td>\n",
       "      <td>-0.112061</td>\n",
       "      <td>-0.048096</td>\n",
       "      <td>6</td>\n",
       "    </tr>\n",
       "    <tr>\n",
       "      <th>1</th>\n",
       "      <td>2021-03-24 14:42:03.859</td>\n",
       "      <td>-0.980225</td>\n",
       "      <td>-0.079346</td>\n",
       "      <td>0.140625</td>\n",
       "      <td>-0.961182</td>\n",
       "      <td>-0.121582</td>\n",
       "      <td>-0.051758</td>\n",
       "      <td>6</td>\n",
       "    </tr>\n",
       "    <tr>\n",
       "      <th>2</th>\n",
       "      <td>2021-03-24 14:42:03.880</td>\n",
       "      <td>-0.950195</td>\n",
       "      <td>-0.076416</td>\n",
       "      <td>0.140625</td>\n",
       "      <td>-0.949463</td>\n",
       "      <td>-0.080566</td>\n",
       "      <td>-0.067139</td>\n",
       "      <td>6</td>\n",
       "    </tr>\n",
       "    <tr>\n",
       "      <th>3</th>\n",
       "      <td>2021-03-24 14:42:03.900</td>\n",
       "      <td>-0.954834</td>\n",
       "      <td>-0.059082</td>\n",
       "      <td>0.140381</td>\n",
       "      <td>-0.957520</td>\n",
       "      <td>-0.046143</td>\n",
       "      <td>-0.050781</td>\n",
       "      <td>6</td>\n",
       "    </tr>\n",
       "    <tr>\n",
       "      <th>4</th>\n",
       "      <td>2021-03-24 14:42:03.920</td>\n",
       "      <td>-0.972412</td>\n",
       "      <td>-0.042969</td>\n",
       "      <td>0.142822</td>\n",
       "      <td>-0.977051</td>\n",
       "      <td>-0.023682</td>\n",
       "      <td>-0.026611</td>\n",
       "      <td>6</td>\n",
       "    </tr>\n",
       "  </tbody>\n",
       "</table>\n",
       "</div>"
      ],
      "text/plain": [
       "                 timestamp    back_x    back_y    back_z   thigh_x   thigh_y  \\\n",
       "0  2021-03-24 14:42:03.839 -0.999023 -0.063477  0.140625 -0.980469 -0.112061   \n",
       "1  2021-03-24 14:42:03.859 -0.980225 -0.079346  0.140625 -0.961182 -0.121582   \n",
       "2  2021-03-24 14:42:03.880 -0.950195 -0.076416  0.140625 -0.949463 -0.080566   \n",
       "3  2021-03-24 14:42:03.900 -0.954834 -0.059082  0.140381 -0.957520 -0.046143   \n",
       "4  2021-03-24 14:42:03.920 -0.972412 -0.042969  0.142822 -0.977051 -0.023682   \n",
       "\n",
       "    thigh_z  label  \n",
       "0 -0.048096      6  \n",
       "1 -0.051758      6  \n",
       "2 -0.067139      6  \n",
       "3 -0.050781      6  \n",
       "4 -0.026611      6  "
      ]
     },
     "execution_count": 4,
     "metadata": {},
     "output_type": "execute_result"
    }
   ],
   "source": [
    "# Load all 18 datasets and combine them into a single dataframe\n",
    "df_ls = []\n",
    "for subject_code in range(501, 519):\n",
    "    file_path = f\"data/har70plus/{subject_code}.csv\" \n",
    "    df_ls.append(pd.read_csv(file_path))\n",
    "    \n",
    "df = pd.concat(df_ls, ignore_index=True)\n",
    "df.head()"
   ]
  },
  {
   "cell_type": "code",
   "execution_count": 5,
   "metadata": {},
   "outputs": [
    {
     "data": {
      "text/plain": [
       "timestamp    0\n",
       "back_x       0\n",
       "back_y       0\n",
       "back_z       0\n",
       "thigh_x      0\n",
       "thigh_y      0\n",
       "thigh_z      0\n",
       "label        0\n",
       "dtype: int64"
      ]
     },
     "execution_count": 5,
     "metadata": {},
     "output_type": "execute_result"
    }
   ],
   "source": [
    "# Check for missing values\n",
    "df.isnull().sum()"
   ]
  },
  {
   "cell_type": "code",
   "execution_count": 6,
   "metadata": {},
   "outputs": [
    {
     "data": {
      "text/plain": [
       "label\n",
       "1    1079312\n",
       "3      66058\n",
       "4       4560\n",
       "5       4978\n",
       "6     418055\n",
       "7     483452\n",
       "8     203182\n",
       "Name: count, dtype: int64"
      ]
     },
     "execution_count": 6,
     "metadata": {},
     "output_type": "execute_result"
    }
   ],
   "source": [
    "# See sample labels\n",
    "df[\"label\"].value_counts().sort_index()\n",
    "# There is no label 2"
   ]
  },
  {
   "cell_type": "code",
   "execution_count": 7,
   "metadata": {},
   "outputs": [
    {
     "data": {
      "image/png": "[encoded data removed]",
      "text/plain": [
       "<Figure size 600x300 with 1 Axes>"
      ]
     },
     "metadata": {},
     "output_type": "display_data"
    },
    {
     "data": {
      "text/plain": [
       "label\n",
       "0    1079312\n",
       "1      66058\n",
       "2       4560\n",
       "3       4978\n",
       "4     418055\n",
       "5     483452\n",
       "6     203182\n",
       "Name: count, dtype: int64"
      ]
     },
     "execution_count": 7,
     "metadata": {},
     "output_type": "execute_result"
    }
   ],
   "source": [
    "# Remap the labels\n",
    "label_mapping = {1: 0, 3: 1, 4: 2, 5: 3, 6: 4, 7: 5, 8: 6}\n",
    "df[\"label\"] = df[\"label\"].map(label_mapping)\n",
    "label_counts = df[\"label\"].value_counts().sort_index()\n",
    "\n",
    "plt.figure(figsize=(6, 3))\n",
    "label_counts.plot(kind='bar', color='skyblue', edgecolor='black')\n",
    "plt.xlabel(\"Activity Label\")\n",
    "plt.ylabel(\"Count\")\n",
    "plt.title(\"Class Distribution in HAR70+ Dataset\")\n",
    "plt.xticks(rotation=0)\n",
    "plt.show()\n",
    "label_counts\n"
   ]
  },
  {
   "cell_type": "code",
   "execution_count": 8,
   "metadata": {},
   "outputs": [
    {
     "data": {
      "text/plain": [
       "0    2021-03-24 14:42:03.839\n",
       "1    2021-03-24 14:42:03.859\n",
       "2    2021-03-24 14:42:03.880\n",
       "3    2021-03-24 14:42:03.900\n",
       "4    2021-03-24 14:42:03.920\n",
       "Name: timestamp, dtype: object"
      ]
     },
     "execution_count": 8,
     "metadata": {},
     "output_type": "execute_result"
    }
   ],
   "source": [
    "# Check timestamp format\n",
    "df['timestamp'].head()"
   ]
  },
  {
   "cell_type": "markdown",
   "metadata": {},
   "source": [
    "- dataset has average time interval of 0.020 seconds (20 milliseconds) between consecutive samples, which aligns with the 50HZ sampling rate (1/50 = 0.02 seconds). However, there are occasionally larger gaps (up to 4.86 seconds), which might be due to pauses in recording or data. \n",
    "- fixed size sequences: sliding window\n",
    "- many to one model"
   ]
  },
  {
   "cell_type": "code",
   "execution_count": 9,
   "metadata": {},
   "outputs": [
    {
     "name": "stdout",
     "output_type": "stream",
     "text": [
      "count    2.259596e+06\n",
      "mean     3.015172e+00\n",
      "std      1.472069e+03\n",
      "min      1.900000e-02\n",
      "25%      2.000000e-02\n",
      "50%      2.000000e-02\n",
      "75%      2.000000e-02\n",
      "max      1.190987e+06\n",
      "Name: timestamp_diff, dtype: float64\n",
      "Identified 272 breakpoints at indices: [4776, 11606, 16496, 23448, 23580, 26206, 26866, 29194, 97844, 103248, 103860, 105414, 105480, 111954, 112648, 118506, 130718, 130850, 131222, 139382, 230814, 230960, 233248, 235227, 238113, 242565, 244533, 247949, 249601, 265215, 267421, 267425, 275505, 277267, 277873, 278419, 294777, 297701, 351640, 352794, 365228, 366342, 366362, 372392, 376730, 385150, 395558, 403762, 406144, 406314, 406510, 409374, 414008, 495858, 498600, 502398, 506630, 524122, 526558, 539938, 540012, 543636, 556296, 589404, 590788, 590904, 607084, 609392, 609456, 620686, 621110, 629544, 636848, 639070, 641590, 642546, 644420, 644536, 645070, 645310, 645334, 704400, 712118, 713301, 714293, 714589, 723229, 725711, 728223, 729567, 731187, 736459, 736717, 743999, 749875, 751239, 751257, 810083, 832243, 834275, 848937, 851713, 851867, 855993, 870737, 872343, 873005, 880837, 882845, 885147, 960863, 961407, 962737, 963891, 982477, 995185, 996277, 1007703, 1008435, 1016267, 1018095, 1019439, 1019655, 1019697, 1019845, 1020097, 1020655, 1020825, 1020869, 1021611, 1022371, 1083035, 1084500, 1085046, 1104712, 1120326, 1134326, 1134554, 1137246, 1138708, 1139602, 1141280, 1198148, 1198648, 1198736, 1201080, 1206380, 1206561, 1208210, 1221802, 1233508, 1244112, 1252080, 1269266, 1269448, 1272852, 1274978, 1320996, 1323728, 1334496, 1334624, 1337763, 1348749, 1353449, 1358199, 1363617, 1372951, 1378749, 1383695, 1393849, 1394201, 1452927, 1453934, 1459939, 1464077, 1466765, 1469163, 1478367, 1483259, 1489335, 1494173, 1494739, 1497291, 1506899, 1507331, 1510527, 1511015, 1515033, 1518465, 1519795, 1521895, 1571487, 1575461, 1577533, 1585929, 1599503, 1620285, 1620923, 1627433, 1629523, 1631149, 1635379, 1638655, 1639663, 1647249, 1648617, 1676979, 1677943, 1679043, 1682357, 1682643, 1686431, 1687747, 1705597, 1713871, 1718937, 1726229, 1734027, 1753517, 1763497, 1763511, 1785133, 1785201, 1785921, 1830369, 1832560, 1835388, 1836346, 1840730, 1842192, 1846666, 1849302, 1854750, 1862998, 1872462, 1881804, 1882866, 1883058, 1965448, 1966680, 1967882, 1970464, 1970838, 1972410, 1985094, 1990884, 2000104, 2004694, 2012564, 2012730, 2025966, 2034268, 2035394, 2038120, 2039520, 2040140, 2040446, 2043788, 2043846, 2044026, 2044718, 2111168, 2113534, 2117883, 2124236, 2140350, 2149228, 2162238, 2172340, 2197560, 2199464, 2255312]\n"
     ]
    }
   ],
   "source": [
    "# Convert timestamp to datetime and calculate time differences\n",
    "df['timestamp'] = pd.to_datetime(df['timestamp'])\n",
    "df['timestamp_diff'] = df['timestamp'].diff().dt.total_seconds()\n",
    "\n",
    "# Summary statistics of timestamp gaps\n",
    "print(df['timestamp_diff'].describe())\n",
    "\n",
    "# Identify breakpoints (where gaps are larger than expected 0.02s)\n",
    "gap_threshold = 0.05  # Slightly higher than 0.02 to account for minor variations\n",
    "breakpoints = df[df['timestamp_diff'] > gap_threshold].index\n",
    "\n",
    "# Print breakpoints\n",
    "print(f\"Identified {len(breakpoints)} breakpoints at indices:\", breakpoints.tolist())"
   ]
  },
  {
   "cell_type": "code",
   "execution_count": 10,
   "metadata": {},
   "outputs": [
    {
     "data": {
      "text/plain": [
       "6350   2021-03-24 14:44:12.000\n",
       "6351   2021-03-24 14:44:12.020\n",
       "6352   2021-03-24 14:44:12.039\n",
       "6353   2021-03-24 14:44:12.059\n",
       "6354   2021-03-24 14:44:12.079\n",
       "6355   2021-03-24 14:44:12.100\n",
       "6356   2021-03-24 14:44:12.119\n",
       "6357   2021-03-24 14:44:12.140\n",
       "6358   2021-03-24 14:44:12.159\n",
       "6359   2021-03-24 14:44:12.180\n",
       "Name: timestamp, dtype: datetime64[ns]"
      ]
     },
     "execution_count": 10,
     "metadata": {},
     "output_type": "execute_result"
    }
   ],
   "source": [
    "df[\"timestamp\"].iloc[6350: 6360]"
   ]
  },
  {
   "cell_type": "markdown",
   "metadata": {},
   "source": [
    "## 3. Dataset Preparation"
   ]
  },
  {
   "cell_type": "code",
   "execution_count": 11,
   "metadata": {},
   "outputs": [
    {
     "data": {
      "text/plain": [
       "44796"
      ]
     },
     "execution_count": 11,
     "metadata": {},
     "output_type": "execute_result"
    }
   ],
   "source": [
    "# Create dataset\n",
    "dataset = HARDataset(df, sequence_size=100, stride=50)\n",
    "len(dataset)"
   ]
  },
  {
   "cell_type": "code",
   "execution_count": 13,
   "metadata": {},
   "outputs": [],
   "source": [
    "train_dataset_norm, val_dataset_norm, test_dataset_norm, norm_stats = split_dataset(dataset)"
   ]
  },
  {
   "cell_type": "code",
   "execution_count": 17,
   "metadata": {},
   "outputs": [
    {
     "data": {
      "text/plain": [
       "(tensor([[-0.4252, -0.3000, -0.8204, -0.5220, -0.5861,  0.6912],\n",
       "         [-0.4315, -0.3000, -0.8131, -0.5220, -0.6306,  0.6803],\n",
       "         [-0.3751, -0.3000, -0.8142, -0.5220, -0.5861,  0.6531],\n",
       "         [-0.3660, -0.2887, -0.8142, -0.5220, -0.6458,  0.6470],\n",
       "         [-0.3669, -0.3904, -0.8142, -0.5220, -0.6377,  0.6298],\n",
       "         [-0.3615, -0.4033, -0.8142, -0.5220, -0.6342,  0.6627],\n",
       "         [-0.4197, -0.4033, -0.8142, -0.5220, -0.6556,  0.6489],\n",
       "         [-0.4288, -0.4033, -0.8142, -0.5220, -0.7028,  0.6089],\n",
       "         [-0.3697, -0.4033, -0.8142, -0.5220, -0.6993,  0.6017],\n",
       "         [-0.3642, -0.4033, -0.8154, -0.5220, -0.6779,  0.6274],\n",
       "         [-0.4233, -0.4033, -0.7781, -0.5220, -0.6012,  0.6408],\n",
       "         [-0.4252, -0.4033, -0.8137, -0.5220, -0.5843,  0.6479],\n",
       "         [-0.4243, -0.4017, -0.8142, -0.5220, -0.7144,  0.6217],\n",
       "         [-0.3669, -0.2984, -0.8498, -0.5220, -0.6877,  0.6255],\n",
       "         [-0.4261, -0.3016, -0.8131, -0.5220, -0.5513,  0.6255],\n",
       "         [-0.4252, -0.4017, -0.8125, -0.5220, -0.6021,  0.6255],\n",
       "         [-0.4252, -0.2936, -0.7759, -0.5220, -0.6814,  0.6217],\n",
       "         [-0.4252, -0.3065, -0.7804, -0.5220, -0.6770,  0.6465],\n",
       "         [-0.4252, -0.4098, -0.8170, -0.5220, -0.5905,  0.6422],\n",
       "         [-0.4252, -0.4033, -0.8103, -0.5220, -0.6003,  0.6227],\n",
       "         [-0.4252, -0.3904, -0.7742, -0.5220, -0.6770,  0.6303],\n",
       "         [-0.4170, -0.2887, -0.7826, -0.5220, -0.7073,  0.6022],\n",
       "         [-0.3606, -0.3000, -0.8176, -0.5220, -0.6574,  0.6127],\n",
       "         [-0.3651, -0.2968, -0.8142, -0.5220, -0.6413,  0.6279],\n",
       "         [-0.3769, -0.3194, -0.8142, -0.5220, -0.5976,  0.6255],\n",
       "         [-0.4315, -0.3952, -0.8142, -0.5220, -0.5602,  0.6255],\n",
       "         [-0.4252, -0.2855, -0.8154, -0.5220, -0.6645,  0.6303],\n",
       "         [-0.4252, -0.2952, -0.8063, -0.5220, -0.7153,  0.5941],\n",
       "         [-0.4252, -0.3226, -0.7713, -0.5220, -0.6057,  0.6455],\n",
       "         [-0.4252, -0.4162, -0.7883, -0.5220, -0.5691,  0.6298],\n",
       "         [-0.4279, -0.4082, -0.8080, -0.5220, -0.6271,  0.6465],\n",
       "         [-0.4052, -0.3678, -0.7826, -0.5220, -0.6449,  0.6893],\n",
       "         [-0.3751, -0.3210, -0.8193, -0.5220, -0.5825,  0.6346],\n",
       "         [-0.4370, -0.3856, -0.8142, -0.5220, -0.6297,  0.6222],\n",
       "         [-0.4061, -0.2774, -0.8142, -0.5220, -0.6377,  0.6555],\n",
       "         [-0.3578, -0.3420, -0.8142, -0.5220, -0.6377,  0.6303],\n",
       "         [-0.3669, -0.3823, -0.8170, -0.5220, -0.6377,  0.5956],\n",
       "         [-0.3615, -0.2839, -0.8007, -0.5220, -0.6386,  0.6246],\n",
       "         [-0.3888, -0.3000, -0.7725, -0.5220, -0.5807,  0.6260],\n",
       "         [-0.4334, -0.3000, -0.7781, -0.5220, -0.6386,  0.6260],\n",
       "         [-0.4306, -0.3000, -0.7781, -0.5220, -0.6957,  0.6251],\n",
       "         [-0.4006, -0.3000, -0.7781, -0.5220, -0.6948,  0.5941],\n",
       "         [-0.3524, -0.3000, -0.7781, -0.5220, -0.6903,  0.5951],\n",
       "         [-0.3924, -0.3000, -0.7781, -0.5220, -0.6217,  0.5984],\n",
       "         [-0.4324, -0.2871, -0.7781, -0.5220, -0.5192,  0.6284],\n",
       "         [-0.4252, -0.3614, -0.7736, -0.5220, -0.5941,  0.6303],\n",
       "         [-0.4252, -0.3517, -0.8001, -0.5220, -0.6449,  0.6550],\n",
       "         [-0.4252, -0.3388, -0.8001, -0.5220, -0.6253,  0.6222],\n",
       "         [-0.4252, -0.4146, -0.7691, -0.5220, -0.5825,  0.6255],\n",
       "         [-0.4324, -0.4033, -0.7973, -0.5220, -0.6574,  0.6255],\n",
       "         [-0.3924, -0.4033, -0.8227, -0.5220, -0.7019,  0.6255],\n",
       "         [-0.3606, -0.4033, -0.7933, -0.5220, -0.6975,  0.6289],\n",
       "         [-0.3669, -0.4033, -0.7691, -0.5220, -0.6779,  0.6032],\n",
       "         [-0.3578, -0.4033, -0.7996, -0.5220, -0.6324,  0.5837],\n",
       "         [-0.4024, -0.4033, -0.8170, -0.5220, -0.6146,  0.6741],\n",
       "         [-0.4297, -0.4033, -0.8142, -0.5220, -0.5914,  0.6351],\n",
       "         [-0.4334, -0.4178, -0.8142, -0.5220, -0.6458,  0.5837],\n",
       "         [-0.3870, -0.3355, -0.8142, -0.5220, -0.6377,  0.6041],\n",
       "         [-0.3624, -0.2919, -0.8142, -0.5220, -0.6484,  0.6427],\n",
       "         [-0.3578, -0.3000, -0.8193, -0.5220, -0.5825,  0.6603],\n",
       "         [-0.4070, -0.3000, -0.7832, -0.5220, -0.5335,  0.6560],\n",
       "         [-0.4279, -0.2839, -0.8012, -0.5220, -0.5807,  0.6598],\n",
       "         [-0.4334, -0.3743, -0.8159, -0.5220, -0.6083,  0.6450],\n",
       "         [-0.3815, -0.4082, -0.8142, -0.5220, -0.6440,  0.6027],\n",
       "         [-0.3642, -0.4033, -0.8187, -0.5220, -0.6377,  0.6079],\n",
       "         [-0.3669, -0.4033, -0.7860, -0.5220, -0.6449,  0.6332],\n",
       "         [-0.3588, -0.4033, -0.7764, -0.5220, -0.6048,  0.6084],\n",
       "         [-0.4133, -0.4033, -0.7781, -0.5220, -0.5584,  0.5837],\n",
       "         [-0.4261, -0.4033, -0.7781, -0.5220, -0.6511,  0.6374],\n",
       "         [-0.4252, -0.4033, -0.7736, -0.5220, -0.7126,  0.6465],\n",
       "         [-0.4315, -0.4033, -0.8125, -0.5220, -0.6654,  0.6032],\n",
       "         [-0.3751, -0.4033, -0.7838, -0.5220, -0.5861,  0.5889],\n",
       "         [-0.3660, -0.4033, -0.7775, -0.5220, -0.6253,  0.6170],\n",
       "         [-0.3615, -0.4033, -0.7747, -0.5220, -0.5994,  0.6274],\n",
       "         [-0.4188, -0.4033, -0.8131, -0.5220, -0.5691,  0.6303],\n",
       "         [-0.4252, -0.4098, -0.7787, -0.5220, -0.6164,  0.5984],\n",
       "         [-0.4252, -0.3000, -0.8137, -0.5220, -0.6921,  0.6184],\n",
       "         [-0.4279, -0.3969, -0.7781, -0.5220, -0.6502,  0.6303],\n",
       "         [-0.3688, -0.4033, -0.8137, -0.5220, -0.6360,  0.6003],\n",
       "         [-0.3660, -0.4033, -0.7787, -0.5220, -0.6431,  0.5913],\n",
       "         [-0.3660, -0.4033, -0.7775, -0.5220, -0.5878,  0.6251],\n",
       "         [-0.4252, -0.4033, -0.7781, -0.5220, -0.5798,  0.5965],\n",
       "         [-0.4252, -0.4033, -0.7781, -0.5220, -0.5762,  0.6232],\n",
       "         [-0.4252, -0.4033, -0.7781, -0.5220, -0.6333,  0.6260],\n",
       "         [-0.4252, -0.4033, -0.7781, -0.5220, -0.6377,  0.6255],\n",
       "         [-0.4252, -0.3952, -0.7781, -0.5220, -0.6377,  0.6255],\n",
       "         [-0.4197, -0.3000, -0.7781, -0.5220, -0.6377,  0.6255],\n",
       "         [-0.3669, -0.4098, -0.7781, -0.5220, -0.5789,  0.6246],\n",
       "         [-0.4297, -0.4033, -0.7781, -0.5220, -0.5825,  0.5627],\n",
       "         [-0.4170, -0.4033, -0.7781, -0.5220, -0.6404,  0.5665],\n",
       "         [-0.3688, -0.4033, -0.7730, -0.5220, -0.6324,  0.5998],\n",
       "         [-0.4306, -0.4033, -0.7375, -0.5220, -0.5754,  0.6284],\n",
       "         [-0.4252, -0.4033, -0.7476, -0.5220, -0.5869,  0.6217],\n",
       "         [-0.4252, -0.4033, -0.7821, -0.5220, -0.6440,  0.5965],\n",
       "         [-0.4252, -0.4049, -0.7781, -0.5220, -0.6279,  0.6298],\n",
       "         [-0.4252, -0.3807, -0.7781, -0.5220, -0.5718,  0.6203],\n",
       "         [-0.4252, -0.2823, -0.7781, -0.5220, -0.5923,  0.5903],\n",
       "         [-0.4252, -0.3275, -0.7781, -0.5220, -0.6449,  0.6036],\n",
       "         [-0.4252, -0.3872, -0.7781, -0.5220, -0.6377,  0.6222],\n",
       "         [-0.4252, -0.3113, -0.7781, -0.5220, -0.6377,  0.5908]]),\n",
       " tensor(4))"
      ]
     },
     "execution_count": 17,
     "metadata": {},
     "output_type": "execute_result"
    }
   ],
   "source": [
    "train_dataset_norm[5]"
   ]
  },
  {
   "cell_type": "code",
   "execution_count": 28,
   "metadata": {},
   "outputs": [],
   "source": [
    "import os\n",
    "norm_stats_path = os.path.join(\"model\", 'datas.pt')\n",
    "torch.save(dataset, norm_stats_path)"
   ]
  },
  {
   "cell_type": "code",
   "execution_count": 25,
   "metadata": {},
   "outputs": [],
   "source": [
    "d = torch.load(norm_stats_path, weights_only=False)"
   ]
  },
  {
   "cell_type": "code",
   "execution_count": 29,
   "metadata": {},
   "outputs": [
    {
     "data": {
      "text/html": [
       "<div>\n",
       "<style scoped>\n",
       "    .dataframe tbody tr th:only-of-type {\n",
       "        vertical-align: middle;\n",
       "    }\n",
       "\n",
       "    .dataframe tbody tr th {\n",
       "        vertical-align: top;\n",
       "    }\n",
       "\n",
       "    .dataframe thead th {\n",
       "        text-align: right;\n",
       "    }\n",
       "</style>\n",
       "<table border=\"1\" class=\"dataframe\">\n",
       "  <thead>\n",
       "    <tr style=\"text-align: right;\">\n",
       "      <th></th>\n",
       "      <th>timestamp</th>\n",
       "      <th>back_x</th>\n",
       "      <th>back_y</th>\n",
       "      <th>back_z</th>\n",
       "      <th>thigh_x</th>\n",
       "      <th>thigh_y</th>\n",
       "      <th>thigh_z</th>\n",
       "      <th>label</th>\n",
       "      <th>timestamp_diff</th>\n",
       "    </tr>\n",
       "  </thead>\n",
       "  <tbody>\n",
       "    <tr>\n",
       "      <th>0</th>\n",
       "      <td>2021-03-24 14:42:03.839</td>\n",
       "      <td>-0.999023</td>\n",
       "      <td>-0.063477</td>\n",
       "      <td>0.140625</td>\n",
       "      <td>-0.980469</td>\n",
       "      <td>-0.112061</td>\n",
       "      <td>-0.048096</td>\n",
       "      <td>4</td>\n",
       "      <td>NaN</td>\n",
       "    </tr>\n",
       "    <tr>\n",
       "      <th>1</th>\n",
       "      <td>2021-03-24 14:42:03.859</td>\n",
       "      <td>-0.980225</td>\n",
       "      <td>-0.079346</td>\n",
       "      <td>0.140625</td>\n",
       "      <td>-0.961182</td>\n",
       "      <td>-0.121582</td>\n",
       "      <td>-0.051758</td>\n",
       "      <td>4</td>\n",
       "      <td>0.020</td>\n",
       "    </tr>\n",
       "    <tr>\n",
       "      <th>2</th>\n",
       "      <td>2021-03-24 14:42:03.880</td>\n",
       "      <td>-0.950195</td>\n",
       "      <td>-0.076416</td>\n",
       "      <td>0.140625</td>\n",
       "      <td>-0.949463</td>\n",
       "      <td>-0.080566</td>\n",
       "      <td>-0.067139</td>\n",
       "      <td>4</td>\n",
       "      <td>0.021</td>\n",
       "    </tr>\n",
       "    <tr>\n",
       "      <th>3</th>\n",
       "      <td>2021-03-24 14:42:03.900</td>\n",
       "      <td>-0.954834</td>\n",
       "      <td>-0.059082</td>\n",
       "      <td>0.140381</td>\n",
       "      <td>-0.957520</td>\n",
       "      <td>-0.046143</td>\n",
       "      <td>-0.050781</td>\n",
       "      <td>4</td>\n",
       "      <td>0.020</td>\n",
       "    </tr>\n",
       "    <tr>\n",
       "      <th>4</th>\n",
       "      <td>2021-03-24 14:42:03.920</td>\n",
       "      <td>-0.972412</td>\n",
       "      <td>-0.042969</td>\n",
       "      <td>0.142822</td>\n",
       "      <td>-0.977051</td>\n",
       "      <td>-0.023682</td>\n",
       "      <td>-0.026611</td>\n",
       "      <td>4</td>\n",
       "      <td>0.020</td>\n",
       "    </tr>\n",
       "    <tr>\n",
       "      <th>...</th>\n",
       "      <td>...</td>\n",
       "      <td>...</td>\n",
       "      <td>...</td>\n",
       "      <td>...</td>\n",
       "      <td>...</td>\n",
       "      <td>...</td>\n",
       "      <td>...</td>\n",
       "      <td>...</td>\n",
       "      <td>...</td>\n",
       "    </tr>\n",
       "    <tr>\n",
       "      <th>2259592</th>\n",
       "      <td>2021-06-11 11:13:14.098</td>\n",
       "      <td>-0.960693</td>\n",
       "      <td>-0.199951</td>\n",
       "      <td>-0.330566</td>\n",
       "      <td>-0.977051</td>\n",
       "      <td>0.006104</td>\n",
       "      <td>-0.246826</td>\n",
       "      <td>0</td>\n",
       "      <td>0.019</td>\n",
       "    </tr>\n",
       "    <tr>\n",
       "      <th>2259593</th>\n",
       "      <td>2021-06-11 11:13:14.118</td>\n",
       "      <td>-0.942627</td>\n",
       "      <td>-0.210205</td>\n",
       "      <td>-0.331543</td>\n",
       "      <td>-0.969482</td>\n",
       "      <td>0.004883</td>\n",
       "      <td>-0.231445</td>\n",
       "      <td>0</td>\n",
       "      <td>0.020</td>\n",
       "    </tr>\n",
       "    <tr>\n",
       "      <th>2259594</th>\n",
       "      <td>2021-06-11 11:13:14.138</td>\n",
       "      <td>-0.907227</td>\n",
       "      <td>-0.190918</td>\n",
       "      <td>-0.320312</td>\n",
       "      <td>-1.048096</td>\n",
       "      <td>0.067627</td>\n",
       "      <td>-0.234375</td>\n",
       "      <td>0</td>\n",
       "      <td>0.020</td>\n",
       "    </tr>\n",
       "    <tr>\n",
       "      <th>2259595</th>\n",
       "      <td>2021-06-11 11:13:14.159</td>\n",
       "      <td>-0.883057</td>\n",
       "      <td>-0.156982</td>\n",
       "      <td>-0.311279</td>\n",
       "      <td>-1.007080</td>\n",
       "      <td>0.063965</td>\n",
       "      <td>-0.248047</td>\n",
       "      <td>0</td>\n",
       "      <td>0.021</td>\n",
       "    </tr>\n",
       "    <tr>\n",
       "      <th>2259596</th>\n",
       "      <td>2021-06-11 11:13:14.178</td>\n",
       "      <td>-0.877197</td>\n",
       "      <td>-0.128418</td>\n",
       "      <td>-0.315186</td>\n",
       "      <td>-0.995361</td>\n",
       "      <td>0.083496</td>\n",
       "      <td>-0.232178</td>\n",
       "      <td>0</td>\n",
       "      <td>0.019</td>\n",
       "    </tr>\n",
       "  </tbody>\n",
       "</table>\n",
       "<p>2259597 rows × 9 columns</p>\n",
       "</div>"
      ],
      "text/plain": [
       "                      timestamp    back_x    back_y    back_z   thigh_x  \\\n",
       "0       2021-03-24 14:42:03.839 -0.999023 -0.063477  0.140625 -0.980469   \n",
       "1       2021-03-24 14:42:03.859 -0.980225 -0.079346  0.140625 -0.961182   \n",
       "2       2021-03-24 14:42:03.880 -0.950195 -0.076416  0.140625 -0.949463   \n",
       "3       2021-03-24 14:42:03.900 -0.954834 -0.059082  0.140381 -0.957520   \n",
       "4       2021-03-24 14:42:03.920 -0.972412 -0.042969  0.142822 -0.977051   \n",
       "...                         ...       ...       ...       ...       ...   \n",
       "2259592 2021-06-11 11:13:14.098 -0.960693 -0.199951 -0.330566 -0.977051   \n",
       "2259593 2021-06-11 11:13:14.118 -0.942627 -0.210205 -0.331543 -0.969482   \n",
       "2259594 2021-06-11 11:13:14.138 -0.907227 -0.190918 -0.320312 -1.048096   \n",
       "2259595 2021-06-11 11:13:14.159 -0.883057 -0.156982 -0.311279 -1.007080   \n",
       "2259596 2021-06-11 11:13:14.178 -0.877197 -0.128418 -0.315186 -0.995361   \n",
       "\n",
       "          thigh_y   thigh_z  label  timestamp_diff  \n",
       "0       -0.112061 -0.048096      4             NaN  \n",
       "1       -0.121582 -0.051758      4           0.020  \n",
       "2       -0.080566 -0.067139      4           0.021  \n",
       "3       -0.046143 -0.050781      4           0.020  \n",
       "4       -0.023682 -0.026611      4           0.020  \n",
       "...           ...       ...    ...             ...  \n",
       "2259592  0.006104 -0.246826      0           0.019  \n",
       "2259593  0.004883 -0.231445      0           0.020  \n",
       "2259594  0.067627 -0.234375      0           0.020  \n",
       "2259595  0.063965 -0.248047      0           0.021  \n",
       "2259596  0.083496 -0.232178      0           0.019  \n",
       "\n",
       "[2259597 rows x 9 columns]"
      ]
     },
     "execution_count": 29,
     "metadata": {},
     "output_type": "execute_result"
    }
   ],
   "source": [
    "d.df"
   ]
  }
 ],
 "metadata": {
  "kernelspec": {
   "display_name": "term6",
   "language": "python",
   "name": "python3"
  },
  "language_info": {
   "codemirror_mode": {
    "name": "ipython",
    "version": 3
   },
   "file_extension": ".py",
   "mimetype": "text/x-python",
   "name": "python",
   "nbconvert_exporter": "python",
   "pygments_lexer": "ipython3",
   "version": "3.12.8"
  }
 },
 "nbformat": 4,
 "nbformat_minor": 2
}
