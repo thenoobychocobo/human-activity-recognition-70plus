{
 "cells": [
  {
   "cell_type": "markdown",
   "metadata": {},
   "source": [
    "# Exploratory Data Analysis of HAR70+ Dataset\n",
    "Dataset can be found [here](https://archive.ics.uci.edu/dataset/780/har70). (corresponding [paper](https://www.mdpi.com/1424-8220/23/5/2368))\n",
    "\n",
    "**Table of Contents**\n",
    "1. [Imports](#0-imports)"
   ]
  },
  {
   "cell_type": "markdown",
   "metadata": {},
   "source": [
    "## Dataset Information \n",
    "(taken from link)\n",
    "For what purpose was the dataset created?\n",
    "\n",
    "The purpose was to train machine learning models for human activity recognition on professionally-annotated accelerometer data of fit-to-frail older adults.\n",
    "\n",
    "Additional Information\n",
    "\n",
    "The HAR70+ dataset contains recordings of 18 older adult participants wearing two 3-axial Axivity AX3 accelerometers for around 40 minutes in a semi-structured free-living setting. The participants' age was between 70 and 95 years. Five of the 18 subjects used walking aids during data recording. One sensor was attached to the right front thigh and the other to the lower back. The provided sampling rate is 50Hz. Video recordings of a chest-mounted camera were used to annotate the performed activities frame-by-frame.\n",
    "\n",
    "Each subject's recordings are provided in a separate .csv file. One such .csv file contains the following columns:\n",
    "1. timestamp: date and time of recorded sample\n",
    "2. back_x: acceleration of back sensor in x-direction (down) in the unit g\n",
    "3. back_y: acceleration of back sensor in y-direction (left) in the unit g\n",
    "4. back_z: acceleration of back sensor in z-direction (forward) in the unit g\n",
    "5. thigh_x: acceleration of thigh sensor in x-direction (down) in the unit g\n",
    "6. thigh_y: acceleration of thigh sensor in y-direction (right) in the unit g\n",
    "7. thigh_z: acceleration of thigh sensor in z-direction (backward) in the unit g\n",
    "8. label: annotated activity code\n",
    "\n",
    "The dataset contains the following annotated activities with the corresponding coding scheme:\n",
    "1: walking\t\n",
    "3: shuffling\n",
    "4: stairs (ascending)\t\n",
    "5: stairs (descending)\t\n",
    "6: standing\t\n",
    "7: sitting\t\n",
    "8: lying"
   ]
  },
  {
   "cell_type": "markdown",
   "metadata": {},
   "source": [
    "## 1. Imports"
   ]
  },
  {
   "cell_type": "code",
   "execution_count": 35,
   "metadata": {},
   "outputs": [],
   "source": [
    "# Pandas\n",
    "import pandas as pd\n",
    "# PyTorch\n",
    "import torch\n",
    "from torch.utils.data import Dataset\n",
    "# MatPlotLib\n",
    "import matplotlib.pyplot as plt\n",
    "# Typing\n",
    "from typing import *\n",
    "\n",
    "import src.utils as utils"
   ]
  },
  {
   "cell_type": "code",
   "execution_count": 36,
   "metadata": {},
   "outputs": [
    {
     "name": "stdout",
     "output_type": "stream",
     "text": [
      "Download complete: data/har70.zip\n",
      "Files extracted to: data\n"
     ]
    }
   ],
   "source": [
    "utils.download_har70plus_dataset()"
   ]
  },
  {
   "cell_type": "markdown",
   "metadata": {},
   "source": [
    "## 2. Examine Dataset\n",
    "The dataset consists of 18 separate `csv` files (`501.csv` to `518.csv`), one for each subject."
   ]
  },
  {
   "cell_type": "code",
   "execution_count": 9,
   "metadata": {},
   "outputs": [],
   "source": [
    "# Load all 18 datasets\n",
    "df_dict: Dict[int, pd.DataFrame]= {}\n",
    "for subject_code in range(501, 519):\n",
    "    file_path = f\"data/har70plus/{subject_code}.csv\" \n",
    "    df_dict[subject_code] = pd.read_csv(file_path)"
   ]
  },
  {
   "cell_type": "code",
   "execution_count": 10,
   "metadata": {},
   "outputs": [
    {
     "data": {
      "text/html": [
       "<div>\n",
       "<style scoped>\n",
       "    .dataframe tbody tr th:only-of-type {\n",
       "        vertical-align: middle;\n",
       "    }\n",
       "\n",
       "    .dataframe tbody tr th {\n",
       "        vertical-align: top;\n",
       "    }\n",
       "\n",
       "    .dataframe thead th {\n",
       "        text-align: right;\n",
       "    }\n",
       "</style>\n",
       "<table border=\"1\" class=\"dataframe\">\n",
       "  <thead>\n",
       "    <tr style=\"text-align: right;\">\n",
       "      <th></th>\n",
       "      <th>timestamp</th>\n",
       "      <th>back_x</th>\n",
       "      <th>back_y</th>\n",
       "      <th>back_z</th>\n",
       "      <th>thigh_x</th>\n",
       "      <th>thigh_y</th>\n",
       "      <th>thigh_z</th>\n",
       "      <th>label</th>\n",
       "    </tr>\n",
       "  </thead>\n",
       "  <tbody>\n",
       "    <tr>\n",
       "      <th>0</th>\n",
       "      <td>2021-03-24 14:42:03.839</td>\n",
       "      <td>-0.999023</td>\n",
       "      <td>-0.063477</td>\n",
       "      <td>0.140625</td>\n",
       "      <td>-0.980469</td>\n",
       "      <td>-0.112061</td>\n",
       "      <td>-0.048096</td>\n",
       "      <td>6</td>\n",
       "    </tr>\n",
       "    <tr>\n",
       "      <th>1</th>\n",
       "      <td>2021-03-24 14:42:03.859</td>\n",
       "      <td>-0.980225</td>\n",
       "      <td>-0.079346</td>\n",
       "      <td>0.140625</td>\n",
       "      <td>-0.961182</td>\n",
       "      <td>-0.121582</td>\n",
       "      <td>-0.051758</td>\n",
       "      <td>6</td>\n",
       "    </tr>\n",
       "    <tr>\n",
       "      <th>2</th>\n",
       "      <td>2021-03-24 14:42:03.880</td>\n",
       "      <td>-0.950195</td>\n",
       "      <td>-0.076416</td>\n",
       "      <td>0.140625</td>\n",
       "      <td>-0.949463</td>\n",
       "      <td>-0.080566</td>\n",
       "      <td>-0.067139</td>\n",
       "      <td>6</td>\n",
       "    </tr>\n",
       "    <tr>\n",
       "      <th>3</th>\n",
       "      <td>2021-03-24 14:42:03.900</td>\n",
       "      <td>-0.954834</td>\n",
       "      <td>-0.059082</td>\n",
       "      <td>0.140381</td>\n",
       "      <td>-0.957520</td>\n",
       "      <td>-0.046143</td>\n",
       "      <td>-0.050781</td>\n",
       "      <td>6</td>\n",
       "    </tr>\n",
       "    <tr>\n",
       "      <th>4</th>\n",
       "      <td>2021-03-24 14:42:03.920</td>\n",
       "      <td>-0.972412</td>\n",
       "      <td>-0.042969</td>\n",
       "      <td>0.142822</td>\n",
       "      <td>-0.977051</td>\n",
       "      <td>-0.023682</td>\n",
       "      <td>-0.026611</td>\n",
       "      <td>6</td>\n",
       "    </tr>\n",
       "  </tbody>\n",
       "</table>\n",
       "</div>"
      ],
      "text/plain": [
       "                 timestamp    back_x    back_y    back_z   thigh_x   thigh_y  \\\n",
       "0  2021-03-24 14:42:03.839 -0.999023 -0.063477  0.140625 -0.980469 -0.112061   \n",
       "1  2021-03-24 14:42:03.859 -0.980225 -0.079346  0.140625 -0.961182 -0.121582   \n",
       "2  2021-03-24 14:42:03.880 -0.950195 -0.076416  0.140625 -0.949463 -0.080566   \n",
       "3  2021-03-24 14:42:03.900 -0.954834 -0.059082  0.140381 -0.957520 -0.046143   \n",
       "4  2021-03-24 14:42:03.920 -0.972412 -0.042969  0.142822 -0.977051 -0.023682   \n",
       "\n",
       "    thigh_z  label  \n",
       "0 -0.048096      6  \n",
       "1 -0.051758      6  \n",
       "2 -0.067139      6  \n",
       "3 -0.050781      6  \n",
       "4 -0.026611      6  "
      ]
     },
     "execution_count": 10,
     "metadata": {},
     "output_type": "execute_result"
    }
   ],
   "source": [
    "# Examine one csv (subject data)\n",
    "df = df_dict[501]\n",
    "df.head()"
   ]
  },
  {
   "cell_type": "code",
   "execution_count": 28,
   "metadata": {},
   "outputs": [
    {
     "data": {
      "text/plain": [
       "back_x            0\n",
       "back_y            0\n",
       "back_z            0\n",
       "label             0\n",
       "thigh_x           0\n",
       "thigh_y           0\n",
       "thigh_z           0\n",
       "timestamp         0\n",
       "timestamp_diff    1\n",
       "dtype: int64"
      ]
     },
     "execution_count": 28,
     "metadata": {},
     "output_type": "execute_result"
    }
   ],
   "source": [
    "# Check for missing values in all csv files\n",
    "total_missing = pd.Series(dtype=int)\n",
    "for df in df_dict.values():\n",
    "    missing_counts = df.isnull().sum()\n",
    "    total_missing = total_missing.add(missing_counts, fill_value=0)\n",
    "\n",
    "total_missing = total_missing.astype(int)\n",
    "total_missing"
   ]
  },
  {
   "cell_type": "code",
   "execution_count": 30,
   "metadata": {},
   "outputs": [
    {
     "data": {
      "image/png": "[encoded data removed]",
      "text/plain": [
       "<Figure size 600x300 with 1 Axes>"
      ]
     },
     "metadata": {},
     "output_type": "display_data"
    },
    {
     "data": {
      "text/plain": [
       "label\n",
       "1    1079312\n",
       "3      66058\n",
       "4       4560\n",
       "5       4978\n",
       "6     418055\n",
       "7     483452\n",
       "8     203182\n",
       "dtype: int64"
      ]
     },
     "execution_count": 30,
     "metadata": {},
     "output_type": "execute_result"
    }
   ],
   "source": [
    "total_counts = pd.Series(dtype=int)\n",
    "for df in df_dict.values():\n",
    "    counts = df[\"label\"].value_counts()\n",
    "    total_counts = total_counts.add(counts, fill_value=0) # `add` automatically aligns indices before summing counts\n",
    "\n",
    "total_counts = total_counts.astype(int)\n",
    "\n",
    "plt.figure(figsize=(6, 3))\n",
    "total_counts.plot(kind='bar', color='skyblue', edgecolor='black')\n",
    "plt.xlabel(\"Activity Label\")\n",
    "plt.ylabel(\"Count\")\n",
    "plt.title(\"Class Distribution in HAR70+ Dataset\")\n",
    "plt.xticks(rotation=0)\n",
    "plt.show()\n",
    "total_counts\n"
   ]
  },
  {
   "cell_type": "code",
   "execution_count": 13,
   "metadata": {},
   "outputs": [
    {
     "data": {
      "text/plain": [
       "0    2021-06-11 10:24:37.958\n",
       "1    2021-06-11 10:24:37.979\n",
       "2    2021-06-11 10:24:37.999\n",
       "3    2021-06-11 10:24:38.019\n",
       "4    2021-06-11 10:24:38.039\n",
       "Name: timestamp, dtype: object"
      ]
     },
     "execution_count": 13,
     "metadata": {},
     "output_type": "execute_result"
    }
   ],
   "source": [
    "df['timestamp'].head()"
   ]
  },
  {
   "cell_type": "code",
   "execution_count": 15,
   "metadata": {},
   "outputs": [
    {
     "name": "stdout",
     "output_type": "stream",
     "text": [
      "0    2021-06-11 10:24:37.958\n",
      "1    2021-06-11 10:24:37.979\n",
      "2    2021-06-11 10:24:37.999\n",
      "3    2021-06-11 10:24:38.019\n",
      "4    2021-06-11 10:24:38.039\n",
      "Name: timestamp, dtype: object\n"
     ]
    }
   ],
   "source": [
    "# Check timestamp format\n",
    "print(df['timestamp'].head())"
   ]
  },
  {
   "cell_type": "markdown",
   "metadata": {},
   "source": [
    "- dataset has average time interval of 0.020 seconds (20 milliseconds) between consecutive samples, which aligns with the 50HZ sampling rate (1/50 = 0.02 seconds). However, there are occasionally larger gaps (up to 4.86 seconds), which might be due to pauses in recording or data. \n",
    "- fixed size sequences: sliding window\n",
    "- many to one model"
   ]
  },
  {
   "cell_type": "code",
   "execution_count": 16,
   "metadata": {},
   "outputs": [
    {
     "name": "stdout",
     "output_type": "stream",
     "text": [
      "count    141713.000000\n",
      "mean          0.020578\n",
      "std           0.121197\n",
      "min           0.019000\n",
      "25%           0.020000\n",
      "50%           0.020000\n",
      "75%           0.020000\n",
      "max          40.420000\n",
      "Name: timestamp_diff, dtype: float64\n",
      "Identified 8 breakpoints at indices: [6353, 22467, 31345, 44355, 54457, 79677, 81581, 137429]\n"
     ]
    }
   ],
   "source": [
    "# Convert timestamp to datetime and calculate time differences\n",
    "df['timestamp'] = pd.to_datetime(df['timestamp'])\n",
    "df['timestamp_diff'] = df['timestamp'].diff().dt.total_seconds()\n",
    "\n",
    "# Summary statistics of timestamp gaps\n",
    "print(df['timestamp_diff'].describe())\n",
    "\n",
    "# Identify breakpoints (where gaps are larger than expected 0.02s)\n",
    "gap_threshold = 0.05  # Slightly higher than 0.02 to account for minor variations\n",
    "breakpoints = df[df['timestamp_diff'] > gap_threshold].index\n",
    "\n",
    "# Print breakpoints\n",
    "print(f\"Identified {len(breakpoints)} breakpoints at indices:\", breakpoints.tolist())"
   ]
  },
  {
   "cell_type": "code",
   "execution_count": 17,
   "metadata": {},
   "outputs": [
    {
     "data": {
      "text/plain": [
       "11600   2021-03-24 14:45:57.000\n",
       "11601   2021-03-24 14:45:57.020\n",
       "11602   2021-03-24 14:45:57.040\n",
       "11603   2021-03-24 14:45:57.060\n",
       "11604   2021-03-24 14:45:57.080\n",
       "11605   2021-03-24 14:45:57.099\n",
       "11606   2021-03-24 14:45:59.159\n",
       "11607   2021-03-24 14:45:59.180\n",
       "11608   2021-03-24 14:45:59.200\n",
       "11609   2021-03-24 14:45:59.220\n",
       "Name: timestamp, dtype: datetime64[ns]"
      ]
     },
     "execution_count": 17,
     "metadata": {},
     "output_type": "execute_result"
    }
   ],
   "source": [
    "df[\"timestamp\"].iloc[11600: 11610]"
   ]
  },
  {
   "cell_type": "code",
   "execution_count": null,
   "metadata": {},
   "outputs": [],
   "source": [
    "class HARSegmentedDataset(Dataset):\n",
    "    def __init__(self, df, window_size=100, stride=50, gap_threshold=0.05):\n",
    "        self.window_size = window_size\n",
    "        self.stride = stride\n",
    "        \n",
    "        # Convert timestamp and calculate time gaps\n",
    "        df['timestamp'] = pd.to_datetime(df['timestamp'])\n",
    "        df['timestamp_diff'] = df['timestamp'].diff().dt.total_seconds()\n",
    "        \n",
    "        # Identify breakpoints (indices where gaps exceed threshold)\n",
    "        breakpoints = df[df['timestamp_diff'] > gap_threshold].index.tolist()\n",
    "        \n",
    "        # Split data into continuous segments\n",
    "        segments = []\n",
    "        start_idx = 0\n",
    "        for bp in breakpoints:\n",
    "            segments.append(df.iloc[start_idx:bp])  # Add previous segment\n",
    "            start_idx = bp  # Start new segment\n",
    "        segments.append(df.iloc[start_idx:])  # Add last segment\n",
    "        \n",
    "        # Extract valid sequences from each segment\n",
    "        self.sequences, self.targets = [], []\n",
    "        sensor_cols = ['back_x', 'back_y', 'back_z', 'thigh_x', 'thigh_y', 'thigh_z']\n",
    "        label_col = 'label'\n",
    "\n",
    "        for segment in segments:\n",
    "            data = segment[sensor_cols].values\n",
    "            labels = segment[label_col].values\n",
    "\n",
    "            # Ensure segment is long enough for at least one full window\n",
    "            if len(data) < window_size:\n",
    "                continue  \n",
    "\n",
    "            for i in range(0, len(data) - window_size + 1, stride):\n",
    "                self.sequences.append(data[i : i + window_size])\n",
    "                self.targets.append(labels[i + window_size - 1])  # Many-to-One\n",
    "\n",
    "        # Convert to tensors\n",
    "        self.sequences = torch.tensor(self.sequences, dtype=torch.float32)\n",
    "        self.targets = torch.tensor(self.targets, dtype=torch.long)\n",
    "\n",
    "    def __len__(self):\n",
    "        return len(self.sequences)\n",
    "\n",
    "    def __getitem__(self, idx):\n",
    "        return self.sequences[idx], self.targets[idx]\n",
    "\n",
    "# Example Usage\n",
    "dataset = HARSegmentedDataset(df, window_size=100, stride=50)\n",
    "print(f\"Total valid sequences: {len(dataset)}\")"
   ]
  }
 ],
 "metadata": {
  "kernelspec": {
   "display_name": "term6",
   "language": "python",
   "name": "python3"
  },
  "language_info": {
   "codemirror_mode": {
    "name": "ipython",
    "version": 3
   },
   "file_extension": ".py",
   "mimetype": "text/x-python",
   "name": "python",
   "nbconvert_exporter": "python",
   "pygments_lexer": "ipython3",
   "version": "3.12.8"
  }
 },
 "nbformat": 4,
 "nbformat_minor": 2
}
