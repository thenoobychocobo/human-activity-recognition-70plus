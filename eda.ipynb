{
 "cells": [
  {
   "cell_type": "markdown",
   "metadata": {},
   "source": [
    "# Exploratory Data Analysis of HAR70+ Dataset\n",
    "The Human Activity Recognition 70+ (HAR70+) dataset can be found [here](https://archive.ics.uci.edu/dataset/780/har70) (corresponding [paper](https://www.mdpi.com/1424-8220/23/5/2368)). The HAR70+ dataset contains sensor data from 18 fit-to-frail older adult subjects (70-95 years old) wearing two 3-axial accelerometers (attached to the right thigh and lower back) for around 40 minutes during a semi-structured free-living protocol.\n",
    "\n",
    "**Table of Contents**\n",
    "\n",
    "0. [Dataset Information](#0-dataset-information)\n",
    "1. [Setup](#1-setup)\n",
    "2. [Examine Dataset](#2-examine-dataset)\n",
    "    1. [Examine Timestamps](#21-examine-timestamps)\n",
    "    2. [Examine Labels](#22-examine-labels)\n",
    "    3. [Descriptive Statistics](#23-descriptive-statistics)\n",
    "    4. [Missing Values](#24-missing-values)"
   ]
  },
  {
   "cell_type": "markdown",
   "metadata": {},
   "source": [
    "## 0. Dataset Information \n",
    "*The following information is taken verbatim from the dataset webpage.*\n",
    "\n",
    "**For what purpose was the dataset created?**\n",
    "\n",
    "The purpose was to train machine learning models for human activity recognition on professionally-annotated accelerometer data of fit-to-frail older adults.\n",
    "\n",
    "**Additional Information**\n",
    "\n",
    "The HAR70+ dataset contains recordings of 18 older adult participants wearing two 3-axial Axivity AX3 accelerometers for around 40 minutes in a semi-structured free-living setting. The participants' age was between 70 and 95 years. Five of the 18 subjects used walking aids during data recording. One sensor was attached to the right front thigh and the other to the lower back. The provided sampling rate is 50Hz. Video recordings of a chest-mounted camera were used to annotate the performed activities frame-by-frame.\n",
    "\n",
    "Each subject's recordings are provided in a separate .csv file. One such .csv file contains the following columns:\n",
    "1. `timestamp`: date and time of recorded sample\n",
    "2. `back_x`: acceleration of back sensor in $x$-direction (down) in the unit $g$\n",
    "3. `back_y`: acceleration of back sensor in $y$-direction (left) in the unit $g$\n",
    "4. `back_z`: acceleration of back sensor in $z$-direction (forward) in the unit $g$\n",
    "5. `thigh_x`: acceleration of thigh sensor in $x$-direction (down) in the unit $g$\n",
    "6. `thigh_y`: acceleration of thigh sensor in $y$-direction (right) in the unit $g$\n",
    "7. `thigh_z`: acceleration of thigh sensor in $z$-direction (backward) in the unit $g$\n",
    "8. `label`: annotated activity code\n",
    "\n",
    "The dataset contains the following **annotated activities** with the corresponding coding scheme:\n",
    "1. Walking\t\n",
    "3. Shuffling\n",
    "4. Stairs (ascending)\t\n",
    "5. Stairs (descending)\t\n",
    "6. Standing\t\n",
    "7. Sitting\t\n",
    "8. Lying"
   ]
  },
  {
   "cell_type": "markdown",
   "metadata": {},
   "source": [
    "## 1. Setup"
   ]
  },
  {
   "cell_type": "code",
   "execution_count": 1,
   "metadata": {},
   "outputs": [],
   "source": [
    "# Automatic reloading\n",
    "%load_ext autoreload\n",
    "%autoreload 2"
   ]
  },
  {
   "cell_type": "code",
   "execution_count": null,
   "metadata": {},
   "outputs": [],
   "source": [
    "####################\n",
    "# Required Modules #\n",
    "####################\n",
    "\n",
    "# Libs\n",
    "import pandas as pd\n",
    "import matplotlib.pyplot as plt\n",
    "\n",
    "# Custom\n",
    "from src.data_preparation import *"
   ]
  },
  {
   "cell_type": "code",
   "execution_count": 5,
   "metadata": {},
   "outputs": [
    {
     "name": "stdout",
     "output_type": "stream",
     "text": [
      "⬇️ Downloading HAR70+ dataset to data\\har70.zip...\n",
      "✅ Download complete: data\\har70.zip\n",
      "📦 Extracting dataset to data\\har70plus...\n",
      "✅ Files extracted to: data\\har70plus\n"
     ]
    }
   ],
   "source": [
    "# Download HAR70+ dataset and save to 'data' directory\n",
    "download_har70plus_dataset()"
   ]
  },
  {
   "cell_type": "markdown",
   "metadata": {},
   "source": [
    "## 2. Examine Dataset\n",
    "The dataset consists of 18 separate `csv` files (`501.csv` to `518.csv`), one for each subject. Let us examine just one of these files (the data from one subject)."
   ]
  },
  {
   "cell_type": "code",
   "execution_count": 6,
   "metadata": {},
   "outputs": [
    {
     "data": {
      "text/html": [
       "<div>\n",
       "<style scoped>\n",
       "    .dataframe tbody tr th:only-of-type {\n",
       "        vertical-align: middle;\n",
       "    }\n",
       "\n",
       "    .dataframe tbody tr th {\n",
       "        vertical-align: top;\n",
       "    }\n",
       "\n",
       "    .dataframe thead th {\n",
       "        text-align: right;\n",
       "    }\n",
       "</style>\n",
       "<table border=\"1\" class=\"dataframe\">\n",
       "  <thead>\n",
       "    <tr style=\"text-align: right;\">\n",
       "      <th></th>\n",
       "      <th>timestamp</th>\n",
       "      <th>back_x</th>\n",
       "      <th>back_y</th>\n",
       "      <th>back_z</th>\n",
       "      <th>thigh_x</th>\n",
       "      <th>thigh_y</th>\n",
       "      <th>thigh_z</th>\n",
       "      <th>label</th>\n",
       "    </tr>\n",
       "  </thead>\n",
       "  <tbody>\n",
       "    <tr>\n",
       "      <th>0</th>\n",
       "      <td>2021-03-24 14:42:03.839</td>\n",
       "      <td>-0.999023</td>\n",
       "      <td>-0.063477</td>\n",
       "      <td>0.140625</td>\n",
       "      <td>-0.980469</td>\n",
       "      <td>-0.112061</td>\n",
       "      <td>-0.048096</td>\n",
       "      <td>6</td>\n",
       "    </tr>\n",
       "    <tr>\n",
       "      <th>1</th>\n",
       "      <td>2021-03-24 14:42:03.859</td>\n",
       "      <td>-0.980225</td>\n",
       "      <td>-0.079346</td>\n",
       "      <td>0.140625</td>\n",
       "      <td>-0.961182</td>\n",
       "      <td>-0.121582</td>\n",
       "      <td>-0.051758</td>\n",
       "      <td>6</td>\n",
       "    </tr>\n",
       "    <tr>\n",
       "      <th>2</th>\n",
       "      <td>2021-03-24 14:42:03.880</td>\n",
       "      <td>-0.950195</td>\n",
       "      <td>-0.076416</td>\n",
       "      <td>0.140625</td>\n",
       "      <td>-0.949463</td>\n",
       "      <td>-0.080566</td>\n",
       "      <td>-0.067139</td>\n",
       "      <td>6</td>\n",
       "    </tr>\n",
       "    <tr>\n",
       "      <th>3</th>\n",
       "      <td>2021-03-24 14:42:03.900</td>\n",
       "      <td>-0.954834</td>\n",
       "      <td>-0.059082</td>\n",
       "      <td>0.140381</td>\n",
       "      <td>-0.957520</td>\n",
       "      <td>-0.046143</td>\n",
       "      <td>-0.050781</td>\n",
       "      <td>6</td>\n",
       "    </tr>\n",
       "    <tr>\n",
       "      <th>4</th>\n",
       "      <td>2021-03-24 14:42:03.920</td>\n",
       "      <td>-0.972412</td>\n",
       "      <td>-0.042969</td>\n",
       "      <td>0.142822</td>\n",
       "      <td>-0.977051</td>\n",
       "      <td>-0.023682</td>\n",
       "      <td>-0.026611</td>\n",
       "      <td>6</td>\n",
       "    </tr>\n",
       "  </tbody>\n",
       "</table>\n",
       "</div>"
      ],
      "text/plain": [
       "                 timestamp    back_x    back_y    back_z   thigh_x   thigh_y  \\\n",
       "0  2021-03-24 14:42:03.839 -0.999023 -0.063477  0.140625 -0.980469 -0.112061   \n",
       "1  2021-03-24 14:42:03.859 -0.980225 -0.079346  0.140625 -0.961182 -0.121582   \n",
       "2  2021-03-24 14:42:03.880 -0.950195 -0.076416  0.140625 -0.949463 -0.080566   \n",
       "3  2021-03-24 14:42:03.900 -0.954834 -0.059082  0.140381 -0.957520 -0.046143   \n",
       "4  2021-03-24 14:42:03.920 -0.972412 -0.042969  0.142822 -0.977051 -0.023682   \n",
       "\n",
       "    thigh_z  label  \n",
       "0 -0.048096      6  \n",
       "1 -0.051758      6  \n",
       "2 -0.067139      6  \n",
       "3 -0.050781      6  \n",
       "4 -0.026611      6  "
      ]
     },
     "execution_count": 6,
     "metadata": {},
     "output_type": "execute_result"
    }
   ],
   "source": [
    "# Load 501.csv\n",
    "df = pd.read_csv(\"data/har70plus/501.csv\")\n",
    "df.head()"
   ]
  },
  {
   "cell_type": "markdown",
   "metadata": {},
   "source": [
    "### 2.1. Examine Timestamps"
   ]
  },
  {
   "cell_type": "markdown",
   "metadata": {},
   "source": [
    "Each sample (row) contains the sensor data for one time step."
   ]
  },
  {
   "cell_type": "code",
   "execution_count": 7,
   "metadata": {},
   "outputs": [
    {
     "data": {
      "text/plain": [
       "0    2021-03-24 14:42:03.839\n",
       "1    2021-03-24 14:42:03.859\n",
       "2    2021-03-24 14:42:03.880\n",
       "3    2021-03-24 14:42:03.900\n",
       "4    2021-03-24 14:42:03.920\n",
       "Name: timestamp, dtype: object"
      ]
     },
     "execution_count": 7,
     "metadata": {},
     "output_type": "execute_result"
    }
   ],
   "source": [
    "# Check timestamp format\n",
    "df['timestamp'].head()"
   ]
  },
  {
   "cell_type": "code",
   "execution_count": 9,
   "metadata": {},
   "outputs": [
    {
     "data": {
      "text/plain": [
       "count    103859.000000\n",
       "mean          0.020241\n",
       "std           0.027083\n",
       "min           0.019000\n",
       "25%           0.020000\n",
       "50%           0.020000\n",
       "75%           0.020000\n",
       "max           4.861000\n",
       "Name: timestamp_diff, dtype: float64"
      ]
     },
     "execution_count": 9,
     "metadata": {},
     "output_type": "execute_result"
    }
   ],
   "source": [
    "# Convert timestamp to datetime and calculate time differences (between consecutive time steps)\n",
    "df['timestamp'] = pd.to_datetime(df['timestamp'])\n",
    "df['timestamp_diff'] = df['timestamp'].diff().dt.total_seconds()\n",
    "\n",
    "# Summary statistics of timestamp gaps\n",
    "df['timestamp_diff'].describe()"
   ]
  },
  {
   "cell_type": "markdown",
   "metadata": {},
   "source": [
    "As we can see, the average time interval between consecutive time steps is 0.02 seconds (20 milliseconds), which aligns with the reported 50Hz sampling rate (1/50 = 0.02 seconds). However, there are occasional larger time gaps (up to 4.86 seconds for this subject), likely due to pauses in recording or missing data.\n",
    "\n",
    "When constructing sequences of time steps for our time series dataset using a sliding window approach (slide window across time steps), we must account for discontinuities in the time series. Specifically, the sliding window cannot move across 'breakpoints' - points where the time gap between consecutive steps significantly exceeds the expected 0.02 seconds. These gaps indicate interruptions in data collection, and allowing the window to extend past them would create sequences that falsely assume temporal continuity.\n",
    "\n",
    "We can identify these breakpoints like so:"
   ]
  },
  {
   "cell_type": "code",
   "execution_count": 10,
   "metadata": {},
   "outputs": [
    {
     "name": "stdout",
     "output_type": "stream",
     "text": [
      "Identified 10 breakpoints at indices: [4776, 11606, 16496, 23448, 23580, 26206, 26866, 29194, 97844, 103248]\n"
     ]
    }
   ],
   "source": [
    "# Identify breakpoints (where gaps are larger than expected 0.02s)\n",
    "gap_threshold = 0.05  # Slightly higher than 0.02 to account for minor variations\n",
    "breakpoints = df[df['timestamp_diff'] > gap_threshold].index\n",
    "\n",
    "# Print breakpoints\n",
    "print(f\"Identified {len(breakpoints)} breakpoints at indices:\", breakpoints.tolist())"
   ]
  },
  {
   "cell_type": "markdown",
   "metadata": {},
   "source": [
    "Let's examine the breakpoint at index 4776:"
   ]
  },
  {
   "cell_type": "code",
   "execution_count": 12,
   "metadata": {},
   "outputs": [
    {
     "data": {
      "text/plain": [
       "4774   2021-03-24 14:43:39.319\n",
       "4775   2021-03-24 14:43:39.340\n",
       "4776   2021-03-24 14:43:40.520\n",
       "4777   2021-03-24 14:43:40.540\n",
       "4778   2021-03-24 14:43:40.560\n",
       "4779   2021-03-24 14:43:40.580\n",
       "Name: timestamp, dtype: datetime64[ns]"
      ]
     },
     "execution_count": 12,
     "metadata": {},
     "output_type": "execute_result"
    }
   ],
   "source": [
    "df[\"timestamp\"].iloc[4774: 4780]"
   ]
  },
  {
   "cell_type": "markdown",
   "metadata": {},
   "source": [
    "As we can see, there is a 1.18 second gap between time step 4776 and 4777."
   ]
  },
  {
   "cell_type": "markdown",
   "metadata": {},
   "source": [
    "### 2.2. Examine Labels"
   ]
  },
  {
   "cell_type": "code",
   "execution_count": 13,
   "metadata": {},
   "outputs": [
    {
     "data": {
      "text/plain": [
       "label\n",
       "1    62872\n",
       "3     1876\n",
       "4       92\n",
       "5      504\n",
       "6    14376\n",
       "7    14562\n",
       "8     9578\n",
       "Name: count, dtype: int64"
      ]
     },
     "execution_count": 13,
     "metadata": {},
     "output_type": "execute_result"
    }
   ],
   "source": [
    "# See sample labels\n",
    "df[\"label\"].value_counts().sort_index()"
   ]
  },
  {
   "cell_type": "markdown",
   "metadata": {},
   "source": [
    "Two observations:\n",
    "- The value `2` is unused for the class label, which matches the reported class mapping.\n",
    "- There is a significant class imbalance."
   ]
  },
  {
   "cell_type": "markdown",
   "metadata": {},
   "source": [
    "The function below compiles the data across the 18 subjects into a single dataframe and remaps the class labels to be more appropriate for use with PyTorch."
   ]
  },
  {
   "cell_type": "code",
   "execution_count": 17,
   "metadata": {},
   "outputs": [
    {
     "name": "stdout",
     "output_type": "stream",
     "text": [
      "✅ Successfully loaded HAR70+ dataset (2259597 timestep samples).\n"
     ]
    }
   ],
   "source": [
    "df = load_har70_csv_files()"
   ]
  },
  {
   "cell_type": "markdown",
   "metadata": {},
   "source": [
    "The function above remaps the labels using the following mapping: `{1: 0, 3: 1, 4: 2, 5: 3, 6: 4, 7: 5, 8: 6}`.\n",
    "The dataset now contains the following annotated activities with the new corresponding coding scheme:\n",
    "\n",
    "0. Walking\t\n",
    "1. Shuffling\n",
    "2. Stairs (ascending)\t\n",
    "3. Stairs (descending)\t\n",
    "4. Standing\t\n",
    "5. Sitting\t\n",
    "6. Lying"
   ]
  },
  {
   "cell_type": "code",
   "execution_count": 18,
   "metadata": {},
   "outputs": [
    {
     "data": {
      "image/png": "[encoded data removed]",
      "text/plain": [
       "<Figure size 600x300 with 1 Axes>"
      ]
     },
     "metadata": {},
     "output_type": "display_data"
    },
    {
     "data": {
      "text/plain": [
       "label\n",
       "0    1079312\n",
       "1      66058\n",
       "2       4560\n",
       "3       4978\n",
       "4     418055\n",
       "5     483452\n",
       "6     203182\n",
       "Name: count, dtype: int64"
      ]
     },
     "execution_count": 18,
     "metadata": {},
     "output_type": "execute_result"
    }
   ],
   "source": [
    "label_counts = df[\"label\"].value_counts().sort_index()\n",
    "\n",
    "plt.figure(figsize=(6, 3))\n",
    "label_counts.plot(kind='bar', color='skyblue', edgecolor='black')\n",
    "plt.xlabel(\"Activity Label\")\n",
    "plt.ylabel(\"Count\")\n",
    "plt.title(\"Class Distribution in HAR70+ Dataset\")\n",
    "plt.xticks(rotation=0)\n",
    "plt.show()\n",
    "label_counts"
   ]
  },
  {
   "cell_type": "markdown",
   "metadata": {},
   "source": [
    "Across all the data, we can see there is a major class imbalance across all time steps. The action of walking is overrepresented and the two actions of ascending/descending the stairs are underrepresented."
   ]
  },
  {
   "cell_type": "markdown",
   "metadata": {},
   "source": [
    "### 2.3. Descriptive Statistics"
   ]
  },
  {
   "cell_type": "code",
   "execution_count": 20,
   "metadata": {},
   "outputs": [
    {
     "data": {
      "text/html": [
       "<div>\n",
       "<style scoped>\n",
       "    .dataframe tbody tr th:only-of-type {\n",
       "        vertical-align: middle;\n",
       "    }\n",
       "\n",
       "    .dataframe tbody tr th {\n",
       "        vertical-align: top;\n",
       "    }\n",
       "\n",
       "    .dataframe thead th {\n",
       "        text-align: right;\n",
       "    }\n",
       "</style>\n",
       "<table border=\"1\" class=\"dataframe\">\n",
       "  <thead>\n",
       "    <tr style=\"text-align: right;\">\n",
       "      <th></th>\n",
       "      <th>back_x</th>\n",
       "      <th>back_y</th>\n",
       "      <th>back_z</th>\n",
       "      <th>thigh_x</th>\n",
       "      <th>thigh_y</th>\n",
       "      <th>thigh_z</th>\n",
       "      <th>label</th>\n",
       "    </tr>\n",
       "  </thead>\n",
       "  <tbody>\n",
       "    <tr>\n",
       "      <th>count</th>\n",
       "      <td>2.259597e+06</td>\n",
       "      <td>2.259597e+06</td>\n",
       "      <td>2.259597e+06</td>\n",
       "      <td>2.259597e+06</td>\n",
       "      <td>2.259597e+06</td>\n",
       "      <td>2.259597e+06</td>\n",
       "      <td>2.259597e+06</td>\n",
       "    </tr>\n",
       "    <tr>\n",
       "      <th>mean</th>\n",
       "      <td>-8.699344e-01</td>\n",
       "      <td>-3.316850e-02</td>\n",
       "      <td>2.342491e-02</td>\n",
       "      <td>-6.796213e-01</td>\n",
       "      <td>2.774742e-03</td>\n",
       "      <td>-3.841220e-01</td>\n",
       "      <td>2.389224e+00</td>\n",
       "    </tr>\n",
       "    <tr>\n",
       "      <th>std</th>\n",
       "      <td>2.689122e-01</td>\n",
       "      <td>1.513270e-01</td>\n",
       "      <td>4.327357e-01</td>\n",
       "      <td>5.517539e-01</td>\n",
       "      <td>2.736956e-01</td>\n",
       "      <td>5.127760e-01</td>\n",
       "      <td>2.427948e+00</td>\n",
       "    </tr>\n",
       "    <tr>\n",
       "      <th>min</th>\n",
       "      <td>-4.333252e+00</td>\n",
       "      <td>-2.031006e+00</td>\n",
       "      <td>-2.204834e+00</td>\n",
       "      <td>-7.942139e+00</td>\n",
       "      <td>-5.142578e+00</td>\n",
       "      <td>-7.593750e+00</td>\n",
       "      <td>0.000000e+00</td>\n",
       "    </tr>\n",
       "    <tr>\n",
       "      <th>25%</th>\n",
       "      <td>-9.929200e-01</td>\n",
       "      <td>-1.096190e-01</td>\n",
       "      <td>-2.751460e-01</td>\n",
       "      <td>-9.873050e-01</td>\n",
       "      <td>-1.166990e-01</td>\n",
       "      <td>-9.860840e-01</td>\n",
       "      <td>0.000000e+00</td>\n",
       "    </tr>\n",
       "    <tr>\n",
       "      <th>50%</th>\n",
       "      <td>-9.392090e-01</td>\n",
       "      <td>-2.172900e-02</td>\n",
       "      <td>-1.125490e-01</td>\n",
       "      <td>-9.357910e-01</td>\n",
       "      <td>-1.562500e-02</td>\n",
       "      <td>-1.877440e-01</td>\n",
       "      <td>1.000000e+00</td>\n",
       "    </tr>\n",
       "    <tr>\n",
       "      <th>75%</th>\n",
       "      <td>-8.281250e-01</td>\n",
       "      <td>5.078100e-02</td>\n",
       "      <td>3.125000e-01</td>\n",
       "      <td>-7.055700e-02</td>\n",
       "      <td>1.123050e-01</td>\n",
       "      <td>-4.150000e-03</td>\n",
       "      <td>5.000000e+00</td>\n",
       "    </tr>\n",
       "    <tr>\n",
       "      <th>max</th>\n",
       "      <td>3.630370e-01</td>\n",
       "      <td>1.576660e+00</td>\n",
       "      <td>1.179199e+00</td>\n",
       "      <td>3.395264e+00</td>\n",
       "      <td>5.725098e+00</td>\n",
       "      <td>3.953369e+00</td>\n",
       "      <td>6.000000e+00</td>\n",
       "    </tr>\n",
       "  </tbody>\n",
       "</table>\n",
       "</div>"
      ],
      "text/plain": [
       "             back_x        back_y        back_z       thigh_x       thigh_y  \\\n",
       "count  2.259597e+06  2.259597e+06  2.259597e+06  2.259597e+06  2.259597e+06   \n",
       "mean  -8.699344e-01 -3.316850e-02  2.342491e-02 -6.796213e-01  2.774742e-03   \n",
       "std    2.689122e-01  1.513270e-01  4.327357e-01  5.517539e-01  2.736956e-01   \n",
       "min   -4.333252e+00 -2.031006e+00 -2.204834e+00 -7.942139e+00 -5.142578e+00   \n",
       "25%   -9.929200e-01 -1.096190e-01 -2.751460e-01 -9.873050e-01 -1.166990e-01   \n",
       "50%   -9.392090e-01 -2.172900e-02 -1.125490e-01 -9.357910e-01 -1.562500e-02   \n",
       "75%   -8.281250e-01  5.078100e-02  3.125000e-01 -7.055700e-02  1.123050e-01   \n",
       "max    3.630370e-01  1.576660e+00  1.179199e+00  3.395264e+00  5.725098e+00   \n",
       "\n",
       "            thigh_z         label  \n",
       "count  2.259597e+06  2.259597e+06  \n",
       "mean  -3.841220e-01  2.389224e+00  \n",
       "std    5.127760e-01  2.427948e+00  \n",
       "min   -7.593750e+00  0.000000e+00  \n",
       "25%   -9.860840e-01  0.000000e+00  \n",
       "50%   -1.877440e-01  1.000000e+00  \n",
       "75%   -4.150000e-03  5.000000e+00  \n",
       "max    3.953369e+00  6.000000e+00  "
      ]
     },
     "execution_count": 20,
     "metadata": {},
     "output_type": "execute_result"
    }
   ],
   "source": [
    "df.describe()"
   ]
  },
  {
   "cell_type": "markdown",
   "metadata": {},
   "source": [
    "### 2.4. Missing Values"
   ]
  },
  {
   "cell_type": "code",
   "execution_count": 19,
   "metadata": {},
   "outputs": [
    {
     "data": {
      "text/plain": [
       "timestamp    0\n",
       "back_x       0\n",
       "back_y       0\n",
       "back_z       0\n",
       "thigh_x      0\n",
       "thigh_y      0\n",
       "thigh_z      0\n",
       "label        0\n",
       "dtype: int64"
      ]
     },
     "execution_count": 19,
     "metadata": {},
     "output_type": "execute_result"
    }
   ],
   "source": [
    "# Check for missing values\n",
    "df.isnull().sum()"
   ]
  },
  {
   "cell_type": "markdown",
   "metadata": {},
   "source": [
    "There are no missing values in the dataset."
   ]
  }
 ],
 "metadata": {
  "kernelspec": {
   "display_name": "term6",
   "language": "python",
   "name": "python3"
  },
  "language_info": {
   "codemirror_mode": {
    "name": "ipython",
    "version": 3
   },
   "file_extension": ".py",
   "mimetype": "text/x-python",
   "name": "python",
   "nbconvert_exporter": "python",
   "pygments_lexer": "ipython3",
   "version": "3.12.8"
  }
 },
 "nbformat": 4,
 "nbformat_minor": 2
}
