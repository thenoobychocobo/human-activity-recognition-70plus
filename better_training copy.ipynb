{
 "cells": [
  {
   "cell_type": "code",
   "execution_count": 11,
   "metadata": {},
   "outputs": [
    {
     "name": "stdout",
     "output_type": "stream",
     "text": [
      "The autoreload extension is already loaded. To reload it, use:\n",
      "  %reload_ext autoreload\n"
     ]
    }
   ],
   "source": [
    "# Automatic reloading\n",
    "%load_ext autoreload\n",
    "%autoreload 2"
   ]
  },
  {
   "cell_type": "code",
   "execution_count": 12,
   "metadata": {},
   "outputs": [],
   "source": [
    "from src.data_preparation import *\n",
    "from src.models import *\n",
    "from src.train_eval import *\n",
    "\n",
    "import torch\n",
    "from torch.utils.data import DataLoader"
   ]
  },
  {
   "cell_type": "code",
   "execution_count": 13,
   "metadata": {},
   "outputs": [
    {
     "name": "stdout",
     "output_type": "stream",
     "text": [
      "✅ HARDataset object, normalization statistics, and split indices loaded from saved_components\n",
      "✅ Created train, validation, and test datasets (normalized to train set)\n"
     ]
    }
   ],
   "source": [
    "train_dataset, val_dataset, test_dataset, norm_stats = prepare_datasets(\n",
    "    sequence_size=100,\n",
    "    stride=50,\n",
    "    train_ratio=0.8,\n",
    "    val_ratio=0.1,\n",
    "    test_ratio=0.1,\n",
    "    load_if_exists=True\n",
    ")"
   ]
  },
  {
   "cell_type": "code",
   "execution_count": 14,
   "metadata": {},
   "outputs": [],
   "source": [
    "train_dataloader = DataLoader(train_dataset, batch_size = 64, shuffle= True)\n",
    "validation_dataloader = DataLoader(val_dataset, batch_size = 64, shuffle= True)\n",
    "test_dataloader = DataLoader(test_dataset, batch_size = 64, shuffle= True)"
   ]
  },
  {
   "cell_type": "code",
   "execution_count": 15,
   "metadata": {},
   "outputs": [
    {
     "name": "stdout",
     "output_type": "stream",
     "text": [
      "HarLSTM model loaded on cuda.\n"
     ]
    }
   ],
   "source": [
    "model = HarLSTM()\n",
    "optimizer = torch.optim.Adam(model.parameters(), lr = 0.01)"
   ]
  },
  {
   "cell_type": "code",
   "execution_count": 16,
   "metadata": {},
   "outputs": [
    {
     "name": "stdout",
     "output_type": "stream",
     "text": [
      "Epoch [1/5] | Time: 16.29s\n",
      "(Training) Loss: 206.1812\n",
      "(Validation) Loss: 16.8851, Accuracy: 0.5495, F1: 0.5383, Precision: 0.5286, Recall: 0.5495\n",
      "\n",
      "Epoch [2/5] | Time: 16.70s\n",
      "(Training) Loss: 123.1107\n",
      "(Validation) Loss: 14.0352, Accuracy: 0.5517, F1: 0.5467, Precision: 0.6071, Recall: 0.5517\n",
      "\n",
      "Epoch [3/5] | Time: 14.86s\n",
      "(Training) Loss: 111.1507\n",
      "(Validation) Loss: 14.4475, Accuracy: 0.5489, F1: 0.5511, Precision: 0.5599, Recall: 0.5489\n",
      "\n",
      "Epoch [4/5] | Time: 14.52s\n",
      "(Training) Loss: 99.4858\n",
      "(Validation) Loss: 11.9704, Accuracy: 0.5727, F1: 0.5807, Precision: 0.6759, Recall: 0.5727\n",
      "\n",
      "Epoch [5/5] | Time: 13.82s\n",
      "(Training) Loss: 89.0704\n",
      "(Validation) Loss: 11.2267, Accuracy: 0.5563, F1: 0.5557, Precision: 0.5847, Recall: 0.5563\n",
      "\n",
      "✅ Model saved: models\\HarLSTM_2025-03-11_18-06-13\\HarLSTM_epoch5.pth\n"
     ]
    }
   ],
   "source": [
    "training_loss_history, validation_loss_history, accuracy, f1, precision, recall, conf_matrix = train_HAR70_model(\n",
    "    model, \n",
    "    optimizer, \n",
    "    train_dataloader, \n",
    "    validation_dataloader, \n",
    "    num_epochs = 5\n",
    ")"
   ]
  },
  {
   "cell_type": "code",
   "execution_count": 17,
   "metadata": {},
   "outputs": [],
   "source": [
    "save_training_plots(training_loss_history, validation_loss_history, accuracy, f1, precision, recall)"
   ]
  },
  {
   "cell_type": "code",
   "execution_count": 18,
   "metadata": {},
   "outputs": [],
   "source": [
    "test_loss, final_accuracy, final_f1, final_precision, final_recall, final_conf_matrix = evaluate_HAR70_model(model, test_dataloader)"
   ]
  },
  {
   "cell_type": "code",
   "execution_count": 19,
   "metadata": {},
   "outputs": [
    {
     "data": {
      "text/plain": [
       "(10.850914034992456,\n",
       " 0.5781084299087524,\n",
       " 0.5860435962677002,\n",
       " 0.6502435803413391,\n",
       " 0.5781084299087524,\n",
       " array([[2099,    5,    2,    0,   40,    0,    0],\n",
       "        [  82,    6,    0,    0,   42,    0,    0],\n",
       "        [   3,    1,    1,    0,    2,    2,    0],\n",
       "        [   8,    1,    0,    0,    1,    0,    0],\n",
       "        [  44,    2,    0,    0,  780,    0,    0],\n",
       "        [   0,    0,    0,    0,    0,  953,    3],\n",
       "        [   0,    0,    0,    0,    0,   12,  391]]))"
      ]
     },
     "execution_count": 19,
     "metadata": {},
     "output_type": "execute_result"
    }
   ],
   "source": [
    "test_loss, final_accuracy, final_f1, final_precision, final_recall, final_conf_matrix"
   ]
  }
 ],
 "metadata": {
  "kernelspec": {
   "display_name": "term6",
   "language": "python",
   "name": "python3"
  },
  "language_info": {
   "codemirror_mode": {
    "name": "ipython",
    "version": 3
   },
   "file_extension": ".py",
   "mimetype": "text/x-python",
   "name": "python",
   "nbconvert_exporter": "python",
   "pygments_lexer": "ipython3",
   "version": "3.12.8"
  }
 },
 "nbformat": 4,
 "nbformat_minor": 2
}
